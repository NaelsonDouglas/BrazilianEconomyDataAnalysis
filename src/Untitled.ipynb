{
 "cells": [
  {
   "cell_type": "markdown",
   "metadata": {},
   "source": [
    "# Imports"
   ]
  },
  {
   "cell_type": "code",
   "execution_count": 115,
   "metadata": {},
   "outputs": [],
   "source": [
    "import requests\n",
    "import urllib\n",
    "import pandas as pd\n",
    "import io\n",
    "import os\n",
    "from matplotlib import pyplot as plt"
   ]
  },
  {
   "cell_type": "markdown",
   "metadata": {},
   "source": [
    "# Download files"
   ]
  },
  {
   "cell_type": "code",
   "execution_count": 111,
   "metadata": {},
   "outputs": [
    {
     "name": "stdout",
     "output_type": "stream",
     "text": [
      "ABONOP_012017.csv\n",
      "http://repositorio.dados.gov.br/segrt/ABONOP_012017.csv\n"
     ]
    },
    {
     "name": "stderr",
     "output_type": "stream",
     "text": [
      "b'Skipping line 3049: expected 3 fields, saw 5\\nSkipping line 66550: expected 3 fields, saw 4\\n'\n"
     ]
    },
    {
     "name": "stdout",
     "output_type": "stream",
     "text": [
      "ABONOP_022017.csv\n",
      "http://repositorio.dados.gov.br/segrt/ABONOP_022017.csv\n"
     ]
    },
    {
     "name": "stderr",
     "output_type": "stream",
     "text": [
      "b'Skipping line 3022: expected 3 fields, saw 5\\nSkipping line 66188: expected 3 fields, saw 4\\n'\n"
     ]
    },
    {
     "name": "stdout",
     "output_type": "stream",
     "text": [
      "ABONOP_032017.csv\n",
      "http://repositorio.dados.gov.br/segrt/ABONOP_032017.csv\n"
     ]
    },
    {
     "name": "stderr",
     "output_type": "stream",
     "text": [
      "b'Skipping line 2995: expected 3 fields, saw 5\\nSkipping line 21532: expected 3 fields, saw 4\\nSkipping line 66001: expected 3 fields, saw 4\\n'\n"
     ]
    },
    {
     "name": "stdout",
     "output_type": "stream",
     "text": [
      "ABONOP_042017.csv\n",
      "http://repositorio.dados.gov.br/segrt/ABONOP_042017.csv\n"
     ]
    },
    {
     "name": "stderr",
     "output_type": "stream",
     "text": [
      "b'Skipping line 2973: expected 3 fields, saw 5\\nSkipping line 21365: expected 3 fields, saw 4\\n'\n"
     ]
    },
    {
     "name": "stdout",
     "output_type": "stream",
     "text": [
      "ABONOP_052017.csv\n",
      "http://repositorio.dados.gov.br/segrt/ABONOP_052017.csv\n"
     ]
    },
    {
     "name": "stderr",
     "output_type": "stream",
     "text": [
      "b'Skipping line 2959: expected 3 fields, saw 5\\nSkipping line 21533: expected 3 fields, saw 4\\n'\n"
     ]
    },
    {
     "name": "stdout",
     "output_type": "stream",
     "text": [
      "ABONOP_062017.csv\n",
      "http://repositorio.dados.gov.br/segrt/ABONOP_062017.csv\n"
     ]
    },
    {
     "name": "stderr",
     "output_type": "stream",
     "text": [
      "b'Skipping line 2924: expected 3 fields, saw 5\\nSkipping line 21456: expected 3 fields, saw 4\\n'\n"
     ]
    },
    {
     "name": "stdout",
     "output_type": "stream",
     "text": [
      "ABONOP_072017.csv\n",
      "http://repositorio.dados.gov.br/segrt/ABONOP_072017.csv\n"
     ]
    },
    {
     "name": "stderr",
     "output_type": "stream",
     "text": [
      "b'Skipping line 2901: expected 3 fields, saw 5\\n'\n"
     ]
    },
    {
     "name": "stdout",
     "output_type": "stream",
     "text": [
      "ABONOP_082017.csv\n",
      "http://repositorio.dados.gov.br/segrt/ABONOP_082017.csv\n"
     ]
    },
    {
     "name": "stderr",
     "output_type": "stream",
     "text": [
      "b'Skipping line 2880: expected 3 fields, saw 5\\n'\n"
     ]
    },
    {
     "name": "stdout",
     "output_type": "stream",
     "text": [
      "ABONOP_092017.csv\n",
      "http://repositorio.dados.gov.br/segrt/ABONOP_092017.csv\n"
     ]
    },
    {
     "name": "stderr",
     "output_type": "stream",
     "text": [
      "b'Skipping line 2843: expected 3 fields, saw 5\\n'\n"
     ]
    },
    {
     "name": "stdout",
     "output_type": "stream",
     "text": [
      "ABONOP_102017.csv\n",
      "http://repositorio.dados.gov.br/segrt/ABONOP_102017.csv\n"
     ]
    },
    {
     "name": "stderr",
     "output_type": "stream",
     "text": [
      "b'Skipping line 2834: expected 3 fields, saw 5\\n'\n"
     ]
    },
    {
     "name": "stdout",
     "output_type": "stream",
     "text": [
      "ABONOP_112017.csv\n",
      "http://repositorio.dados.gov.br/segrt/ABONOP_112017.csv\n"
     ]
    },
    {
     "name": "stderr",
     "output_type": "stream",
     "text": [
      "b'Skipping line 2820: expected 3 fields, saw 5\\n'\n"
     ]
    },
    {
     "name": "stdout",
     "output_type": "stream",
     "text": [
      "ABONOP_122017.csv\n",
      "http://repositorio.dados.gov.br/segrt/ABONOP_122017.csv\n"
     ]
    },
    {
     "name": "stderr",
     "output_type": "stream",
     "text": [
      "b'Skipping line 2804: expected 3 fields, saw 5\\n'\n"
     ]
    },
    {
     "name": "stdout",
     "output_type": "stream",
     "text": [
      "ABONOP_012018.csv\n",
      "http://repositorio.dados.gov.br/segrt/ABONOP_012018.csv\n"
     ]
    },
    {
     "name": "stderr",
     "output_type": "stream",
     "text": [
      "b'Skipping line 2804: expected 3 fields, saw 5\\n'\n"
     ]
    },
    {
     "name": "stdout",
     "output_type": "stream",
     "text": [
      "ABONOP_022018.csv\n",
      "http://repositorio.dados.gov.br/segrt/ABONOP_022018.csv\n"
     ]
    },
    {
     "name": "stderr",
     "output_type": "stream",
     "text": [
      "b'Skipping line 2742: expected 3 fields, saw 5\\n'\n"
     ]
    },
    {
     "name": "stdout",
     "output_type": "stream",
     "text": [
      "ABONOP_032018.csv\n",
      "http://repositorio.dados.gov.br/segrt/ABONOP_032018.csv\n"
     ]
    },
    {
     "name": "stderr",
     "output_type": "stream",
     "text": [
      "b'Skipping line 2694: expected 3 fields, saw 5\\n'\n"
     ]
    },
    {
     "name": "stdout",
     "output_type": "stream",
     "text": [
      "ABONOP_042018.csv\n",
      "http://repositorio.dados.gov.br/segrt/ABONOP_042018.csv\n"
     ]
    },
    {
     "name": "stderr",
     "output_type": "stream",
     "text": [
      "b'Skipping line 2651: expected 3 fields, saw 5\\n'\n"
     ]
    },
    {
     "name": "stdout",
     "output_type": "stream",
     "text": [
      "ABONOP_052018.csv\n",
      "http://repositorio.dados.gov.br/segrt/ABONOP_052018.csv\n"
     ]
    },
    {
     "name": "stderr",
     "output_type": "stream",
     "text": [
      "b'Skipping line 2608: expected 3 fields, saw 5\\n'\n"
     ]
    },
    {
     "name": "stdout",
     "output_type": "stream",
     "text": [
      "ABONOP_062018.csv\n",
      "http://repositorio.dados.gov.br/segrt/ABONOP_062018.csv\n"
     ]
    },
    {
     "name": "stderr",
     "output_type": "stream",
     "text": [
      "b'Skipping line 2585: expected 3 fields, saw 5\\n'\n"
     ]
    },
    {
     "name": "stdout",
     "output_type": "stream",
     "text": [
      "ABONOP_072018.csv\n",
      "http://repositorio.dados.gov.br/segrt/ABONOP_072018.csv\n"
     ]
    },
    {
     "name": "stderr",
     "output_type": "stream",
     "text": [
      "b'Skipping line 2572: expected 3 fields, saw 5\\n'\n"
     ]
    },
    {
     "name": "stdout",
     "output_type": "stream",
     "text": [
      "ABONOP_082018.csv\n",
      "http://repositorio.dados.gov.br/segrt/ABONOP_082018.csv\n"
     ]
    },
    {
     "name": "stderr",
     "output_type": "stream",
     "text": [
      "b'Skipping line 2553: expected 3 fields, saw 5\\n'\n"
     ]
    },
    {
     "name": "stdout",
     "output_type": "stream",
     "text": [
      "ABONOP_092018.csv\n",
      "http://repositorio.dados.gov.br/segrt/ABONOP_092018.csv\n"
     ]
    },
    {
     "name": "stderr",
     "output_type": "stream",
     "text": [
      "b'Skipping line 2540: expected 3 fields, saw 5\\n'\n"
     ]
    },
    {
     "name": "stdout",
     "output_type": "stream",
     "text": [
      "ABONOP_102018.csv\n",
      "http://repositorio.dados.gov.br/segrt/ABONOP_102018.csv\n"
     ]
    },
    {
     "name": "stderr",
     "output_type": "stream",
     "text": [
      "b'Skipping line 2526: expected 3 fields, saw 5\\n'\n"
     ]
    },
    {
     "name": "stdout",
     "output_type": "stream",
     "text": [
      "ABONOP_112018.csv\n",
      "http://repositorio.dados.gov.br/segrt/ABONOP_112018.csv\n"
     ]
    },
    {
     "name": "stderr",
     "output_type": "stream",
     "text": [
      "b'Skipping line 2511: expected 3 fields, saw 5\\n'\n"
     ]
    },
    {
     "name": "stdout",
     "output_type": "stream",
     "text": [
      "ABONOP_122018.csv\n",
      "http://repositorio.dados.gov.br/segrt/ABONOP_122018.csv\n"
     ]
    },
    {
     "name": "stderr",
     "output_type": "stream",
     "text": [
      "b'Skipping line 2502: expected 3 fields, saw 5\\n'\n"
     ]
    },
    {
     "name": "stdout",
     "output_type": "stream",
     "text": [
      "ABONOP_012019.csv\n",
      "http://repositorio.dados.gov.br/segrt/ABONOP_012019.csv\n"
     ]
    },
    {
     "name": "stderr",
     "output_type": "stream",
     "text": [
      "b'Skipping line 2477: expected 3 fields, saw 5\\n'\n"
     ]
    },
    {
     "name": "stdout",
     "output_type": "stream",
     "text": [
      "ABONOP_022019.csv\n",
      "http://repositorio.dados.gov.br/segrt/ABONOP_022019.csv\n"
     ]
    },
    {
     "name": "stderr",
     "output_type": "stream",
     "text": [
      "b'Skipping line 2370: expected 3 fields, saw 5\\n'\n"
     ]
    },
    {
     "name": "stdout",
     "output_type": "stream",
     "text": [
      "ABONOP_032019.csv\n",
      "http://repositorio.dados.gov.br/segrt/ABONOP_032019.csv\n"
     ]
    },
    {
     "name": "stderr",
     "output_type": "stream",
     "text": [
      "b'Skipping line 2233: expected 3 fields, saw 5\\n'\n"
     ]
    },
    {
     "name": "stdout",
     "output_type": "stream",
     "text": [
      "ABONOP_042019.csv\n",
      "http://repositorio.dados.gov.br/segrt/ABONOP_042019.csv\n"
     ]
    },
    {
     "name": "stderr",
     "output_type": "stream",
     "text": [
      "b'Skipping line 2141: expected 3 fields, saw 5\\n'\n"
     ]
    },
    {
     "name": "stdout",
     "output_type": "stream",
     "text": [
      "ABONOP_052019.csv\n",
      "http://repositorio.dados.gov.br/segrt/ABONOP_052019.csv\n"
     ]
    },
    {
     "name": "stderr",
     "output_type": "stream",
     "text": [
      "b'Skipping line 2067: expected 3 fields, saw 5\\n'\n"
     ]
    },
    {
     "name": "stdout",
     "output_type": "stream",
     "text": [
      "ABONOP_062019.csv\n",
      "http://repositorio.dados.gov.br/segrt/ABONOP_062019.csv\n"
     ]
    },
    {
     "name": "stderr",
     "output_type": "stream",
     "text": [
      "b'Skipping line 2000: expected 3 fields, saw 5\\n'\n"
     ]
    },
    {
     "name": "stdout",
     "output_type": "stream",
     "text": [
      "ABONOP_072019.csv\n",
      "http://repositorio.dados.gov.br/segrt/ABONOP_072019.csv\n"
     ]
    },
    {
     "name": "stderr",
     "output_type": "stream",
     "text": [
      "b'Skipping line 1943: expected 3 fields, saw 5\\n'\n"
     ]
    },
    {
     "name": "stdout",
     "output_type": "stream",
     "text": [
      "ABONOP_082019.csv\n",
      "http://repositorio.dados.gov.br/segrt/ABONOP_082019.csv\n",
      "ABONOP_092019.csv\n",
      "http://repositorio.dados.gov.br/segrt/ABONOP_092019.csv\n",
      "ABONOP_102019.csv\n",
      "http://repositorio.dados.gov.br/segrt/ABONOP_102019.csv\n"
     ]
    },
    {
     "name": "stderr",
     "output_type": "stream",
     "text": [
      "b'Skipping line 40893: expected 3 fields, saw 4\\n'\n"
     ]
    },
    {
     "name": "stdout",
     "output_type": "stream",
     "text": [
      "ABONOP_112019.csv\n",
      "http://repositorio.dados.gov.br/segrt/ABONOP_112019.csv\n"
     ]
    },
    {
     "name": "stderr",
     "output_type": "stream",
     "text": [
      "b'Skipping line 40337: expected 3 fields, saw 4\\n'\n"
     ]
    },
    {
     "name": "stdout",
     "output_type": "stream",
     "text": [
      "ABONOP_122019.csv\n",
      "http://repositorio.dados.gov.br/segrt/ABONOP_122019.csv\n"
     ]
    },
    {
     "name": "stderr",
     "output_type": "stream",
     "text": [
      "b'Skipping line 40097: expected 3 fields, saw 4\\n'\n"
     ]
    },
    {
     "name": "stdout",
     "output_type": "stream",
     "text": [
      "ABONOP_012020.csv\n",
      "http://repositorio.dados.gov.br/segrt/ABONOP_012020.csv\n"
     ]
    },
    {
     "name": "stderr",
     "output_type": "stream",
     "text": [
      "b'Skipping line 39491: expected 3 fields, saw 4\\n'\n"
     ]
    },
    {
     "name": "stdout",
     "output_type": "stream",
     "text": [
      "ABONOP_022020.csv\n",
      "http://repositorio.dados.gov.br/segrt/ABONOP_022020.csv\n",
      "ABONOP_032020.csv\n",
      "http://repositorio.dados.gov.br/segrt/ABONOP_032020.csv\n",
      "ABONOP_042020.csv\n",
      "http://repositorio.dados.gov.br/segrt/ABONOP_042020.csv\n",
      "ABONOP_052020.csv\n",
      "http://repositorio.dados.gov.br/segrt/ABONOP_052020.csv\n",
      "ABONOP_062020.csv\n",
      "http://repositorio.dados.gov.br/segrt/ABONOP_062020.csv\n",
      "ABONOP_072020.csv\n",
      "http://repositorio.dados.gov.br/segrt/ABONOP_072020.csv\n"
     ]
    },
    {
     "name": "stderr",
     "output_type": "stream",
     "text": [
      "b'Skipping line 61618: expected 3 fields, saw 4\\nSkipping line 61619: expected 3 fields, saw 4\\nSkipping line 61620: expected 3 fields, saw 4\\nSkipping line 61621: expected 3 fields, saw 4\\nSkipping line 61622: expected 3 fields, saw 4\\nSkipping line 61623: expected 3 fields, saw 4\\nSkipping line 61624: expected 3 fields, saw 4\\nSkipping line 61625: expected 3 fields, saw 4\\nSkipping line 61626: expected 3 fields, saw 4\\nSkipping line 61627: expected 3 fields, saw 4\\nSkipping line 61628: expected 3 fields, saw 4\\nSkipping line 61629: expected 3 fields, saw 4\\nSkipping line 61630: expected 3 fields, saw 4\\nSkipping line 61631: expected 3 fields, saw 4\\nSkipping line 61632: expected 3 fields, saw 4\\nSkipping line 61633: expected 3 fields, saw 4\\nSkipping line 61634: expected 3 fields, saw 4\\nSkipping line 61635: expected 3 fields, saw 4\\nSkipping line 61636: expected 3 fields, saw 4\\nSkipping line 61637: expected 3 fields, saw 4\\nSkipping line 61638: expected 3 fields, saw 4\\nSkipping line 61639: expected 3 fields, saw 4\\nSkipping line 61640: expected 3 fields, saw 4\\nSkipping line 61641: expected 3 fields, saw 4\\nSkipping line 61642: expected 3 fields, saw 4\\nSkipping line 61643: expected 3 fields, saw 4\\nSkipping line 61644: expected 3 fields, saw 4\\nSkipping line 61645: expected 3 fields, saw 4\\nSkipping line 61646: expected 3 fields, saw 4\\nSkipping line 61647: expected 3 fields, saw 4\\nSkipping line 61648: expected 3 fields, saw 4\\nSkipping line 61649: expected 3 fields, saw 4\\nSkipping line 61650: expected 3 fields, saw 4\\nSkipping line 61651: expected 3 fields, saw 4\\nSkipping line 61652: expected 3 fields, saw 4\\nSkipping line 61653: expected 3 fields, saw 4\\nSkipping line 61654: expected 3 fields, saw 4\\nSkipping line 61655: expected 3 fields, saw 4\\nSkipping line 61656: expected 3 fields, saw 4\\nSkipping line 61657: expected 3 fields, saw 4\\nSkipping line 61658: expected 3 fields, saw 4\\nSkipping line 61659: expected 3 fields, saw 4\\nSkipping line 61660: expected 3 fields, saw 4\\nSkipping line 61661: expected 3 fields, saw 4\\nSkipping line 61662: expected 3 fields, saw 4\\nSkipping line 61663: expected 3 fields, saw 4\\nSkipping line 61664: expected 3 fields, saw 4\\nSkipping line 61665: expected 3 fields, saw 4\\nSkipping line 61666: expected 3 fields, saw 4\\nSkipping line 61667: expected 3 fields, saw 4\\nSkipping line 61668: expected 3 fields, saw 4\\nSkipping line 61669: expected 3 fields, saw 4\\nSkipping line 61670: expected 3 fields, saw 4\\nSkipping line 61671: expected 3 fields, saw 4\\nSkipping line 61672: expected 3 fields, saw 4\\nSkipping line 61673: expected 3 fields, saw 4\\nSkipping line 61674: expected 3 fields, saw 4\\nSkipping line 61675: expected 3 fields, saw 4\\nSkipping line 61676: expected 3 fields, saw 4\\nSkipping line 61677: expected 3 fields, saw 4\\nSkipping line 61678: expected 3 fields, saw 4\\nSkipping line 61679: expected 3 fields, saw 4\\nSkipping line 61680: expected 3 fields, saw 4\\nSkipping line 61681: expected 3 fields, saw 4\\nSkipping line 61682: expected 3 fields, saw 4\\nSkipping line 61683: expected 3 fields, saw 4\\nSkipping line 61684: expected 3 fields, saw 4\\nSkipping line 61685: expected 3 fields, saw 4\\nSkipping line 61686: expected 3 fields, saw 4\\nSkipping line 61687: expected 3 fields, saw 4\\nSkipping line 61688: expected 3 fields, saw 4\\nSkipping line 61689: expected 3 fields, saw 4\\nSkipping line 61690: expected 3 fields, saw 4\\nSkipping line 61691: expected 3 fields, saw 4\\nSkipping line 61692: expected 3 fields, saw 4\\nSkipping line 61693: expected 3 fields, saw 4\\nSkipping line 61694: expected 3 fields, saw 4\\nSkipping line 61695: expected 3 fields, saw 4\\nSkipping line 61696: expected 3 fields, saw 4\\nSkipping line 61697: expected 3 fields, saw 4\\nSkipping line 61698: expected 3 fields, saw 4\\nSkipping line 61699: expected 3 fields, saw 4\\nSkipping line 61700: expected 3 fields, saw 4\\nSkipping line 61701: expected 3 fields, saw 4\\nSkipping line 61702: expected 3 fields, saw 4\\nSkipping line 61703: expected 3 fields, saw 4\\nSkipping line 61704: expected 3 fields, saw 4\\nSkipping line 61705: expected 3 fields, saw 4\\nSkipping line 61706: expected 3 fields, saw 4\\nSkipping line 61707: expected 3 fields, saw 4\\nSkipping line 61708: expected 3 fields, saw 4\\nSkipping line 61709: expected 3 fields, saw 4\\nSkipping line 61710: expected 3 fields, saw 4\\nSkipping line 61711: expected 3 fields, saw 4\\nSkipping line 61712: expected 3 fields, saw 4\\nSkipping line 61713: expected 3 fields, saw 4\\nSkipping line 61714: expected 3 fields, saw 4\\nSkipping line 61715: expected 3 fields, saw 4\\nSkipping line 61716: expected 3 fields, saw 4\\nSkipping line 61717: expected 3 fields, saw 4\\nSkipping line 61718: expected 3 fields, saw 4\\nSkipping line 61719: expected 3 fields, saw 4\\nSkipping line 61720: expected 3 fields, saw 4\\nSkipping line 61721: expected 3 fields, saw 4\\nSkipping line 61722: expected 3 fields, saw 4\\nSkipping line 61723: expected 3 fields, saw 4\\nSkipping line 61724: expected 3 fields, saw 4\\nSkipping line 61725: expected 3 fields, saw 4\\nSkipping line 61726: expected 3 fields, saw 4\\nSkipping line 61727: expected 3 fields, saw 4\\nSkipping line 61728: expected 3 fields, saw 4\\nSkipping line 61729: expected 3 fields, saw 4\\nSkipping line 61730: expected 3 fields, saw 4\\nSkipping line 61731: expected 3 fields, saw 4\\nSkipping line 61732: expected 3 fields, saw 4\\nSkipping line 61733: expected 3 fields, saw 4\\nSkipping line 61734: expected 3 fields, saw 4\\nSkipping line 61735: expected 3 fields, saw 4\\nSkipping line 61736: expected 3 fields, saw 4\\nSkipping line 61737: expected 3 fields, saw 4\\nSkipping line 61738: expected 3 fields, saw 4\\nSkipping line 61739: expected 3 fields, saw 4\\nSkipping line 61740: expected 3 fields, saw 4\\nSkipping line 61741: expected 3 fields, saw 4\\nSkipping line 61742: expected 3 fields, saw 4\\nSkipping line 61743: expected 3 fields, saw 4\\nSkipping line 61744: expected 3 fields, saw 4\\nSkipping line 61745: expected 3 fields, saw 4\\nSkipping line 61746: expected 3 fields, saw 4\\nSkipping line 61747: expected 3 fields, saw 4\\nSkipping line 61748: expected 3 fields, saw 4\\nSkipping line 61749: expected 3 fields, saw 4\\nSkipping line 61750: expected 3 fields, saw 4\\nSkipping line 61751: expected 3 fields, saw 4\\nSkipping line 61752: expected 3 fields, saw 4\\nSkipping line 61753: expected 3 fields, saw 4\\nSkipping line 61754: expected 3 fields, saw 4\\nSkipping line 61755: expected 3 fields, saw 4\\nSkipping line 61756: expected 3 fields, saw 4\\nSkipping line 61757: expected 3 fields, saw 4\\nSkipping line 61758: expected 3 fields, saw 4\\nSkipping line 61759: expected 3 fields, saw 4\\nSkipping line 61760: expected 3 fields, saw 4\\nSkipping line 61761: expected 3 fields, saw 4\\nSkipping line 61762: expected 3 fields, saw 4\\nSkipping line 61763: expected 3 fields, saw 4\\nSkipping line 61764: expected 3 fields, saw 4\\nSkipping line 61765: expected 3 fields, saw 4\\nSkipping line 61766: expected 3 fields, saw 4\\nSkipping line 61767: expected 3 fields, saw 4\\nSkipping line 61768: expected 3 fields, saw 4\\nSkipping line 61769: expected 3 fields, saw 4\\nSkipping line 61770: expected 3 fields, saw 4\\nSkipping line 61771: expected 3 fields, saw 4\\nSkipping line 61772: expected 3 fields, saw 4\\nSkipping line 61773: expected 3 fields, saw 4\\nSkipping line 61774: expected 3 fields, saw 4\\nSkipping line 61775: expected 3 fields, saw 4\\nSkipping line 61776: expected 3 fields, saw 4\\nSkipping line 61777: expected 3 fields, saw 4\\nSkipping line 61778: expected 3 fields, saw 4\\nSkipping line 61779: expected 3 fields, saw 4\\nSkipping line 61780: expected 3 fields, saw 4\\nSkipping line 61781: expected 3 fields, saw 4\\nSkipping line 61782: expected 3 fields, saw 4\\nSkipping line 61783: expected 3 fields, saw 4\\nSkipping line 61784: expected 3 fields, saw 4\\nSkipping line 61785: expected 3 fields, saw 4\\nSkipping line 61786: expected 3 fields, saw 4\\nSkipping line 61787: expected 3 fields, saw 4\\nSkipping line 61788: expected 3 fields, saw 4\\nSkipping line 61789: expected 3 fields, saw 4\\nSkipping line 61790: expected 3 fields, saw 4\\nSkipping line 61791: expected 3 fields, saw 4\\nSkipping line 61792: expected 3 fields, saw 4\\nSkipping line 61793: expected 3 fields, saw 4\\nSkipping line 61794: expected 3 fields, saw 4\\nSkipping line 61795: expected 3 fields, saw 4\\nSkipping line 61796: expected 3 fields, saw 4\\nSkipping line 61797: expected 3 fields, saw 4\\nSkipping line 61798: expected 3 fields, saw 4\\nSkipping line 61799: expected 3 fields, saw 4\\nSkipping line 61800: expected 3 fields, saw 4\\nSkipping line 61801: expected 3 fields, saw 4\\nSkipping line 61802: expected 3 fields, saw 4\\nSkipping line 61803: expected 3 fields, saw 4\\nSkipping line 61804: expected 3 fields, saw 4\\nSkipping line 61805: expected 3 fields, saw 4\\nSkipping line 61806: expected 3 fields, saw 4\\nSkipping line 61807: expected 3 fields, saw 4\\nSkipping line 61808: expected 3 fields, saw 4\\nSkipping line 61809: expected 3 fields, saw 4\\nSkipping line 61810: expected 3 fields, saw 4\\nSkipping line 61811: expected 3 fields, saw 4\\nSkipping line 61812: expected 3 fields, saw 4\\nSkipping line 61813: expected 3 fields, saw 4\\nSkipping line 61814: expected 3 fields, saw 4\\nSkipping line 61815: expected 3 fields, saw 4\\nSkipping line 61816: expected 3 fields, saw 4\\nSkipping line 61817: expected 3 fields, saw 4\\nSkipping line 61818: expected 3 fields, saw 4\\nSkipping line 61819: expected 3 fields, saw 4\\nSkipping line 61820: expected 3 fields, saw 4\\nSkipping line 61821: expected 3 fields, saw 4\\nSkipping line 61822: expected 3 fields, saw 4\\nSkipping line 61823: expected 3 fields, saw 4\\nSkipping line 61824: expected 3 fields, saw 4\\nSkipping line 61825: expected 3 fields, saw 4\\nSkipping line 61826: expected 3 fields, saw 4\\nSkipping line 61827: expected 3 fields, saw 4\\nSkipping line 61828: expected 3 fields, saw 4\\nSkipping line 61829: expected 3 fields, saw 4\\nSkipping line 61830: expected 3 fields, saw 4\\nSkipping line 61831: expected 3 fields, saw 4\\nSkipping line 61832: expected 3 fields, saw 4\\nSkipping line 61833: expected 3 fields, saw 4\\nSkipping line 61834: expected 3 fields, saw 4\\nSkipping line 61835: expected 3 fields, saw 4\\nSkipping line 61836: expected 3 fields, saw 4\\nSkipping line 61837: expected 3 fields, saw 4\\nSkipping line 61838: expected 3 fields, saw 4\\nSkipping line 61839: expected 3 fields, saw 4\\nSkipping line 61840: expected 3 fields, saw 4\\nSkipping line 61841: expected 3 fields, saw 4\\nSkipping line 61842: expected 3 fields, saw 4\\nSkipping line 61843: expected 3 fields, saw 4\\nSkipping line 61844: expected 3 fields, saw 4\\nSkipping line 61845: expected 3 fields, saw 4\\nSkipping line 61846: expected 3 fields, saw 4\\nSkipping line 61847: expected 3 fields, saw 4\\nSkipping line 61848: expected 3 fields, saw 4\\nSkipping line 61849: expected 3 fields, saw 4\\nSkipping line 61850: expected 3 fields, saw 4\\nSkipping line 61851: expected 3 fields, saw 4\\nSkipping line 61852: expected 3 fields, saw 4\\nSkipping line 61853: expected 3 fields, saw 4\\nSkipping line 61854: expected 3 fields, saw 4\\nSkipping line 61855: expected 3 fields, saw 4\\nSkipping line 61856: expected 3 fields, saw 4\\nSkipping line 61857: expected 3 fields, saw 4\\nSkipping line 61858: expected 3 fields, saw 4\\nSkipping line 61859: expected 3 fields, saw 4\\nSkipping line 61860: expected 3 fields, saw 4\\nSkipping line 61861: expected 3 fields, saw 4\\nSkipping line 61862: expected 3 fields, saw 4\\nSkipping line 61863: expected 3 fields, saw 4\\nSkipping line 61864: expected 3 fields, saw 4\\nSkipping line 61865: expected 3 fields, saw 4\\nSkipping line 61866: expected 3 fields, saw 4\\nSkipping line 61867: expected 3 fields, saw 4\\nSkipping line 61868: expected 3 fields, saw 4\\nSkipping line 61869: expected 3 fields, saw 4\\nSkipping line 61870: expected 3 fields, saw 4\\nSkipping line 61871: expected 3 fields, saw 4\\nSkipping line 61872: expected 3 fields, saw 4\\nSkipping line 61873: expected 3 fields, saw 4\\nSkipping line 61874: expected 3 fields, saw 4\\nSkipping line 61875: expected 3 fields, saw 4\\nSkipping line 61876: expected 3 fields, saw 4\\nSkipping line 61877: expected 3 fields, saw 4\\nSkipping line 61878: expected 3 fields, saw 4\\nSkipping line 61879: expected 3 fields, saw 4\\nSkipping line 61880: expected 3 fields, saw 4\\nSkipping line 61881: expected 3 fields, saw 4\\nSkipping line 61882: expected 3 fields, saw 4\\nSkipping line 61883: expected 3 fields, saw 4\\nSkipping line 61884: expected 3 fields, saw 4\\nSkipping line 61885: expected 3 fields, saw 4\\nSkipping line 61886: expected 3 fields, saw 4\\nSkipping line 61887: expected 3 fields, saw 4\\nSkipping line 61888: expected 3 fields, saw 4\\nSkipping line 61889: expected 3 fields, saw 4\\nSkipping line 61890: expected 3 fields, saw 4\\nSkipping line 61891: expected 3 fields, saw 4\\nSkipping line 61892: expected 3 fields, saw 4\\nSkipping line 61893: expected 3 fields, saw 4\\nSkipping line 61894: expected 3 fields, saw 4\\nSkipping line 61895: expected 3 fields, saw 4\\nSkipping line 61896: expected 3 fields, saw 4\\nSkipping line 61897: expected 3 fields, saw 4\\nSkipping line 61898: expected 3 fields, saw 4\\nSkipping line 61899: expected 3 fields, saw 4\\nSkipping line 61900: expected 3 fields, saw 4\\nSkipping line 61901: expected 3 fields, saw 4\\nSkipping line 61902: expected 3 fields, saw 4\\nSkipping line 61903: expected 3 fields, saw 4\\nSkipping line 61904: expected 3 fields, saw 4\\nSkipping line 61905: expected 3 fields, saw 4\\nSkipping line 61906: expected 3 fields, saw 4\\nSkipping line 61907: expected 3 fields, saw 4\\nSkipping line 61908: expected 3 fields, saw 4\\nSkipping line 61909: expected 3 fields, saw 4\\nSkipping line 61910: expected 3 fields, saw 4\\nSkipping line 61911: expected 3 fields, saw 4\\nSkipping line 61912: expected 3 fields, saw 4\\nSkipping line 61913: expected 3 fields, saw 4\\nSkipping line 61914: expected 3 fields, saw 4\\nSkipping line 61915: expected 3 fields, saw 4\\nSkipping line 61916: expected 3 fields, saw 4\\nSkipping line 61917: expected 3 fields, saw 4\\nSkipping line 61918: expected 3 fields, saw 4\\nSkipping line 61919: expected 3 fields, saw 4\\nSkipping line 61920: expected 3 fields, saw 4\\nSkipping line 61921: expected 3 fields, saw 4\\nSkipping line 61922: expected 3 fields, saw 4\\nSkipping line 61923: expected 3 fields, saw 4\\nSkipping line 61924: expected 3 fields, saw 4\\nSkipping line 61925: expected 3 fields, saw 4\\nSkipping line 61926: expected 3 fields, saw 4\\nSkipping line 61927: expected 3 fields, saw 4\\nSkipping line 61928: expected 3 fields, saw 4\\nSkipping line 61929: expected 3 fields, saw 4\\nSkipping line 61930: expected 3 fields, saw 4\\nSkipping line 61931: expected 3 fields, saw 4\\nSkipping line 61932: expected 3 fields, saw 4\\nSkipping line 61933: expected 3 fields, saw 4\\nSkipping line 61934: expected 3 fields, saw 4\\nSkipping line 61935: expected 3 fields, saw 4\\nSkipping line 61936: expected 3 fields, saw 4\\nSkipping line 61937: expected 3 fields, saw 4\\nSkipping line 61938: expected 3 fields, saw 4\\nSkipping line 61939: expected 3 fields, saw 4\\nSkipping line 61940: expected 3 fields, saw 4\\nSkipping line 61941: expected 3 fields, saw 4\\nSkipping line 61942: expected 3 fields, saw 4\\nSkipping line 61943: expected 3 fields, saw 4\\nSkipping line 61944: expected 3 fields, saw 4\\nSkipping line 61945: expected 3 fields, saw 4\\nSkipping line 61946: expected 3 fields, saw 4\\nSkipping line 61947: expected 3 fields, saw 4\\nSkipping line 61948: expected 3 fields, saw 4\\nSkipping line 61949: expected 3 fields, saw 4\\nSkipping line 61950: expected 3 fields, saw 4\\nSkipping line 61951: expected 3 fields, saw 4\\nSkipping line 61952: expected 3 fields, saw 4\\nSkipping line 61953: expected 3 fields, saw 4\\nSkipping line 61954: expected 3 fields, saw 4\\nSkipping line 61955: expected 3 fields, saw 4\\nSkipping line 61956: expected 3 fields, saw 4\\nSkipping line 61957: expected 3 fields, saw 4\\nSkipping line 61958: expected 3 fields, saw 4\\nSkipping line 61959: expected 3 fields, saw 4\\nSkipping line 61960: expected 3 fields, saw 4\\nSkipping line 61961: expected 3 fields, saw 4\\nSkipping line 61962: expected 3 fields, saw 4\\nSkipping line 61963: expected 3 fields, saw 4\\nSkipping line 61964: expected 3 fields, saw 4\\nSkipping line 61965: expected 3 fields, saw 4\\nSkipping line 61966: expected 3 fields, saw 4\\nSkipping line 61967: expected 3 fields, saw 4\\nSkipping line 61968: expected 3 fields, saw 4\\nSkipping line 61969: expected 3 fields, saw 4\\nSkipping line 61970: expected 3 fields, saw 4\\nSkipping line 61971: expected 3 fields, saw 4\\nSkipping line 61972: expected 3 fields, saw 4\\nSkipping line 61973: expected 3 fields, saw 4\\nSkipping line 61974: expected 3 fields, saw 4\\nSkipping line 61975: expected 3 fields, saw 4\\nSkipping line 61976: expected 3 fields, saw 4\\nSkipping line 61977: expected 3 fields, saw 4\\nSkipping line 61978: expected 3 fields, saw 4\\nSkipping line 61979: expected 3 fields, saw 4\\nSkipping line 61980: expected 3 fields, saw 4\\nSkipping line 61981: expected 3 fields, saw 4\\nSkipping line 61982: expected 3 fields, saw 4\\nSkipping line 61983: expected 3 fields, saw 4\\nSkipping line 61984: expected 3 fields, saw 4\\nSkipping line 61985: expected 3 fields, saw 4\\nSkipping line 61986: expected 3 fields, saw 4\\nSkipping line 61987: expected 3 fields, saw 4\\nSkipping line 61988: expected 3 fields, saw 4\\nSkipping line 61989: expected 3 fields, saw 4\\nSkipping line 61990: expected 3 fields, saw 4\\nSkipping line 61991: expected 3 fields, saw 4\\nSkipping line 61992: expected 3 fields, saw 4\\nSkipping line 61993: expected 3 fields, saw 4\\nSkipping line 61994: expected 3 fields, saw 4\\nSkipping line 61995: expected 3 fields, saw 4\\nSkipping line 61996: expected 3 fields, saw 4\\nSkipping line 61997: expected 3 fields, saw 4\\nSkipping line 61998: expected 3 fields, saw 4\\nSkipping line 61999: expected 3 fields, saw 4\\nSkipping line 62000: expected 3 fields, saw 4\\nSkipping line 62001: expected 3 fields, saw 4\\nSkipping line 62002: expected 3 fields, saw 4\\nSkipping line 62003: expected 3 fields, saw 4\\nSkipping line 62004: expected 3 fields, saw 4\\nSkipping line 62005: expected 3 fields, saw 4\\nSkipping line 62006: expected 3 fields, saw 4\\nSkipping line 62007: expected 3 fields, saw 4\\nSkipping line 62008: expected 3 fields, saw 4\\nSkipping line 62009: expected 3 fields, saw 4\\nSkipping line 62010: expected 3 fields, saw 4\\nSkipping line 62011: expected 3 fields, saw 4\\nSkipping line 62012: expected 3 fields, saw 4\\nSkipping line 62013: expected 3 fields, saw 4\\nSkipping line 62014: expected 3 fields, saw 4\\nSkipping line 62015: expected 3 fields, saw 4\\nSkipping line 62016: expected 3 fields, saw 4\\nSkipping line 62017: expected 3 fields, saw 4\\nSkipping line 62018: expected 3 fields, saw 4\\nSkipping line 62019: expected 3 fields, saw 4\\nSkipping line 62020: expected 3 fields, saw 4\\nSkipping line 62021: expected 3 fields, saw 4\\nSkipping line 62022: expected 3 fields, saw 4\\nSkipping line 62023: expected 3 fields, saw 4\\nSkipping line 62024: expected 3 fields, saw 4\\nSkipping line 62025: expected 3 fields, saw 4\\nSkipping line 62026: expected 3 fields, saw 4\\nSkipping line 62027: expected 3 fields, saw 4\\nSkipping line 62028: expected 3 fields, saw 4\\nSkipping line 62029: expected 3 fields, saw 4\\nSkipping line 62030: expected 3 fields, saw 4\\nSkipping line 62031: expected 3 fields, saw 4\\nSkipping line 62032: expected 3 fields, saw 4\\nSkipping line 62033: expected 3 fields, saw 4\\nSkipping line 62034: expected 3 fields, saw 4\\nSkipping line 62035: expected 3 fields, saw 4\\nSkipping line 62036: expected 3 fields, saw 4\\nSkipping line 62037: expected 3 fields, saw 4\\nSkipping line 62038: expected 3 fields, saw 4\\nSkipping line 62039: expected 3 fields, saw 4\\nSkipping line 62040: expected 3 fields, saw 4\\nSkipping line 62041: expected 3 fields, saw 4\\nSkipping line 62042: expected 3 fields, saw 4\\nSkipping line 62043: expected 3 fields, saw 4\\nSkipping line 62044: expected 3 fields, saw 4\\nSkipping line 62045: expected 3 fields, saw 4\\nSkipping line 62046: expected 3 fields, saw 4\\nSkipping line 62047: expected 3 fields, saw 4\\nSkipping line 62048: expected 3 fields, saw 4\\nSkipping line 62049: expected 3 fields, saw 4\\nSkipping line 62050: expected 3 fields, saw 4\\nSkipping line 62051: expected 3 fields, saw 4\\nSkipping line 62052: expected 3 fields, saw 4\\nSkipping line 62053: expected 3 fields, saw 4\\nSkipping line 62054: expected 3 fields, saw 4\\nSkipping line 62055: expected 3 fields, saw 4\\nSkipping line 62056: expected 3 fields, saw 4\\nSkipping line 62057: expected 3 fields, saw 4\\nSkipping line 62058: expected 3 fields, saw 4\\nSkipping line 62059: expected 3 fields, saw 4\\nSkipping line 62060: expected 3 fields, saw 4\\nSkipping line 62061: expected 3 fields, saw 4\\nSkipping line 62062: expected 3 fields, saw 4\\nSkipping line 62063: expected 3 fields, saw 4\\nSkipping line 62064: expected 3 fields, saw 4\\nSkipping line 62065: expected 3 fields, saw 4\\nSkipping line 62066: expected 3 fields, saw 4\\nSkipping line 62067: expected 3 fields, saw 4\\nSkipping line 62068: expected 3 fields, saw 4\\nSkipping line 62069: expected 3 fields, saw 4\\nSkipping line 62070: expected 3 fields, saw 4\\nSkipping line 62071: expected 3 fields, saw 4\\nSkipping line 62072: expected 3 fields, saw 4\\nSkipping line 62073: expected 3 fields, saw 4\\nSkipping line 62074: expected 3 fields, saw 4\\nSkipping line 62075: expected 3 fields, saw 4\\nSkipping line 62076: expected 3 fields, saw 4\\nSkipping line 62077: expected 3 fields, saw 4\\nSkipping line 62078: expected 3 fields, saw 4\\nSkipping line 62079: expected 3 fields, saw 4\\nSkipping line 62080: expected 3 fields, saw 4\\nSkipping line 62081: expected 3 fields, saw 4\\nSkipping line 62082: expected 3 fields, saw 4\\nSkipping line 62083: expected 3 fields, saw 4\\nSkipping line 62084: expected 3 fields, saw 4\\nSkipping line 62085: expected 3 fields, saw 4\\nSkipping line 62086: expected 3 fields, saw 4\\nSkipping line 62087: expected 3 fields, saw 4\\nSkipping line 62088: expected 3 fields, saw 4\\nSkipping line 62089: expected 3 fields, saw 4\\nSkipping line 62090: expected 3 fields, saw 4\\nSkipping line 62091: expected 3 fields, saw 4\\nSkipping line 62092: expected 3 fields, saw 4\\nSkipping line 62093: expected 3 fields, saw 4\\nSkipping line 62094: expected 3 fields, saw 4\\nSkipping line 62095: expected 3 fields, saw 4\\nSkipping line 62096: expected 3 fields, saw 4\\nSkipping line 62097: expected 3 fields, saw 4\\nSkipping line 62098: expected 3 fields, saw 4\\nSkipping line 62099: expected 3 fields, saw 4\\nSkipping line 62100: expected 3 fields, saw 4\\nSkipping line 62101: expected 3 fields, saw 4\\nSkipping line 62102: expected 3 fields, saw 4\\nSkipping line 62103: expected 3 fields, saw 4\\nSkipping line 62104: expected 3 fields, saw 4\\nSkipping line 62105: expected 3 fields, saw 4\\nSkipping line 62106: expected 3 fields, saw 4\\nSkipping line 62107: expected 3 fields, saw 4\\nSkipping line 62108: expected 3 fields, saw 4\\nSkipping line 62109: expected 3 fields, saw 4\\nSkipping line 62110: expected 3 fields, saw 4\\nSkipping line 62111: expected 3 fields, saw 4\\nSkipping line 62112: expected 3 fields, saw 4\\nSkipping line 62113: expected 3 fields, saw 4\\nSkipping line 62114: expected 3 fields, saw 4\\nSkipping line 62115: expected 3 fields, saw 4\\nSkipping line 62116: expected 3 fields, saw 4\\nSkipping line 62117: expected 3 fields, saw 4\\nSkipping line 62118: expected 3 fields, saw 4\\nSkipping line 62119: expected 3 fields, saw 4\\nSkipping line 62120: expected 3 fields, saw 4\\nSkipping line 62121: expected 3 fields, saw 4\\nSkipping line 62122: expected 3 fields, saw 4\\nSkipping line 62123: expected 3 fields, saw 4\\nSkipping line 62124: expected 3 fields, saw 4\\nSkipping line 62125: expected 3 fields, saw 4\\nSkipping line 62126: expected 3 fields, saw 4\\nSkipping line 62127: expected 3 fields, saw 4\\nSkipping line 62128: expected 3 fields, saw 4\\nSkipping line 62129: expected 3 fields, saw 4\\nSkipping line 62130: expected 3 fields, saw 4\\nSkipping line 62131: expected 3 fields, saw 4\\nSkipping line 62132: expected 3 fields, saw 4\\nSkipping line 62133: expected 3 fields, saw 4\\nSkipping line 62134: expected 3 fields, saw 4\\nSkipping line 62135: expected 3 fields, saw 4\\nSkipping line 62136: expected 3 fields, saw 4\\nSkipping line 62137: expected 3 fields, saw 4\\nSkipping line 62138: expected 3 fields, saw 4\\nSkipping line 62139: expected 3 fields, saw 4\\nSkipping line 62140: expected 3 fields, saw 4\\nSkipping line 62141: expected 3 fields, saw 4\\nSkipping line 62142: expected 3 fields, saw 4\\nSkipping line 62143: expected 3 fields, saw 4\\nSkipping line 62144: expected 3 fields, saw 4\\nSkipping line 62145: expected 3 fields, saw 4\\nSkipping line 62146: expected 3 fields, saw 4\\nSkipping line 62147: expected 3 fields, saw 4\\nSkipping line 62148: expected 3 fields, saw 4\\nSkipping line 62149: expected 3 fields, saw 4\\nSkipping line 62150: expected 3 fields, saw 4\\nSkipping line 62151: expected 3 fields, saw 4\\nSkipping line 62152: expected 3 fields, saw 4\\nSkipping line 62153: expected 3 fields, saw 4\\nSkipping line 62154: expected 3 fields, saw 4\\nSkipping line 62155: expected 3 fields, saw 4\\nSkipping line 62156: expected 3 fields, saw 4\\nSkipping line 62157: expected 3 fields, saw 4\\nSkipping line 62158: expected 3 fields, saw 4\\nSkipping line 62159: expected 3 fields, saw 4\\nSkipping line 62160: expected 3 fields, saw 4\\nSkipping line 62161: expected 3 fields, saw 4\\nSkipping line 62162: expected 3 fields, saw 4\\nSkipping line 62163: expected 3 fields, saw 4\\nSkipping line 62164: expected 3 fields, saw 4\\nSkipping line 62165: expected 3 fields, saw 4\\nSkipping line 62166: expected 3 fields, saw 4\\nSkipping line 62167: expected 3 fields, saw 4\\nSkipping line 62168: expected 3 fields, saw 4\\nSkipping line 62169: expected 3 fields, saw 4\\nSkipping line 62170: expected 3 fields, saw 4\\nSkipping line 62171: expected 3 fields, saw 4\\nSkipping line 62172: expected 3 fields, saw 4\\nSkipping line 62173: expected 3 fields, saw 4\\nSkipping line 62174: expected 3 fields, saw 4\\nSkipping line 62175: expected 3 fields, saw 4\\nSkipping line 62176: expected 3 fields, saw 4\\nSkipping line 62177: expected 3 fields, saw 4\\nSkipping line 62178: expected 3 fields, saw 4\\nSkipping line 62179: expected 3 fields, saw 4\\nSkipping line 62180: expected 3 fields, saw 4\\nSkipping line 62181: expected 3 fields, saw 4\\nSkipping line 62182: expected 3 fields, saw 4\\nSkipping line 62183: expected 3 fields, saw 4\\nSkipping line 62184: expected 3 fields, saw 4\\nSkipping line 62185: expected 3 fields, saw 4\\nSkipping line 62186: expected 3 fields, saw 4\\nSkipping line 62187: expected 3 fields, saw 4\\nSkipping line 62188: expected 3 fields, saw 4\\nSkipping line 62189: expected 3 fields, saw 4\\nSkipping line 62190: expected 3 fields, saw 4\\nSkipping line 62191: expected 3 fields, saw 4\\nSkipping line 62192: expected 3 fields, saw 4\\nSkipping line 62193: expected 3 fields, saw 4\\nSkipping line 62194: expected 3 fields, saw 4\\nSkipping line 62195: expected 3 fields, saw 4\\nSkipping line 62196: expected 3 fields, saw 4\\nSkipping line 62197: expected 3 fields, saw 4\\nSkipping line 62198: expected 3 fields, saw 4\\nSkipping line 62199: expected 3 fields, saw 4\\nSkipping line 62200: expected 3 fields, saw 4\\nSkipping line 62201: expected 3 fields, saw 4\\nSkipping line 62202: expected 3 fields, saw 4\\nSkipping line 62203: expected 3 fields, saw 4\\nSkipping line 62204: expected 3 fields, saw 4\\nSkipping line 62205: expected 3 fields, saw 4\\nSkipping line 62206: expected 3 fields, saw 4\\nSkipping line 62207: expected 3 fields, saw 4\\nSkipping line 62208: expected 3 fields, saw 4\\nSkipping line 62209: expected 3 fields, saw 4\\nSkipping line 62210: expected 3 fields, saw 4\\nSkipping line 62211: expected 3 fields, saw 4\\nSkipping line 62212: expected 3 fields, saw 4\\nSkipping line 62213: expected 3 fields, saw 4\\nSkipping line 62214: expected 3 fields, saw 4\\nSkipping line 62215: expected 3 fields, saw 4\\nSkipping line 62216: expected 3 fields, saw 4\\nSkipping line 62217: expected 3 fields, saw 4\\nSkipping line 62218: expected 3 fields, saw 4\\nSkipping line 62219: expected 3 fields, saw 4\\nSkipping line 62220: expected 3 fields, saw 4\\nSkipping line 62221: expected 3 fields, saw 4\\nSkipping line 62222: expected 3 fields, saw 4\\nSkipping line 62223: expected 3 fields, saw 4\\nSkipping line 62224: expected 3 fields, saw 4\\nSkipping line 62225: expected 3 fields, saw 4\\nSkipping line 62226: expected 3 fields, saw 4\\nSkipping line 62227: expected 3 fields, saw 4\\nSkipping line 62228: expected 3 fields, saw 4\\nSkipping line 62229: expected 3 fields, saw 4\\nSkipping line 62230: expected 3 fields, saw 4\\nSkipping line 62231: expected 3 fields, saw 4\\nSkipping line 62232: expected 3 fields, saw 4\\nSkipping line 62233: expected 3 fields, saw 4\\nSkipping line 62234: expected 3 fields, saw 4\\nSkipping line 62235: expected 3 fields, saw 4\\nSkipping line 62236: expected 3 fields, saw 4\\nSkipping line 62237: expected 3 fields, saw 4\\nSkipping line 62238: expected 3 fields, saw 4\\nSkipping line 62239: expected 3 fields, saw 4\\nSkipping line 62240: expected 3 fields, saw 4\\nSkipping line 62241: expected 3 fields, saw 4\\nSkipping line 62242: expected 3 fields, saw 4\\nSkipping line 62243: expected 3 fields, saw 4\\nSkipping line 62244: expected 3 fields, saw 4\\nSkipping line 62245: expected 3 fields, saw 4\\nSkipping line 62246: expected 3 fields, saw 4\\nSkipping line 62247: expected 3 fields, saw 4\\nSkipping line 62248: expected 3 fields, saw 4\\nSkipping line 62249: expected 3 fields, saw 4\\nSkipping line 62250: expected 3 fields, saw 4\\nSkipping line 62251: expected 3 fields, saw 4\\nSkipping line 62252: expected 3 fields, saw 4\\nSkipping line 62253: expected 3 fields, saw 4\\nSkipping line 62254: expected 3 fields, saw 4\\nSkipping line 62255: expected 3 fields, saw 4\\nSkipping line 62256: expected 3 fields, saw 4\\nSkipping line 62257: expected 3 fields, saw 4\\nSkipping line 62258: expected 3 fields, saw 4\\nSkipping line 62259: expected 3 fields, saw 4\\nSkipping line 62260: expected 3 fields, saw 4\\nSkipping line 62261: expected 3 fields, saw 4\\nSkipping line 62262: expected 3 fields, saw 4\\nSkipping line 62263: expected 3 fields, saw 4\\nSkipping line 62264: expected 3 fields, saw 4\\nSkipping line 62265: expected 3 fields, saw 4\\nSkipping line 62266: expected 3 fields, saw 4\\nSkipping line 62267: expected 3 fields, saw 4\\nSkipping line 62268: expected 3 fields, saw 4\\nSkipping line 62269: expected 3 fields, saw 4\\nSkipping line 62270: expected 3 fields, saw 4\\nSkipping line 62271: expected 3 fields, saw 4\\nSkipping line 62272: expected 3 fields, saw 4\\nSkipping line 62273: expected 3 fields, saw 4\\nSkipping line 62274: expected 3 fields, saw 4\\nSkipping line 62275: expected 3 fields, saw 4\\nSkipping line 62276: expected 3 fields, saw 4\\nSkipping line 62277: expected 3 fields, saw 4\\nSkipping line 62278: expected 3 fields, saw 4\\nSkipping line 62279: expected 3 fields, saw 4\\nSkipping line 62280: expected 3 fields, saw 4\\nSkipping line 62281: expected 3 fields, saw 4\\nSkipping line 62282: expected 3 fields, saw 4\\nSkipping line 62283: expected 3 fields, saw 4\\nSkipping line 62284: expected 3 fields, saw 4\\nSkipping line 62285: expected 3 fields, saw 4\\nSkipping line 62286: expected 3 fields, saw 4\\nSkipping line 62287: expected 3 fields, saw 4\\nSkipping line 62288: expected 3 fields, saw 4\\nSkipping line 62289: expected 3 fields, saw 4\\nSkipping line 62290: expected 3 fields, saw 4\\nSkipping line 62291: expected 3 fields, saw 4\\nSkipping line 62292: expected 3 fields, saw 4\\nSkipping line 62293: expected 3 fields, saw 4\\nSkipping line 62294: expected 3 fields, saw 4\\nSkipping line 62295: expected 3 fields, saw 4\\nSkipping line 62296: expected 3 fields, saw 4\\nSkipping line 62297: expected 3 fields, saw 4\\nSkipping line 62298: expected 3 fields, saw 4\\nSkipping line 62299: expected 3 fields, saw 4\\nSkipping line 62300: expected 3 fields, saw 4\\nSkipping line 62301: expected 3 fields, saw 4\\nSkipping line 62302: expected 3 fields, saw 4\\nSkipping line 62303: expected 3 fields, saw 4\\nSkipping line 62304: expected 3 fields, saw 4\\nSkipping line 62305: expected 3 fields, saw 4\\nSkipping line 62306: expected 3 fields, saw 4\\nSkipping line 62307: expected 3 fields, saw 4\\nSkipping line 62308: expected 3 fields, saw 4\\nSkipping line 62309: expected 3 fields, saw 4\\nSkipping line 62310: expected 3 fields, saw 4\\nSkipping line 62311: expected 3 fields, saw 4\\nSkipping line 62312: expected 3 fields, saw 4\\nSkipping line 62313: expected 3 fields, saw 4\\nSkipping line 62314: expected 3 fields, saw 4\\nSkipping line 62315: expected 3 fields, saw 4\\nSkipping line 62316: expected 3 fields, saw 4\\nSkipping line 62317: expected 3 fields, saw 4\\nSkipping line 62318: expected 3 fields, saw 4\\nSkipping line 62319: expected 3 fields, saw 4\\nSkipping line 62320: expected 3 fields, saw 4\\nSkipping line 62321: expected 3 fields, saw 4\\nSkipping line 62322: expected 3 fields, saw 4\\nSkipping line 62323: expected 3 fields, saw 4\\nSkipping line 62324: expected 3 fields, saw 4\\nSkipping line 62325: expected 3 fields, saw 4\\nSkipping line 62326: expected 3 fields, saw 4\\nSkipping line 62327: expected 3 fields, saw 4\\nSkipping line 62328: expected 3 fields, saw 4\\nSkipping line 62329: expected 3 fields, saw 4\\nSkipping line 62330: expected 3 fields, saw 4\\nSkipping line 62331: expected 3 fields, saw 4\\nSkipping line 62332: expected 3 fields, saw 4\\nSkipping line 62333: expected 3 fields, saw 4\\nSkipping line 62334: expected 3 fields, saw 4\\nSkipping line 62335: expected 3 fields, saw 4\\nSkipping line 62336: expected 3 fields, saw 4\\nSkipping line 62337: expected 3 fields, saw 4\\nSkipping line 62338: expected 3 fields, saw 4\\nSkipping line 62339: expected 3 fields, saw 4\\nSkipping line 62340: expected 3 fields, saw 4\\nSkipping line 62341: expected 3 fields, saw 4\\nSkipping line 62342: expected 3 fields, saw 4\\nSkipping line 62343: expected 3 fields, saw 4\\nSkipping line 62344: expected 3 fields, saw 4\\nSkipping line 62345: expected 3 fields, saw 4\\nSkipping line 62346: expected 3 fields, saw 4\\nSkipping line 62347: expected 3 fields, saw 4\\nSkipping line 62348: expected 3 fields, saw 4\\nSkipping line 62349: expected 3 fields, saw 4\\nSkipping line 62350: expected 3 fields, saw 4\\nSkipping line 62351: expected 3 fields, saw 4\\nSkipping line 62352: expected 3 fields, saw 4\\nSkipping line 62353: expected 3 fields, saw 4\\nSkipping line 62354: expected 3 fields, saw 4\\nSkipping line 62355: expected 3 fields, saw 4\\nSkipping line 62356: expected 3 fields, saw 4\\nSkipping line 62357: expected 3 fields, saw 4\\nSkipping line 62358: expected 3 fields, saw 4\\nSkipping line 62359: expected 3 fields, saw 4\\nSkipping line 62360: expected 3 fields, saw 4\\nSkipping line 62361: expected 3 fields, saw 4\\nSkipping line 62362: expected 3 fields, saw 4\\nSkipping line 62363: expected 3 fields, saw 4\\nSkipping line 62364: expected 3 fields, saw 4\\nSkipping line 62365: expected 3 fields, saw 4\\nSkipping line 62366: expected 3 fields, saw 4\\nSkipping line 62367: expected 3 fields, saw 4\\nSkipping line 62368: expected 3 fields, saw 4\\nSkipping line 62369: expected 3 fields, saw 4\\nSkipping line 62370: expected 3 fields, saw 4\\nSkipping line 62371: expected 3 fields, saw 4\\nSkipping line 62372: expected 3 fields, saw 4\\nSkipping line 62373: expected 3 fields, saw 4\\nSkipping line 62374: expected 3 fields, saw 4\\nSkipping line 62375: expected 3 fields, saw 4\\nSkipping line 62376: expected 3 fields, saw 4\\nSkipping line 62377: expected 3 fields, saw 4\\nSkipping line 62378: expected 3 fields, saw 4\\nSkipping line 62379: expected 3 fields, saw 4\\nSkipping line 62380: expected 3 fields, saw 4\\nSkipping line 62381: expected 3 fields, saw 4\\nSkipping line 62382: expected 3 fields, saw 4\\nSkipping line 62383: expected 3 fields, saw 4\\nSkipping line 62384: expected 3 fields, saw 4\\nSkipping line 62385: expected 3 fields, saw 4\\nSkipping line 62386: expected 3 fields, saw 4\\nSkipping line 62387: expected 3 fields, saw 4\\nSkipping line 62388: expected 3 fields, saw 4\\nSkipping line 62389: expected 3 fields, saw 4\\nSkipping line 62390: expected 3 fields, saw 4\\nSkipping line 62391: expected 3 fields, saw 4\\nSkipping line 62392: expected 3 fields, saw 4\\nSkipping line 62393: expected 3 fields, saw 4\\nSkipping line 62394: expected 3 fields, saw 4\\nSkipping line 62395: expected 3 fields, saw 4\\nSkipping line 62396: expected 3 fields, saw 4\\nSkipping line 62397: expected 3 fields, saw 4\\nSkipping line 62398: expected 3 fields, saw 4\\nSkipping line 62399: expected 3 fields, saw 4\\nSkipping line 62400: expected 3 fields, saw 4\\nSkipping line 62401: expected 3 fields, saw 4\\nSkipping line 62402: expected 3 fields, saw 4\\nSkipping line 62403: expected 3 fields, saw 4\\nSkipping line 62404: expected 3 fields, saw 4\\nSkipping line 62405: expected 3 fields, saw 4\\nSkipping line 62406: expected 3 fields, saw 4\\nSkipping line 62407: expected 3 fields, saw 4\\nSkipping line 62408: expected 3 fields, saw 4\\nSkipping line 62409: expected 3 fields, saw 4\\nSkipping line 62410: expected 3 fields, saw 4\\nSkipping line 62411: expected 3 fields, saw 4\\nSkipping line 62412: expected 3 fields, saw 4\\nSkipping line 62413: expected 3 fields, saw 4\\nSkipping line 62414: expected 3 fields, saw 4\\nSkipping line 62415: expected 3 fields, saw 4\\nSkipping line 62416: expected 3 fields, saw 4\\nSkipping line 62417: expected 3 fields, saw 4\\nSkipping line 62418: expected 3 fields, saw 4\\nSkipping line 62419: expected 3 fields, saw 4\\nSkipping line 62420: expected 3 fields, saw 4\\nSkipping line 62421: expected 3 fields, saw 4\\nSkipping line 62422: expected 3 fields, saw 4\\nSkipping line 62423: expected 3 fields, saw 4\\nSkipping line 62424: expected 3 fields, saw 4\\nSkipping line 62425: expected 3 fields, saw 4\\nSkipping line 62426: expected 3 fields, saw 4\\nSkipping line 62427: expected 3 fields, saw 4\\nSkipping line 62428: expected 3 fields, saw 4\\nSkipping line 62429: expected 3 fields, saw 4\\nSkipping line 62430: expected 3 fields, saw 4\\nSkipping line 62431: expected 3 fields, saw 4\\nSkipping line 62432: expected 3 fields, saw 4\\nSkipping line 62433: expected 3 fields, saw 4\\nSkipping line 62434: expected 3 fields, saw 4\\nSkipping line 62435: expected 3 fields, saw 4\\nSkipping line 62436: expected 3 fields, saw 4\\nSkipping line 62437: expected 3 fields, saw 4\\nSkipping line 62438: expected 3 fields, saw 4\\nSkipping line 62439: expected 3 fields, saw 4\\nSkipping line 62440: expected 3 fields, saw 4\\nSkipping line 62441: expected 3 fields, saw 4\\nSkipping line 62442: expected 3 fields, saw 4\\nSkipping line 62443: expected 3 fields, saw 4\\nSkipping line 62444: expected 3 fields, saw 4\\nSkipping line 62445: expected 3 fields, saw 4\\nSkipping line 62446: expected 3 fields, saw 4\\nSkipping line 62447: expected 3 fields, saw 4\\nSkipping line 62448: expected 3 fields, saw 4\\nSkipping line 62449: expected 3 fields, saw 4\\nSkipping line 62450: expected 3 fields, saw 4\\nSkipping line 62451: expected 3 fields, saw 4\\nSkipping line 62452: expected 3 fields, saw 4\\nSkipping line 62453: expected 3 fields, saw 4\\nSkipping line 62454: expected 3 fields, saw 4\\nSkipping line 62455: expected 3 fields, saw 4\\nSkipping line 62456: expected 3 fields, saw 4\\nSkipping line 62457: expected 3 fields, saw 4\\nSkipping line 62458: expected 3 fields, saw 4\\nSkipping line 62459: expected 3 fields, saw 4\\nSkipping line 62460: expected 3 fields, saw 4\\nSkipping line 62461: expected 3 fields, saw 4\\nSkipping line 62462: expected 3 fields, saw 4\\nSkipping line 62463: expected 3 fields, saw 4\\nSkipping line 62464: expected 3 fields, saw 4\\nSkipping line 62465: expected 3 fields, saw 4\\nSkipping line 62466: expected 3 fields, saw 4\\nSkipping line 62467: expected 3 fields, saw 4\\nSkipping line 62468: expected 3 fields, saw 4\\nSkipping line 62469: expected 3 fields, saw 4\\nSkipping line 62470: expected 3 fields, saw 4\\nSkipping line 62471: expected 3 fields, saw 4\\nSkipping line 62472: expected 3 fields, saw 4\\nSkipping line 62473: expected 3 fields, saw 4\\nSkipping line 62474: expected 3 fields, saw 4\\nSkipping line 62475: expected 3 fields, saw 4\\nSkipping line 62476: expected 3 fields, saw 4\\nSkipping line 62477: expected 3 fields, saw 4\\nSkipping line 62478: expected 3 fields, saw 4\\nSkipping line 62479: expected 3 fields, saw 4\\nSkipping line 62480: expected 3 fields, saw 4\\nSkipping line 62481: expected 3 fields, saw 4\\nSkipping line 62482: expected 3 fields, saw 4\\n'\n"
     ]
    },
    {
     "name": "stdout",
     "output_type": "stream",
     "text": [
      "ABONOP_082020.csv\n",
      "http://repositorio.dados.gov.br/segrt/ABONOP_082020.csv\n",
      "ABONOP_092020.csv\n",
      "http://repositorio.dados.gov.br/segrt/ABONOP_092020.csv\n"
     ]
    },
    {
     "ename": "HTTPError",
     "evalue": "HTTP Error 404: Not Found",
     "output_type": "error",
     "traceback": [
      "\u001b[0;31m---------------------------------------------------------------------------\u001b[0m",
      "\u001b[0;31mHTTPError\u001b[0m                                 Traceback (most recent call last)",
      "\u001b[0;32m<ipython-input-111-7e4cbf4354a9>\u001b[0m in \u001b[0;36m<module>\u001b[0;34m\u001b[0m\n\u001b[1;32m     15\u001b[0m     \u001b[0;32mexcept\u001b[0m\u001b[0;34m:\u001b[0m\u001b[0;34m\u001b[0m\u001b[0;34m\u001b[0m\u001b[0m\n\u001b[1;32m     16\u001b[0m         \u001b[0;32mpass\u001b[0m\u001b[0;34m\u001b[0m\u001b[0;34m\u001b[0m\u001b[0m\n\u001b[0;32m---> 17\u001b[0;31m     \u001b[0mtable\u001b[0m \u001b[0;34m=\u001b[0m \u001b[0mpd\u001b[0m\u001b[0;34m.\u001b[0m\u001b[0mread_csv\u001b[0m\u001b[0;34m(\u001b[0m\u001b[0murl\u001b[0m\u001b[0;34m,\u001b[0m \u001b[0mencoding\u001b[0m \u001b[0;34m=\u001b[0m \u001b[0;34m\"ISO-8859-1\"\u001b[0m\u001b[0;34m,\u001b[0m \u001b[0merror_bad_lines\u001b[0m\u001b[0;34m=\u001b[0m\u001b[0;32mFalse\u001b[0m\u001b[0;34m)\u001b[0m\u001b[0;34m\u001b[0m\u001b[0;34m\u001b[0m\u001b[0m\n\u001b[0m\u001b[1;32m     18\u001b[0m     \u001b[0mtables\u001b[0m\u001b[0;34m.\u001b[0m\u001b[0mappend\u001b[0m\u001b[0;34m(\u001b[0m\u001b[0mtable\u001b[0m\u001b[0;34m)\u001b[0m\u001b[0;34m\u001b[0m\u001b[0;34m\u001b[0m\u001b[0m\n\u001b[1;32m     19\u001b[0m     \u001b[0;31m#except:\u001b[0m\u001b[0;34m\u001b[0m\u001b[0;34m\u001b[0m\u001b[0;34m\u001b[0m\u001b[0m\n",
      "\u001b[0;32m~/.local/lib/python3.7/site-packages/pandas/io/parsers.py\u001b[0m in \u001b[0;36mparser_f\u001b[0;34m(filepath_or_buffer, sep, delimiter, header, names, index_col, usecols, squeeze, prefix, mangle_dupe_cols, dtype, engine, converters, true_values, false_values, skipinitialspace, skiprows, skipfooter, nrows, na_values, keep_default_na, na_filter, verbose, skip_blank_lines, parse_dates, infer_datetime_format, keep_date_col, date_parser, dayfirst, cache_dates, iterator, chunksize, compression, thousands, decimal, lineterminator, quotechar, quoting, doublequote, escapechar, comment, encoding, dialect, error_bad_lines, warn_bad_lines, delim_whitespace, low_memory, memory_map, float_precision)\u001b[0m\n\u001b[1;32m    683\u001b[0m         )\n\u001b[1;32m    684\u001b[0m \u001b[0;34m\u001b[0m\u001b[0m\n\u001b[0;32m--> 685\u001b[0;31m         \u001b[0;32mreturn\u001b[0m \u001b[0m_read\u001b[0m\u001b[0;34m(\u001b[0m\u001b[0mfilepath_or_buffer\u001b[0m\u001b[0;34m,\u001b[0m \u001b[0mkwds\u001b[0m\u001b[0;34m)\u001b[0m\u001b[0;34m\u001b[0m\u001b[0;34m\u001b[0m\u001b[0m\n\u001b[0m\u001b[1;32m    686\u001b[0m \u001b[0;34m\u001b[0m\u001b[0m\n\u001b[1;32m    687\u001b[0m     \u001b[0mparser_f\u001b[0m\u001b[0;34m.\u001b[0m\u001b[0m__name__\u001b[0m \u001b[0;34m=\u001b[0m \u001b[0mname\u001b[0m\u001b[0;34m\u001b[0m\u001b[0;34m\u001b[0m\u001b[0m\n",
      "\u001b[0;32m~/.local/lib/python3.7/site-packages/pandas/io/parsers.py\u001b[0m in \u001b[0;36m_read\u001b[0;34m(filepath_or_buffer, kwds)\u001b[0m\n\u001b[1;32m    438\u001b[0m     \u001b[0;31m# See https://github.com/python/mypy/issues/1297\u001b[0m\u001b[0;34m\u001b[0m\u001b[0;34m\u001b[0m\u001b[0;34m\u001b[0m\u001b[0m\n\u001b[1;32m    439\u001b[0m     fp_or_buf, _, compression, should_close = get_filepath_or_buffer(\n\u001b[0;32m--> 440\u001b[0;31m         \u001b[0mfilepath_or_buffer\u001b[0m\u001b[0;34m,\u001b[0m \u001b[0mencoding\u001b[0m\u001b[0;34m,\u001b[0m \u001b[0mcompression\u001b[0m\u001b[0;34m\u001b[0m\u001b[0;34m\u001b[0m\u001b[0m\n\u001b[0m\u001b[1;32m    441\u001b[0m     )\n\u001b[1;32m    442\u001b[0m     \u001b[0mkwds\u001b[0m\u001b[0;34m[\u001b[0m\u001b[0;34m\"compression\"\u001b[0m\u001b[0;34m]\u001b[0m \u001b[0;34m=\u001b[0m \u001b[0mcompression\u001b[0m\u001b[0;34m\u001b[0m\u001b[0;34m\u001b[0m\u001b[0m\n",
      "\u001b[0;32m~/.local/lib/python3.7/site-packages/pandas/io/common.py\u001b[0m in \u001b[0;36mget_filepath_or_buffer\u001b[0;34m(filepath_or_buffer, encoding, compression, mode)\u001b[0m\n\u001b[1;32m    192\u001b[0m \u001b[0;34m\u001b[0m\u001b[0m\n\u001b[1;32m    193\u001b[0m     \u001b[0;32mif\u001b[0m \u001b[0m_is_url\u001b[0m\u001b[0;34m(\u001b[0m\u001b[0mfilepath_or_buffer\u001b[0m\u001b[0;34m)\u001b[0m\u001b[0;34m:\u001b[0m\u001b[0;34m\u001b[0m\u001b[0;34m\u001b[0m\u001b[0m\n\u001b[0;32m--> 194\u001b[0;31m         \u001b[0mreq\u001b[0m \u001b[0;34m=\u001b[0m \u001b[0murlopen\u001b[0m\u001b[0;34m(\u001b[0m\u001b[0mfilepath_or_buffer\u001b[0m\u001b[0;34m)\u001b[0m\u001b[0;34m\u001b[0m\u001b[0;34m\u001b[0m\u001b[0m\n\u001b[0m\u001b[1;32m    195\u001b[0m         \u001b[0mcontent_encoding\u001b[0m \u001b[0;34m=\u001b[0m \u001b[0mreq\u001b[0m\u001b[0;34m.\u001b[0m\u001b[0mheaders\u001b[0m\u001b[0;34m.\u001b[0m\u001b[0mget\u001b[0m\u001b[0;34m(\u001b[0m\u001b[0;34m\"Content-Encoding\"\u001b[0m\u001b[0;34m,\u001b[0m \u001b[0;32mNone\u001b[0m\u001b[0;34m)\u001b[0m\u001b[0;34m\u001b[0m\u001b[0;34m\u001b[0m\u001b[0m\n\u001b[1;32m    196\u001b[0m         \u001b[0;32mif\u001b[0m \u001b[0mcontent_encoding\u001b[0m \u001b[0;34m==\u001b[0m \u001b[0;34m\"gzip\"\u001b[0m\u001b[0;34m:\u001b[0m\u001b[0;34m\u001b[0m\u001b[0;34m\u001b[0m\u001b[0m\n",
      "\u001b[0;32m/usr/lib/python3.7/urllib/request.py\u001b[0m in \u001b[0;36murlopen\u001b[0;34m(url, data, timeout, cafile, capath, cadefault, context)\u001b[0m\n\u001b[1;32m    220\u001b[0m     \u001b[0;32melse\u001b[0m\u001b[0;34m:\u001b[0m\u001b[0;34m\u001b[0m\u001b[0;34m\u001b[0m\u001b[0m\n\u001b[1;32m    221\u001b[0m         \u001b[0mopener\u001b[0m \u001b[0;34m=\u001b[0m \u001b[0m_opener\u001b[0m\u001b[0;34m\u001b[0m\u001b[0;34m\u001b[0m\u001b[0m\n\u001b[0;32m--> 222\u001b[0;31m     \u001b[0;32mreturn\u001b[0m \u001b[0mopener\u001b[0m\u001b[0;34m.\u001b[0m\u001b[0mopen\u001b[0m\u001b[0;34m(\u001b[0m\u001b[0murl\u001b[0m\u001b[0;34m,\u001b[0m \u001b[0mdata\u001b[0m\u001b[0;34m,\u001b[0m \u001b[0mtimeout\u001b[0m\u001b[0;34m)\u001b[0m\u001b[0;34m\u001b[0m\u001b[0;34m\u001b[0m\u001b[0m\n\u001b[0m\u001b[1;32m    223\u001b[0m \u001b[0;34m\u001b[0m\u001b[0m\n\u001b[1;32m    224\u001b[0m \u001b[0;32mdef\u001b[0m \u001b[0minstall_opener\u001b[0m\u001b[0;34m(\u001b[0m\u001b[0mopener\u001b[0m\u001b[0;34m)\u001b[0m\u001b[0;34m:\u001b[0m\u001b[0;34m\u001b[0m\u001b[0;34m\u001b[0m\u001b[0m\n",
      "\u001b[0;32m/usr/lib/python3.7/urllib/request.py\u001b[0m in \u001b[0;36mopen\u001b[0;34m(self, fullurl, data, timeout)\u001b[0m\n\u001b[1;32m    529\u001b[0m         \u001b[0;32mfor\u001b[0m \u001b[0mprocessor\u001b[0m \u001b[0;32min\u001b[0m \u001b[0mself\u001b[0m\u001b[0;34m.\u001b[0m\u001b[0mprocess_response\u001b[0m\u001b[0;34m.\u001b[0m\u001b[0mget\u001b[0m\u001b[0;34m(\u001b[0m\u001b[0mprotocol\u001b[0m\u001b[0;34m,\u001b[0m \u001b[0;34m[\u001b[0m\u001b[0;34m]\u001b[0m\u001b[0;34m)\u001b[0m\u001b[0;34m:\u001b[0m\u001b[0;34m\u001b[0m\u001b[0;34m\u001b[0m\u001b[0m\n\u001b[1;32m    530\u001b[0m             \u001b[0mmeth\u001b[0m \u001b[0;34m=\u001b[0m \u001b[0mgetattr\u001b[0m\u001b[0;34m(\u001b[0m\u001b[0mprocessor\u001b[0m\u001b[0;34m,\u001b[0m \u001b[0mmeth_name\u001b[0m\u001b[0;34m)\u001b[0m\u001b[0;34m\u001b[0m\u001b[0;34m\u001b[0m\u001b[0m\n\u001b[0;32m--> 531\u001b[0;31m             \u001b[0mresponse\u001b[0m \u001b[0;34m=\u001b[0m \u001b[0mmeth\u001b[0m\u001b[0;34m(\u001b[0m\u001b[0mreq\u001b[0m\u001b[0;34m,\u001b[0m \u001b[0mresponse\u001b[0m\u001b[0;34m)\u001b[0m\u001b[0;34m\u001b[0m\u001b[0;34m\u001b[0m\u001b[0m\n\u001b[0m\u001b[1;32m    532\u001b[0m \u001b[0;34m\u001b[0m\u001b[0m\n\u001b[1;32m    533\u001b[0m         \u001b[0;32mreturn\u001b[0m \u001b[0mresponse\u001b[0m\u001b[0;34m\u001b[0m\u001b[0;34m\u001b[0m\u001b[0m\n",
      "\u001b[0;32m/usr/lib/python3.7/urllib/request.py\u001b[0m in \u001b[0;36mhttp_response\u001b[0;34m(self, request, response)\u001b[0m\n\u001b[1;32m    639\u001b[0m         \u001b[0;32mif\u001b[0m \u001b[0;32mnot\u001b[0m \u001b[0;34m(\u001b[0m\u001b[0;36m200\u001b[0m \u001b[0;34m<=\u001b[0m \u001b[0mcode\u001b[0m \u001b[0;34m<\u001b[0m \u001b[0;36m300\u001b[0m\u001b[0;34m)\u001b[0m\u001b[0;34m:\u001b[0m\u001b[0;34m\u001b[0m\u001b[0;34m\u001b[0m\u001b[0m\n\u001b[1;32m    640\u001b[0m             response = self.parent.error(\n\u001b[0;32m--> 641\u001b[0;31m                 'http', request, response, code, msg, hdrs)\n\u001b[0m\u001b[1;32m    642\u001b[0m \u001b[0;34m\u001b[0m\u001b[0m\n\u001b[1;32m    643\u001b[0m         \u001b[0;32mreturn\u001b[0m \u001b[0mresponse\u001b[0m\u001b[0;34m\u001b[0m\u001b[0;34m\u001b[0m\u001b[0m\n",
      "\u001b[0;32m/usr/lib/python3.7/urllib/request.py\u001b[0m in \u001b[0;36merror\u001b[0;34m(self, proto, *args)\u001b[0m\n\u001b[1;32m    567\u001b[0m         \u001b[0;32mif\u001b[0m \u001b[0mhttp_err\u001b[0m\u001b[0;34m:\u001b[0m\u001b[0;34m\u001b[0m\u001b[0;34m\u001b[0m\u001b[0m\n\u001b[1;32m    568\u001b[0m             \u001b[0margs\u001b[0m \u001b[0;34m=\u001b[0m \u001b[0;34m(\u001b[0m\u001b[0mdict\u001b[0m\u001b[0;34m,\u001b[0m \u001b[0;34m'default'\u001b[0m\u001b[0;34m,\u001b[0m \u001b[0;34m'http_error_default'\u001b[0m\u001b[0;34m)\u001b[0m \u001b[0;34m+\u001b[0m \u001b[0morig_args\u001b[0m\u001b[0;34m\u001b[0m\u001b[0;34m\u001b[0m\u001b[0m\n\u001b[0;32m--> 569\u001b[0;31m             \u001b[0;32mreturn\u001b[0m \u001b[0mself\u001b[0m\u001b[0;34m.\u001b[0m\u001b[0m_call_chain\u001b[0m\u001b[0;34m(\u001b[0m\u001b[0;34m*\u001b[0m\u001b[0margs\u001b[0m\u001b[0;34m)\u001b[0m\u001b[0;34m\u001b[0m\u001b[0;34m\u001b[0m\u001b[0m\n\u001b[0m\u001b[1;32m    570\u001b[0m \u001b[0;34m\u001b[0m\u001b[0m\n\u001b[1;32m    571\u001b[0m \u001b[0;31m# XXX probably also want an abstract factory that knows when it makes\u001b[0m\u001b[0;34m\u001b[0m\u001b[0;34m\u001b[0m\u001b[0;34m\u001b[0m\u001b[0m\n",
      "\u001b[0;32m/usr/lib/python3.7/urllib/request.py\u001b[0m in \u001b[0;36m_call_chain\u001b[0;34m(self, chain, kind, meth_name, *args)\u001b[0m\n\u001b[1;32m    501\u001b[0m         \u001b[0;32mfor\u001b[0m \u001b[0mhandler\u001b[0m \u001b[0;32min\u001b[0m \u001b[0mhandlers\u001b[0m\u001b[0;34m:\u001b[0m\u001b[0;34m\u001b[0m\u001b[0;34m\u001b[0m\u001b[0m\n\u001b[1;32m    502\u001b[0m             \u001b[0mfunc\u001b[0m \u001b[0;34m=\u001b[0m \u001b[0mgetattr\u001b[0m\u001b[0;34m(\u001b[0m\u001b[0mhandler\u001b[0m\u001b[0;34m,\u001b[0m \u001b[0mmeth_name\u001b[0m\u001b[0;34m)\u001b[0m\u001b[0;34m\u001b[0m\u001b[0;34m\u001b[0m\u001b[0m\n\u001b[0;32m--> 503\u001b[0;31m             \u001b[0mresult\u001b[0m \u001b[0;34m=\u001b[0m \u001b[0mfunc\u001b[0m\u001b[0;34m(\u001b[0m\u001b[0;34m*\u001b[0m\u001b[0margs\u001b[0m\u001b[0;34m)\u001b[0m\u001b[0;34m\u001b[0m\u001b[0;34m\u001b[0m\u001b[0m\n\u001b[0m\u001b[1;32m    504\u001b[0m             \u001b[0;32mif\u001b[0m \u001b[0mresult\u001b[0m \u001b[0;32mis\u001b[0m \u001b[0;32mnot\u001b[0m \u001b[0;32mNone\u001b[0m\u001b[0;34m:\u001b[0m\u001b[0;34m\u001b[0m\u001b[0;34m\u001b[0m\u001b[0m\n\u001b[1;32m    505\u001b[0m                 \u001b[0;32mreturn\u001b[0m \u001b[0mresult\u001b[0m\u001b[0;34m\u001b[0m\u001b[0;34m\u001b[0m\u001b[0m\n",
      "\u001b[0;32m/usr/lib/python3.7/urllib/request.py\u001b[0m in \u001b[0;36mhttp_error_default\u001b[0;34m(self, req, fp, code, msg, hdrs)\u001b[0m\n\u001b[1;32m    647\u001b[0m \u001b[0;32mclass\u001b[0m \u001b[0mHTTPDefaultErrorHandler\u001b[0m\u001b[0;34m(\u001b[0m\u001b[0mBaseHandler\u001b[0m\u001b[0;34m)\u001b[0m\u001b[0;34m:\u001b[0m\u001b[0;34m\u001b[0m\u001b[0;34m\u001b[0m\u001b[0m\n\u001b[1;32m    648\u001b[0m     \u001b[0;32mdef\u001b[0m \u001b[0mhttp_error_default\u001b[0m\u001b[0;34m(\u001b[0m\u001b[0mself\u001b[0m\u001b[0;34m,\u001b[0m \u001b[0mreq\u001b[0m\u001b[0;34m,\u001b[0m \u001b[0mfp\u001b[0m\u001b[0;34m,\u001b[0m \u001b[0mcode\u001b[0m\u001b[0;34m,\u001b[0m \u001b[0mmsg\u001b[0m\u001b[0;34m,\u001b[0m \u001b[0mhdrs\u001b[0m\u001b[0;34m)\u001b[0m\u001b[0;34m:\u001b[0m\u001b[0;34m\u001b[0m\u001b[0;34m\u001b[0m\u001b[0m\n\u001b[0;32m--> 649\u001b[0;31m         \u001b[0;32mraise\u001b[0m \u001b[0mHTTPError\u001b[0m\u001b[0;34m(\u001b[0m\u001b[0mreq\u001b[0m\u001b[0;34m.\u001b[0m\u001b[0mfull_url\u001b[0m\u001b[0;34m,\u001b[0m \u001b[0mcode\u001b[0m\u001b[0;34m,\u001b[0m \u001b[0mmsg\u001b[0m\u001b[0;34m,\u001b[0m \u001b[0mhdrs\u001b[0m\u001b[0;34m,\u001b[0m \u001b[0mfp\u001b[0m\u001b[0;34m)\u001b[0m\u001b[0;34m\u001b[0m\u001b[0;34m\u001b[0m\u001b[0m\n\u001b[0m\u001b[1;32m    650\u001b[0m \u001b[0;34m\u001b[0m\u001b[0m\n\u001b[1;32m    651\u001b[0m \u001b[0;32mclass\u001b[0m \u001b[0mHTTPRedirectHandler\u001b[0m\u001b[0;34m(\u001b[0m\u001b[0mBaseHandler\u001b[0m\u001b[0;34m)\u001b[0m\u001b[0;34m:\u001b[0m\u001b[0;34m\u001b[0m\u001b[0;34m\u001b[0m\u001b[0m\n",
      "\u001b[0;31mHTTPError\u001b[0m: HTTP Error 404: Not Found"
     ]
    }
   ],
   "source": [
    "name_prefix='ABONOP_'\n",
    "abono_name_base = 'http://repositorio.dados.gov.br/segrt/'\n",
    "months =['01','02','03','04','05','06','07','08','09','10','11','12']\n",
    "years = range(2017,2021)\n",
    "tables = []\n",
    "for y in years:\n",
    "  for m in months:\n",
    "    filename = name_prefix+str(m)+str(y)+'.csv'\n",
    "    print(filename)\n",
    "    url = abono_name_base+filename\n",
    "    print(url)\n",
    "    #try: #the .csv files goes until 2020-08\n",
    "    try:\n",
    "        urllib.request.urlretrieve(url, 'data/'+filename)\n",
    "    except:\n",
    "        pass\n",
    "    table = pd.read_csv(url, encoding = \"ISO-8859-1\", error_bad_lines=False)\n",
    "    tables.append(table)\n",
    "    #except:\n",
    "    #pass   \n"
   ]
  },
  {
   "cell_type": "markdown",
   "metadata": {},
   "source": [
    "# Definição das funções"
   ]
  },
  {
   "cell_type": "code",
   "execution_count": 112,
   "metadata": {},
   "outputs": [],
   "source": [
    "def clear_table(tbl):\n",
    "    no_duplicates = tbl.drop_duplicates()\n",
    "    no_null = no_duplicates.dropna(thresh=0)    \n",
    "    return no_null\n",
    "\n",
    "def describe_dirtness(tbl,csv_name):    \n",
    "    duplicates = table[tbl.duplicated(table.columns,keep=False)].sort_values('Nome');\n",
    "    nans = table.isna().sum()\n",
    "    data = {'table':csv_name,'original_size':[len(table.index)],'duplicates':[len(duplicates.index)],'nans':[len(nans.index)],'removed':-1,'filtered_size':-1}\n",
    "    info = pd.DataFrame(data)\n",
    "    return info\n",
    "\n",
    "def get_year_month_from_filename(csv_name):\n",
    "    striped_name = csv_name.split('.')[0].split('_')[1]\n",
    "    month = striped_name[0:2]\n",
    "    year = striped_name[2:6]\n",
    "    return (month,year)"
   ]
  },
  {
   "cell_type": "markdown",
   "metadata": {},
   "source": [
    "# Limpa os dataframes"
   ]
  },
  {
   "cell_type": "code",
   "execution_count": 113,
   "metadata": {},
   "outputs": [
    {
     "name": "stderr",
     "output_type": "stream",
     "text": [
      "b'Skipping line 36991: expected 15 fields, saw 16\\n'\n",
      "b'Skipping line 37880: expected 15 fields, saw 16\\n'\n",
      "b'Skipping line 38522: expected 15 fields, saw 16\\n'\n",
      "b'Skipping line 38096: expected 15 fields, saw 16\\n'\n",
      "b'Skipping line 36775: expected 15 fields, saw 16\\n'\n",
      "b'Skipping line 37895: expected 15 fields, saw 16\\n'\n",
      "b'Skipping line 37833: expected 15 fields, saw 16\\n'\n",
      "b'Skipping line 37631: expected 15 fields, saw 16\\n'\n",
      "b'Skipping line 36994: expected 15 fields, saw 16\\n'\n",
      "b'Skipping line 37364: expected 15 fields, saw 16\\n'\n",
      "b'Skipping line 37979: expected 15 fields, saw 16\\n'\n",
      "b'Skipping line 37237: expected 15 fields, saw 16\\n'\n",
      "b'Skipping line 38367: expected 15 fields, saw 16\\n'\n",
      "b'Skipping line 37431: expected 15 fields, saw 16\\n'\n",
      "b'Skipping line 37699: expected 15 fields, saw 16\\n'\n",
      "b'Skipping line 37019: expected 15 fields, saw 16\\n'\n",
      "b'Skipping line 36935: expected 15 fields, saw 16\\n'\n",
      "b'Skipping line 37580: expected 15 fields, saw 16\\n'\n",
      "b'Skipping line 37752: expected 15 fields, saw 16\\n'\n",
      "b'Skipping line 38496: expected 15 fields, saw 16\\n'\n",
      "b'Skipping line 37572: expected 15 fields, saw 16\\n'\n",
      "b'Skipping line 38167: expected 15 fields, saw 16\\n'\n",
      "b'Skipping line 37668: expected 15 fields, saw 16\\n'\n",
      "b'Skipping line 38146: expected 15 fields, saw 16\\n'\n"
     ]
    }
   ],
   "source": [
    "files = os.listdir('data')\n",
    "all_dirtness = pd.DataFrame(columns = ['table','month','year','original_size','duplicates','nans','removed','filtered_size'])\n",
    "for f in files:    \n",
    "    table = pd.read_csv('data/'+f, encoding = \"ISO-8859-1\", delimiter=';', index_col=False, error_bad_lines=False);    \n",
    "    single_table_dirtness =  describe_dirtness(table,f)\n",
    "    clean_table = clear_table(table)\n",
    "    single_table_dirtness.at[0,'filtered_size'] = len(clean_table.index)\n",
    "    single_table_dirtness.at[0,'month'] = get_year_month_from_filename(single_table_dirtness.at[0,'table'])[0]\n",
    "    single_table_dirtness.at[0,'year'] = get_year_month_from_filename(single_table_dirtness.at[0,'table'])[1]\n",
    "    single_table_dirtness.at[0,'removed'] = single_table_dirtness.at[0,'duplicates']+single_table_dirtness.at[0,'nans']\n",
    "    all_dirtness = all_dirtness.append(single_table_dirtness, ignore_index=True)\n",
    "all_dirtness = all_dirtness[['table','month','year','original_size','duplicates','nans','removed','filtered_size']]"
   ]
  },
  {
   "cell_type": "code",
   "execution_count": 114,
   "metadata": {},
   "outputs": [
    {
     "data": {
      "text/html": [
       "<div>\n",
       "<style scoped>\n",
       "    .dataframe tbody tr th:only-of-type {\n",
       "        vertical-align: middle;\n",
       "    }\n",
       "\n",
       "    .dataframe tbody tr th {\n",
       "        vertical-align: top;\n",
       "    }\n",
       "\n",
       "    .dataframe thead th {\n",
       "        text-align: right;\n",
       "    }\n",
       "</style>\n",
       "<table border=\"1\" class=\"dataframe\">\n",
       "  <thead>\n",
       "    <tr style=\"text-align: right;\">\n",
       "      <th></th>\n",
       "      <th>table</th>\n",
       "      <th>month</th>\n",
       "      <th>year</th>\n",
       "      <th>original_size</th>\n",
       "      <th>duplicates</th>\n",
       "      <th>nans</th>\n",
       "      <th>removed</th>\n",
       "      <th>filtered_size</th>\n",
       "    </tr>\n",
       "  </thead>\n",
       "  <tbody>\n",
       "    <tr>\n",
       "      <th>19</th>\n",
       "      <td>ABONOP_012017.csv</td>\n",
       "      <td>01</td>\n",
       "      <td>2017</td>\n",
       "      <td>109850</td>\n",
       "      <td>24</td>\n",
       "      <td>14</td>\n",
       "      <td>38</td>\n",
       "      <td>109838</td>\n",
       "    </tr>\n",
       "    <tr>\n",
       "      <th>0</th>\n",
       "      <td>ABONOP_022017.csv</td>\n",
       "      <td>02</td>\n",
       "      <td>2017</td>\n",
       "      <td>109301</td>\n",
       "      <td>22</td>\n",
       "      <td>14</td>\n",
       "      <td>36</td>\n",
       "      <td>109290</td>\n",
       "    </tr>\n",
       "    <tr>\n",
       "      <th>17</th>\n",
       "      <td>ABONOP_032017.csv</td>\n",
       "      <td>03</td>\n",
       "      <td>2017</td>\n",
       "      <td>108918</td>\n",
       "      <td>22</td>\n",
       "      <td>14</td>\n",
       "      <td>36</td>\n",
       "      <td>108907</td>\n",
       "    </tr>\n",
       "    <tr>\n",
       "      <th>5</th>\n",
       "      <td>ABONOP_042017.csv</td>\n",
       "      <td>04</td>\n",
       "      <td>2017</td>\n",
       "      <td>108133</td>\n",
       "      <td>20</td>\n",
       "      <td>14</td>\n",
       "      <td>34</td>\n",
       "      <td>108123</td>\n",
       "    </tr>\n",
       "    <tr>\n",
       "      <th>26</th>\n",
       "      <td>ABONOP_052017.csv</td>\n",
       "      <td>05</td>\n",
       "      <td>2017</td>\n",
       "      <td>108123</td>\n",
       "      <td>20</td>\n",
       "      <td>14</td>\n",
       "      <td>34</td>\n",
       "      <td>108113</td>\n",
       "    </tr>\n",
       "    <tr>\n",
       "      <th>28</th>\n",
       "      <td>ABONOP_062017.csv</td>\n",
       "      <td>06</td>\n",
       "      <td>2017</td>\n",
       "      <td>107358</td>\n",
       "      <td>24</td>\n",
       "      <td>14</td>\n",
       "      <td>38</td>\n",
       "      <td>107346</td>\n",
       "    </tr>\n",
       "    <tr>\n",
       "      <th>22</th>\n",
       "      <td>ABONOP_072017.csv</td>\n",
       "      <td>07</td>\n",
       "      <td>2017</td>\n",
       "      <td>106981</td>\n",
       "      <td>22</td>\n",
       "      <td>14</td>\n",
       "      <td>36</td>\n",
       "      <td>106970</td>\n",
       "    </tr>\n",
       "    <tr>\n",
       "      <th>24</th>\n",
       "      <td>ABONOP_082017.csv</td>\n",
       "      <td>08</td>\n",
       "      <td>2017</td>\n",
       "      <td>107071</td>\n",
       "      <td>26</td>\n",
       "      <td>14</td>\n",
       "      <td>40</td>\n",
       "      <td>107058</td>\n",
       "    </tr>\n",
       "    <tr>\n",
       "      <th>25</th>\n",
       "      <td>ABONOP_092017.csv</td>\n",
       "      <td>09</td>\n",
       "      <td>2017</td>\n",
       "      <td>107297</td>\n",
       "      <td>26</td>\n",
       "      <td>14</td>\n",
       "      <td>40</td>\n",
       "      <td>107284</td>\n",
       "    </tr>\n",
       "    <tr>\n",
       "      <th>20</th>\n",
       "      <td>ABONOP_102017.csv</td>\n",
       "      <td>10</td>\n",
       "      <td>2017</td>\n",
       "      <td>107713</td>\n",
       "      <td>24</td>\n",
       "      <td>14</td>\n",
       "      <td>38</td>\n",
       "      <td>107701</td>\n",
       "    </tr>\n",
       "    <tr>\n",
       "      <th>38</th>\n",
       "      <td>ABONOP_112017.csv</td>\n",
       "      <td>11</td>\n",
       "      <td>2017</td>\n",
       "      <td>108352</td>\n",
       "      <td>24</td>\n",
       "      <td>14</td>\n",
       "      <td>38</td>\n",
       "      <td>108340</td>\n",
       "    </tr>\n",
       "    <tr>\n",
       "      <th>33</th>\n",
       "      <td>ABONOP_122017.csv</td>\n",
       "      <td>12</td>\n",
       "      <td>2017</td>\n",
       "      <td>109234</td>\n",
       "      <td>24</td>\n",
       "      <td>14</td>\n",
       "      <td>38</td>\n",
       "      <td>109222</td>\n",
       "    </tr>\n",
       "    <tr>\n",
       "      <th>3</th>\n",
       "      <td>ABONOP_012018.csv</td>\n",
       "      <td>01</td>\n",
       "      <td>2018</td>\n",
       "      <td>109326</td>\n",
       "      <td>28</td>\n",
       "      <td>14</td>\n",
       "      <td>42</td>\n",
       "      <td>109312</td>\n",
       "    </tr>\n",
       "    <tr>\n",
       "      <th>23</th>\n",
       "      <td>ABONOP_022018.csv</td>\n",
       "      <td>02</td>\n",
       "      <td>2018</td>\n",
       "      <td>108687</td>\n",
       "      <td>26</td>\n",
       "      <td>14</td>\n",
       "      <td>40</td>\n",
       "      <td>108674</td>\n",
       "    </tr>\n",
       "    <tr>\n",
       "      <th>43</th>\n",
       "      <td>ABONOP_032018.csv</td>\n",
       "      <td>03</td>\n",
       "      <td>2018</td>\n",
       "      <td>107994</td>\n",
       "      <td>26</td>\n",
       "      <td>14</td>\n",
       "      <td>40</td>\n",
       "      <td>107981</td>\n",
       "    </tr>\n",
       "    <tr>\n",
       "      <th>8</th>\n",
       "      <td>ABONOP_042018.csv</td>\n",
       "      <td>04</td>\n",
       "      <td>2018</td>\n",
       "      <td>107568</td>\n",
       "      <td>28</td>\n",
       "      <td>14</td>\n",
       "      <td>42</td>\n",
       "      <td>107554</td>\n",
       "    </tr>\n",
       "    <tr>\n",
       "      <th>12</th>\n",
       "      <td>ABONOP_052018.csv</td>\n",
       "      <td>05</td>\n",
       "      <td>2018</td>\n",
       "      <td>107477</td>\n",
       "      <td>28</td>\n",
       "      <td>14</td>\n",
       "      <td>42</td>\n",
       "      <td>107463</td>\n",
       "    </tr>\n",
       "    <tr>\n",
       "      <th>15</th>\n",
       "      <td>ABONOP_062018.csv</td>\n",
       "      <td>06</td>\n",
       "      <td>2018</td>\n",
       "      <td>106935</td>\n",
       "      <td>28</td>\n",
       "      <td>14</td>\n",
       "      <td>42</td>\n",
       "      <td>106921</td>\n",
       "    </tr>\n",
       "    <tr>\n",
       "      <th>37</th>\n",
       "      <td>ABONOP_072018.csv</td>\n",
       "      <td>07</td>\n",
       "      <td>2018</td>\n",
       "      <td>106854</td>\n",
       "      <td>28</td>\n",
       "      <td>14</td>\n",
       "      <td>42</td>\n",
       "      <td>106840</td>\n",
       "    </tr>\n",
       "    <tr>\n",
       "      <th>30</th>\n",
       "      <td>ABONOP_082018.csv</td>\n",
       "      <td>08</td>\n",
       "      <td>2018</td>\n",
       "      <td>107063</td>\n",
       "      <td>28</td>\n",
       "      <td>14</td>\n",
       "      <td>42</td>\n",
       "      <td>107049</td>\n",
       "    </tr>\n",
       "    <tr>\n",
       "      <th>40</th>\n",
       "      <td>ABONOP_092018.csv</td>\n",
       "      <td>09</td>\n",
       "      <td>2018</td>\n",
       "      <td>107566</td>\n",
       "      <td>28</td>\n",
       "      <td>14</td>\n",
       "      <td>42</td>\n",
       "      <td>107552</td>\n",
       "    </tr>\n",
       "    <tr>\n",
       "      <th>31</th>\n",
       "      <td>ABONOP_102018.csv</td>\n",
       "      <td>10</td>\n",
       "      <td>2018</td>\n",
       "      <td>108070</td>\n",
       "      <td>30</td>\n",
       "      <td>14</td>\n",
       "      <td>44</td>\n",
       "      <td>108055</td>\n",
       "    </tr>\n",
       "    <tr>\n",
       "      <th>1</th>\n",
       "      <td>ABONOP_112018.csv</td>\n",
       "      <td>11</td>\n",
       "      <td>2018</td>\n",
       "      <td>108685</td>\n",
       "      <td>28</td>\n",
       "      <td>14</td>\n",
       "      <td>42</td>\n",
       "      <td>108671</td>\n",
       "    </tr>\n",
       "    <tr>\n",
       "      <th>4</th>\n",
       "      <td>ABONOP_122018.csv</td>\n",
       "      <td>12</td>\n",
       "      <td>2018</td>\n",
       "      <td>109357</td>\n",
       "      <td>30</td>\n",
       "      <td>14</td>\n",
       "      <td>44</td>\n",
       "      <td>109342</td>\n",
       "    </tr>\n",
       "    <tr>\n",
       "      <th>39</th>\n",
       "      <td>ABONOP_012019.csv</td>\n",
       "      <td>01</td>\n",
       "      <td>2019</td>\n",
       "      <td>108392</td>\n",
       "      <td>32</td>\n",
       "      <td>14</td>\n",
       "      <td>46</td>\n",
       "      <td>108376</td>\n",
       "    </tr>\n",
       "    <tr>\n",
       "      <th>34</th>\n",
       "      <td>ABONOP_022019.csv</td>\n",
       "      <td>02</td>\n",
       "      <td>2019</td>\n",
       "      <td>105549</td>\n",
       "      <td>32</td>\n",
       "      <td>14</td>\n",
       "      <td>46</td>\n",
       "      <td>105533</td>\n",
       "    </tr>\n",
       "    <tr>\n",
       "      <th>27</th>\n",
       "      <td>ABONOP_032019.csv</td>\n",
       "      <td>03</td>\n",
       "      <td>2019</td>\n",
       "      <td>102590</td>\n",
       "      <td>34</td>\n",
       "      <td>14</td>\n",
       "      <td>48</td>\n",
       "      <td>102573</td>\n",
       "    </tr>\n",
       "    <tr>\n",
       "      <th>11</th>\n",
       "      <td>ABONOP_042019.csv</td>\n",
       "      <td>04</td>\n",
       "      <td>2019</td>\n",
       "      <td>100638</td>\n",
       "      <td>36</td>\n",
       "      <td>14</td>\n",
       "      <td>50</td>\n",
       "      <td>100620</td>\n",
       "    </tr>\n",
       "    <tr>\n",
       "      <th>29</th>\n",
       "      <td>ABONOP_052019.csv</td>\n",
       "      <td>05</td>\n",
       "      <td>2019</td>\n",
       "      <td>98984</td>\n",
       "      <td>36</td>\n",
       "      <td>14</td>\n",
       "      <td>50</td>\n",
       "      <td>98966</td>\n",
       "    </tr>\n",
       "    <tr>\n",
       "      <th>6</th>\n",
       "      <td>ABONOP_062019.csv</td>\n",
       "      <td>06</td>\n",
       "      <td>2019</td>\n",
       "      <td>97183</td>\n",
       "      <td>36</td>\n",
       "      <td>14</td>\n",
       "      <td>50</td>\n",
       "      <td>97165</td>\n",
       "    </tr>\n",
       "    <tr>\n",
       "      <th>9</th>\n",
       "      <td>ABONOP_072019.csv</td>\n",
       "      <td>07</td>\n",
       "      <td>2019</td>\n",
       "      <td>95529</td>\n",
       "      <td>34</td>\n",
       "      <td>14</td>\n",
       "      <td>48</td>\n",
       "      <td>95512</td>\n",
       "    </tr>\n",
       "    <tr>\n",
       "      <th>21</th>\n",
       "      <td>ABONOP_082019.csv</td>\n",
       "      <td>08</td>\n",
       "      <td>2019</td>\n",
       "      <td>94030</td>\n",
       "      <td>34</td>\n",
       "      <td>14</td>\n",
       "      <td>48</td>\n",
       "      <td>94013</td>\n",
       "    </tr>\n",
       "    <tr>\n",
       "      <th>42</th>\n",
       "      <td>ABONOP_092019.csv</td>\n",
       "      <td>09</td>\n",
       "      <td>2019</td>\n",
       "      <td>92353</td>\n",
       "      <td>36</td>\n",
       "      <td>14</td>\n",
       "      <td>50</td>\n",
       "      <td>92335</td>\n",
       "    </tr>\n",
       "    <tr>\n",
       "      <th>18</th>\n",
       "      <td>ABONOP_102019.csv</td>\n",
       "      <td>10</td>\n",
       "      <td>2019</td>\n",
       "      <td>90685</td>\n",
       "      <td>34</td>\n",
       "      <td>14</td>\n",
       "      <td>48</td>\n",
       "      <td>90668</td>\n",
       "    </tr>\n",
       "    <tr>\n",
       "      <th>2</th>\n",
       "      <td>ABONOP_112019.csv</td>\n",
       "      <td>11</td>\n",
       "      <td>2019</td>\n",
       "      <td>89559</td>\n",
       "      <td>34</td>\n",
       "      <td>14</td>\n",
       "      <td>48</td>\n",
       "      <td>89542</td>\n",
       "    </tr>\n",
       "    <tr>\n",
       "      <th>32</th>\n",
       "      <td>ABONOP_122019.csv</td>\n",
       "      <td>12</td>\n",
       "      <td>2019</td>\n",
       "      <td>89163</td>\n",
       "      <td>34</td>\n",
       "      <td>14</td>\n",
       "      <td>48</td>\n",
       "      <td>89146</td>\n",
       "    </tr>\n",
       "    <tr>\n",
       "      <th>16</th>\n",
       "      <td>ABONOP_012020.csv</td>\n",
       "      <td>01</td>\n",
       "      <td>2020</td>\n",
       "      <td>88023</td>\n",
       "      <td>36</td>\n",
       "      <td>14</td>\n",
       "      <td>50</td>\n",
       "      <td>88005</td>\n",
       "    </tr>\n",
       "    <tr>\n",
       "      <th>13</th>\n",
       "      <td>ABONOP_022020.csv</td>\n",
       "      <td>02</td>\n",
       "      <td>2020</td>\n",
       "      <td>86727</td>\n",
       "      <td>34</td>\n",
       "      <td>14</td>\n",
       "      <td>48</td>\n",
       "      <td>86710</td>\n",
       "    </tr>\n",
       "    <tr>\n",
       "      <th>14</th>\n",
       "      <td>ABONOP_032020.csv</td>\n",
       "      <td>03</td>\n",
       "      <td>2020</td>\n",
       "      <td>84921</td>\n",
       "      <td>36</td>\n",
       "      <td>14</td>\n",
       "      <td>50</td>\n",
       "      <td>84903</td>\n",
       "    </tr>\n",
       "    <tr>\n",
       "      <th>36</th>\n",
       "      <td>ABONOP_042020.csv</td>\n",
       "      <td>04</td>\n",
       "      <td>2020</td>\n",
       "      <td>83494</td>\n",
       "      <td>34</td>\n",
       "      <td>14</td>\n",
       "      <td>48</td>\n",
       "      <td>83477</td>\n",
       "    </tr>\n",
       "    <tr>\n",
       "      <th>41</th>\n",
       "      <td>ABONOP_052020.csv</td>\n",
       "      <td>05</td>\n",
       "      <td>2020</td>\n",
       "      <td>82437</td>\n",
       "      <td>34</td>\n",
       "      <td>14</td>\n",
       "      <td>48</td>\n",
       "      <td>82420</td>\n",
       "    </tr>\n",
       "    <tr>\n",
       "      <th>10</th>\n",
       "      <td>ABONOP_062020.csv</td>\n",
       "      <td>06</td>\n",
       "      <td>2020</td>\n",
       "      <td>81654</td>\n",
       "      <td>30</td>\n",
       "      <td>14</td>\n",
       "      <td>44</td>\n",
       "      <td>81639</td>\n",
       "    </tr>\n",
       "    <tr>\n",
       "      <th>7</th>\n",
       "      <td>ABONOP_072020.csv</td>\n",
       "      <td>07</td>\n",
       "      <td>2020</td>\n",
       "      <td>81154</td>\n",
       "      <td>30</td>\n",
       "      <td>14</td>\n",
       "      <td>44</td>\n",
       "      <td>81139</td>\n",
       "    </tr>\n",
       "    <tr>\n",
       "      <th>35</th>\n",
       "      <td>ABONOP_082020.csv</td>\n",
       "      <td>08</td>\n",
       "      <td>2020</td>\n",
       "      <td>80750</td>\n",
       "      <td>32</td>\n",
       "      <td>14</td>\n",
       "      <td>46</td>\n",
       "      <td>80734</td>\n",
       "    </tr>\n",
       "  </tbody>\n",
       "</table>\n",
       "</div>"
      ],
      "text/plain": [
       "                table month  year original_size duplicates nans removed  \\\n",
       "19  ABONOP_012017.csv    01  2017        109850         24   14      38   \n",
       "0   ABONOP_022017.csv    02  2017        109301         22   14      36   \n",
       "17  ABONOP_032017.csv    03  2017        108918         22   14      36   \n",
       "5   ABONOP_042017.csv    04  2017        108133         20   14      34   \n",
       "26  ABONOP_052017.csv    05  2017        108123         20   14      34   \n",
       "28  ABONOP_062017.csv    06  2017        107358         24   14      38   \n",
       "22  ABONOP_072017.csv    07  2017        106981         22   14      36   \n",
       "24  ABONOP_082017.csv    08  2017        107071         26   14      40   \n",
       "25  ABONOP_092017.csv    09  2017        107297         26   14      40   \n",
       "20  ABONOP_102017.csv    10  2017        107713         24   14      38   \n",
       "38  ABONOP_112017.csv    11  2017        108352         24   14      38   \n",
       "33  ABONOP_122017.csv    12  2017        109234         24   14      38   \n",
       "3   ABONOP_012018.csv    01  2018        109326         28   14      42   \n",
       "23  ABONOP_022018.csv    02  2018        108687         26   14      40   \n",
       "43  ABONOP_032018.csv    03  2018        107994         26   14      40   \n",
       "8   ABONOP_042018.csv    04  2018        107568         28   14      42   \n",
       "12  ABONOP_052018.csv    05  2018        107477         28   14      42   \n",
       "15  ABONOP_062018.csv    06  2018        106935         28   14      42   \n",
       "37  ABONOP_072018.csv    07  2018        106854         28   14      42   \n",
       "30  ABONOP_082018.csv    08  2018        107063         28   14      42   \n",
       "40  ABONOP_092018.csv    09  2018        107566         28   14      42   \n",
       "31  ABONOP_102018.csv    10  2018        108070         30   14      44   \n",
       "1   ABONOP_112018.csv    11  2018        108685         28   14      42   \n",
       "4   ABONOP_122018.csv    12  2018        109357         30   14      44   \n",
       "39  ABONOP_012019.csv    01  2019        108392         32   14      46   \n",
       "34  ABONOP_022019.csv    02  2019        105549         32   14      46   \n",
       "27  ABONOP_032019.csv    03  2019        102590         34   14      48   \n",
       "11  ABONOP_042019.csv    04  2019        100638         36   14      50   \n",
       "29  ABONOP_052019.csv    05  2019         98984         36   14      50   \n",
       "6   ABONOP_062019.csv    06  2019         97183         36   14      50   \n",
       "9   ABONOP_072019.csv    07  2019         95529         34   14      48   \n",
       "21  ABONOP_082019.csv    08  2019         94030         34   14      48   \n",
       "42  ABONOP_092019.csv    09  2019         92353         36   14      50   \n",
       "18  ABONOP_102019.csv    10  2019         90685         34   14      48   \n",
       "2   ABONOP_112019.csv    11  2019         89559         34   14      48   \n",
       "32  ABONOP_122019.csv    12  2019         89163         34   14      48   \n",
       "16  ABONOP_012020.csv    01  2020         88023         36   14      50   \n",
       "13  ABONOP_022020.csv    02  2020         86727         34   14      48   \n",
       "14  ABONOP_032020.csv    03  2020         84921         36   14      50   \n",
       "36  ABONOP_042020.csv    04  2020         83494         34   14      48   \n",
       "41  ABONOP_052020.csv    05  2020         82437         34   14      48   \n",
       "10  ABONOP_062020.csv    06  2020         81654         30   14      44   \n",
       "7   ABONOP_072020.csv    07  2020         81154         30   14      44   \n",
       "35  ABONOP_082020.csv    08  2020         80750         32   14      46   \n",
       "\n",
       "   filtered_size  \n",
       "19        109838  \n",
       "0         109290  \n",
       "17        108907  \n",
       "5         108123  \n",
       "26        108113  \n",
       "28        107346  \n",
       "22        106970  \n",
       "24        107058  \n",
       "25        107284  \n",
       "20        107701  \n",
       "38        108340  \n",
       "33        109222  \n",
       "3         109312  \n",
       "23        108674  \n",
       "43        107981  \n",
       "8         107554  \n",
       "12        107463  \n",
       "15        106921  \n",
       "37        106840  \n",
       "30        107049  \n",
       "40        107552  \n",
       "31        108055  \n",
       "1         108671  \n",
       "4         109342  \n",
       "39        108376  \n",
       "34        105533  \n",
       "27        102573  \n",
       "11        100620  \n",
       "29         98966  \n",
       "6          97165  \n",
       "9          95512  \n",
       "21         94013  \n",
       "42         92335  \n",
       "18         90668  \n",
       "2          89542  \n",
       "32         89146  \n",
       "16         88005  \n",
       "13         86710  \n",
       "14         84903  \n",
       "36         83477  \n",
       "41         82420  \n",
       "10         81639  \n",
       "7          81139  \n",
       "35         80734  "
      ]
     },
     "execution_count": 114,
     "metadata": {},
     "output_type": "execute_result"
    }
   ],
   "source": [
    "all_dirtness.sort_values(['year','month'],inplace=True)\n",
    "all_dirtness"
   ]
  },
  {
   "cell_type": "code",
   "execution_count": null,
   "metadata": {},
   "outputs": [],
   "source": []
  }
 ],
 "metadata": {
  "kernelspec": {
   "display_name": "Python 3",
   "language": "python",
   "name": "python3"
  },
  "language_info": {
   "codemirror_mode": {
    "name": "ipython",
    "version": 3
   },
   "file_extension": ".py",
   "mimetype": "text/x-python",
   "name": "python",
   "nbconvert_exporter": "python",
   "pygments_lexer": "ipython3",
   "version": "3.7.3"
  }
 },
 "nbformat": 4,
 "nbformat_minor": 4
}
