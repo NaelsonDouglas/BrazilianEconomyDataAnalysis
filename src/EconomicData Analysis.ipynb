{
 "cells": [
  {
   "cell_type": "markdown",
   "metadata": {},
   "source": [
    "# Imports"
   ]
  },
  {
   "cell_type": "code",
   "execution_count": 1,
   "metadata": {},
   "outputs": [
    {
     "name": "stdout",
     "output_type": "stream",
     "text": [
      "Defaulting to user installation because normal site-packages is not writeable\n",
      "Requirement already satisfied: graphviz in /home/ndc/.local/lib/python3.7/site-packages (0.14.1)\n"
     ]
    }
   ],
   "source": [
    "from sklearn.model_selection import KFold\n",
    "from matplotlib import pyplot as plt\n",
    "import pandas as pd\n",
    "import requests\n",
    "import urllib\n",
    "import io\n",
    "import os\n",
    "import sys\n",
    "from scipy import stats\n",
    "import numpy as np\n",
    "import sys\n",
    "!{sys.executable} -m pip install graphviz\n",
    "import graphviz\n"
   ]
  },
  {
   "cell_type": "markdown",
   "metadata": {},
   "source": [
    "# Baixando arquivos (demora, só precisa baixar uma vez)"
   ]
  },
  {
   "cell_type": "code",
   "execution_count": 2,
   "metadata": {},
   "outputs": [],
   "source": [
    "name_prefix='ABONOP_'\n",
    "abono_name_base = 'http://repositorio.dados.gov.br/segrt/'\n",
    "months =['01','02','03','04','05','06','07','08','09','10','11','12']\n",
    "years = range(2017,2021)\n",
    "tables = []"
   ]
  },
  {
   "cell_type": "code",
   "execution_count": 3,
   "metadata": {},
   "outputs": [
    {
     "name": "stdout",
     "output_type": "stream",
     "text": [
      "ABONOP_012017.csv\n",
      "http://repositorio.dados.gov.br/segrt/ABONOP_012017.csv\n"
     ]
    },
    {
     "ename": "KeyboardInterrupt",
     "evalue": "",
     "output_type": "error",
     "traceback": [
      "\u001b[0;31m---------------------------------------------------------------------------\u001b[0m",
      "\u001b[0;31mKeyboardInterrupt\u001b[0m                         Traceback (most recent call last)",
      "\u001b[0;32m<ipython-input-3-86b707436deb>\u001b[0m in \u001b[0;36m<module>\u001b[0;34m\u001b[0m\n\u001b[1;32m     10\u001b[0m     \u001b[0;32mexcept\u001b[0m\u001b[0;34m:\u001b[0m\u001b[0;34m\u001b[0m\u001b[0;34m\u001b[0m\u001b[0m\n\u001b[1;32m     11\u001b[0m         \u001b[0;32mpass\u001b[0m\u001b[0;34m\u001b[0m\u001b[0;34m\u001b[0m\u001b[0m\n\u001b[0;32m---> 12\u001b[0;31m     \u001b[0mtable\u001b[0m \u001b[0;34m=\u001b[0m \u001b[0mpd\u001b[0m\u001b[0;34m.\u001b[0m\u001b[0mread_csv\u001b[0m\u001b[0;34m(\u001b[0m\u001b[0murl\u001b[0m\u001b[0;34m,\u001b[0m \u001b[0mencoding\u001b[0m \u001b[0;34m=\u001b[0m \u001b[0;34m\"ISO-8859-1\"\u001b[0m\u001b[0;34m,\u001b[0m \u001b[0merror_bad_lines\u001b[0m\u001b[0;34m=\u001b[0m\u001b[0;32mFalse\u001b[0m\u001b[0;34m)\u001b[0m\u001b[0;34m\u001b[0m\u001b[0;34m\u001b[0m\u001b[0m\n\u001b[0m\u001b[1;32m     13\u001b[0m     \u001b[0mtables\u001b[0m\u001b[0;34m.\u001b[0m\u001b[0mappend\u001b[0m\u001b[0;34m(\u001b[0m\u001b[0mtable\u001b[0m\u001b[0;34m)\u001b[0m\u001b[0;34m\u001b[0m\u001b[0;34m\u001b[0m\u001b[0m\n\u001b[1;32m     14\u001b[0m     \u001b[0;31m#except:\u001b[0m\u001b[0;34m\u001b[0m\u001b[0;34m\u001b[0m\u001b[0;34m\u001b[0m\u001b[0m\n",
      "\u001b[0;32m~/.local/lib/python3.7/site-packages/pandas/io/parsers.py\u001b[0m in \u001b[0;36mparser_f\u001b[0;34m(filepath_or_buffer, sep, delimiter, header, names, index_col, usecols, squeeze, prefix, mangle_dupe_cols, dtype, engine, converters, true_values, false_values, skipinitialspace, skiprows, skipfooter, nrows, na_values, keep_default_na, na_filter, verbose, skip_blank_lines, parse_dates, infer_datetime_format, keep_date_col, date_parser, dayfirst, cache_dates, iterator, chunksize, compression, thousands, decimal, lineterminator, quotechar, quoting, doublequote, escapechar, comment, encoding, dialect, error_bad_lines, warn_bad_lines, delim_whitespace, low_memory, memory_map, float_precision)\u001b[0m\n\u001b[1;32m    683\u001b[0m         )\n\u001b[1;32m    684\u001b[0m \u001b[0;34m\u001b[0m\u001b[0m\n\u001b[0;32m--> 685\u001b[0;31m         \u001b[0;32mreturn\u001b[0m \u001b[0m_read\u001b[0m\u001b[0;34m(\u001b[0m\u001b[0mfilepath_or_buffer\u001b[0m\u001b[0;34m,\u001b[0m \u001b[0mkwds\u001b[0m\u001b[0;34m)\u001b[0m\u001b[0;34m\u001b[0m\u001b[0;34m\u001b[0m\u001b[0m\n\u001b[0m\u001b[1;32m    686\u001b[0m \u001b[0;34m\u001b[0m\u001b[0m\n\u001b[1;32m    687\u001b[0m     \u001b[0mparser_f\u001b[0m\u001b[0;34m.\u001b[0m\u001b[0m__name__\u001b[0m \u001b[0;34m=\u001b[0m \u001b[0mname\u001b[0m\u001b[0;34m\u001b[0m\u001b[0;34m\u001b[0m\u001b[0m\n",
      "\u001b[0;32m~/.local/lib/python3.7/site-packages/pandas/io/parsers.py\u001b[0m in \u001b[0;36m_read\u001b[0;34m(filepath_or_buffer, kwds)\u001b[0m\n\u001b[1;32m    438\u001b[0m     \u001b[0;31m# See https://github.com/python/mypy/issues/1297\u001b[0m\u001b[0;34m\u001b[0m\u001b[0;34m\u001b[0m\u001b[0;34m\u001b[0m\u001b[0m\n\u001b[1;32m    439\u001b[0m     fp_or_buf, _, compression, should_close = get_filepath_or_buffer(\n\u001b[0;32m--> 440\u001b[0;31m         \u001b[0mfilepath_or_buffer\u001b[0m\u001b[0;34m,\u001b[0m \u001b[0mencoding\u001b[0m\u001b[0;34m,\u001b[0m \u001b[0mcompression\u001b[0m\u001b[0;34m\u001b[0m\u001b[0;34m\u001b[0m\u001b[0m\n\u001b[0m\u001b[1;32m    441\u001b[0m     )\n\u001b[1;32m    442\u001b[0m     \u001b[0mkwds\u001b[0m\u001b[0;34m[\u001b[0m\u001b[0;34m\"compression\"\u001b[0m\u001b[0;34m]\u001b[0m \u001b[0;34m=\u001b[0m \u001b[0mcompression\u001b[0m\u001b[0;34m\u001b[0m\u001b[0;34m\u001b[0m\u001b[0m\n",
      "\u001b[0;32m~/.local/lib/python3.7/site-packages/pandas/io/common.py\u001b[0m in \u001b[0;36mget_filepath_or_buffer\u001b[0;34m(filepath_or_buffer, encoding, compression, mode)\u001b[0m\n\u001b[1;32m    197\u001b[0m             \u001b[0;31m# Override compression based on Content-Encoding header\u001b[0m\u001b[0;34m\u001b[0m\u001b[0;34m\u001b[0m\u001b[0;34m\u001b[0m\u001b[0m\n\u001b[1;32m    198\u001b[0m             \u001b[0mcompression\u001b[0m \u001b[0;34m=\u001b[0m \u001b[0;34m\"gzip\"\u001b[0m\u001b[0;34m\u001b[0m\u001b[0;34m\u001b[0m\u001b[0m\n\u001b[0;32m--> 199\u001b[0;31m         \u001b[0mreader\u001b[0m \u001b[0;34m=\u001b[0m \u001b[0mBytesIO\u001b[0m\u001b[0;34m(\u001b[0m\u001b[0mreq\u001b[0m\u001b[0;34m.\u001b[0m\u001b[0mread\u001b[0m\u001b[0;34m(\u001b[0m\u001b[0;34m)\u001b[0m\u001b[0;34m)\u001b[0m\u001b[0;34m\u001b[0m\u001b[0;34m\u001b[0m\u001b[0m\n\u001b[0m\u001b[1;32m    200\u001b[0m         \u001b[0mreq\u001b[0m\u001b[0;34m.\u001b[0m\u001b[0mclose\u001b[0m\u001b[0;34m(\u001b[0m\u001b[0;34m)\u001b[0m\u001b[0;34m\u001b[0m\u001b[0;34m\u001b[0m\u001b[0m\n\u001b[1;32m    201\u001b[0m         \u001b[0;32mreturn\u001b[0m \u001b[0mreader\u001b[0m\u001b[0;34m,\u001b[0m \u001b[0mencoding\u001b[0m\u001b[0;34m,\u001b[0m \u001b[0mcompression\u001b[0m\u001b[0;34m,\u001b[0m \u001b[0;32mTrue\u001b[0m\u001b[0;34m\u001b[0m\u001b[0;34m\u001b[0m\u001b[0m\n",
      "\u001b[0;32m/usr/lib/python3.7/http/client.py\u001b[0m in \u001b[0;36mread\u001b[0;34m(self, amt)\u001b[0m\n\u001b[1;32m    468\u001b[0m             \u001b[0;32melse\u001b[0m\u001b[0;34m:\u001b[0m\u001b[0;34m\u001b[0m\u001b[0;34m\u001b[0m\u001b[0m\n\u001b[1;32m    469\u001b[0m                 \u001b[0;32mtry\u001b[0m\u001b[0;34m:\u001b[0m\u001b[0;34m\u001b[0m\u001b[0;34m\u001b[0m\u001b[0m\n\u001b[0;32m--> 470\u001b[0;31m                     \u001b[0ms\u001b[0m \u001b[0;34m=\u001b[0m \u001b[0mself\u001b[0m\u001b[0;34m.\u001b[0m\u001b[0m_safe_read\u001b[0m\u001b[0;34m(\u001b[0m\u001b[0mself\u001b[0m\u001b[0;34m.\u001b[0m\u001b[0mlength\u001b[0m\u001b[0;34m)\u001b[0m\u001b[0;34m\u001b[0m\u001b[0;34m\u001b[0m\u001b[0m\n\u001b[0m\u001b[1;32m    471\u001b[0m                 \u001b[0;32mexcept\u001b[0m \u001b[0mIncompleteRead\u001b[0m\u001b[0;34m:\u001b[0m\u001b[0;34m\u001b[0m\u001b[0;34m\u001b[0m\u001b[0m\n\u001b[1;32m    472\u001b[0m                     \u001b[0mself\u001b[0m\u001b[0;34m.\u001b[0m\u001b[0m_close_conn\u001b[0m\u001b[0;34m(\u001b[0m\u001b[0;34m)\u001b[0m\u001b[0;34m\u001b[0m\u001b[0;34m\u001b[0m\u001b[0m\n",
      "\u001b[0;32m/usr/lib/python3.7/http/client.py\u001b[0m in \u001b[0;36m_safe_read\u001b[0;34m(self, amt)\u001b[0m\n\u001b[1;32m    618\u001b[0m         \u001b[0ms\u001b[0m \u001b[0;34m=\u001b[0m \u001b[0;34m[\u001b[0m\u001b[0;34m]\u001b[0m\u001b[0;34m\u001b[0m\u001b[0;34m\u001b[0m\u001b[0m\n\u001b[1;32m    619\u001b[0m         \u001b[0;32mwhile\u001b[0m \u001b[0mamt\u001b[0m \u001b[0;34m>\u001b[0m \u001b[0;36m0\u001b[0m\u001b[0;34m:\u001b[0m\u001b[0;34m\u001b[0m\u001b[0;34m\u001b[0m\u001b[0m\n\u001b[0;32m--> 620\u001b[0;31m             \u001b[0mchunk\u001b[0m \u001b[0;34m=\u001b[0m \u001b[0mself\u001b[0m\u001b[0;34m.\u001b[0m\u001b[0mfp\u001b[0m\u001b[0;34m.\u001b[0m\u001b[0mread\u001b[0m\u001b[0;34m(\u001b[0m\u001b[0mmin\u001b[0m\u001b[0;34m(\u001b[0m\u001b[0mamt\u001b[0m\u001b[0;34m,\u001b[0m \u001b[0mMAXAMOUNT\u001b[0m\u001b[0;34m)\u001b[0m\u001b[0;34m)\u001b[0m\u001b[0;34m\u001b[0m\u001b[0;34m\u001b[0m\u001b[0m\n\u001b[0m\u001b[1;32m    621\u001b[0m             \u001b[0;32mif\u001b[0m \u001b[0;32mnot\u001b[0m \u001b[0mchunk\u001b[0m\u001b[0;34m:\u001b[0m\u001b[0;34m\u001b[0m\u001b[0;34m\u001b[0m\u001b[0m\n\u001b[1;32m    622\u001b[0m                 \u001b[0;32mraise\u001b[0m \u001b[0mIncompleteRead\u001b[0m\u001b[0;34m(\u001b[0m\u001b[0;34mb''\u001b[0m\u001b[0;34m.\u001b[0m\u001b[0mjoin\u001b[0m\u001b[0;34m(\u001b[0m\u001b[0ms\u001b[0m\u001b[0;34m)\u001b[0m\u001b[0;34m,\u001b[0m \u001b[0mamt\u001b[0m\u001b[0;34m)\u001b[0m\u001b[0;34m\u001b[0m\u001b[0;34m\u001b[0m\u001b[0m\n",
      "\u001b[0;32m/usr/lib/python3.7/socket.py\u001b[0m in \u001b[0;36mreadinto\u001b[0;34m(self, b)\u001b[0m\n\u001b[1;32m    587\u001b[0m         \u001b[0;32mwhile\u001b[0m \u001b[0;32mTrue\u001b[0m\u001b[0;34m:\u001b[0m\u001b[0;34m\u001b[0m\u001b[0;34m\u001b[0m\u001b[0m\n\u001b[1;32m    588\u001b[0m             \u001b[0;32mtry\u001b[0m\u001b[0;34m:\u001b[0m\u001b[0;34m\u001b[0m\u001b[0;34m\u001b[0m\u001b[0m\n\u001b[0;32m--> 589\u001b[0;31m                 \u001b[0;32mreturn\u001b[0m \u001b[0mself\u001b[0m\u001b[0;34m.\u001b[0m\u001b[0m_sock\u001b[0m\u001b[0;34m.\u001b[0m\u001b[0mrecv_into\u001b[0m\u001b[0;34m(\u001b[0m\u001b[0mb\u001b[0m\u001b[0;34m)\u001b[0m\u001b[0;34m\u001b[0m\u001b[0;34m\u001b[0m\u001b[0m\n\u001b[0m\u001b[1;32m    590\u001b[0m             \u001b[0;32mexcept\u001b[0m \u001b[0mtimeout\u001b[0m\u001b[0;34m:\u001b[0m\u001b[0;34m\u001b[0m\u001b[0;34m\u001b[0m\u001b[0m\n\u001b[1;32m    591\u001b[0m                 \u001b[0mself\u001b[0m\u001b[0;34m.\u001b[0m\u001b[0m_timeout_occurred\u001b[0m \u001b[0;34m=\u001b[0m \u001b[0;32mTrue\u001b[0m\u001b[0;34m\u001b[0m\u001b[0;34m\u001b[0m\u001b[0m\n",
      "\u001b[0;31mKeyboardInterrupt\u001b[0m: "
     ]
    }
   ],
   "source": [
    "for y in years:\n",
    "  for m in months:\n",
    "    filename = name_prefix+str(m)+str(y)+'.csv'\n",
    "    print(filename)\n",
    "    url = abono_name_base+filename\n",
    "    print(url)\n",
    "    #try: #the .csv files goes until 2020-08\n",
    "    try:\n",
    "        urllib.request.urlretrieve(url, 'data/'+filename)\n",
    "    except:\n",
    "        pass\n",
    "    table = pd.read_csv(url, encoding = \"ISO-8859-1\", error_bad_lines=False)\n",
    "    tables.append(table)\n",
    "    #except:\n",
    "    #pass   \n"
   ]
  },
  {
   "cell_type": "markdown",
   "metadata": {},
   "source": [
    "# Definição das funções"
   ]
  },
  {
   "cell_type": "code",
   "execution_count": 27,
   "metadata": {},
   "outputs": [],
   "source": [
    "def clear_table(tbl):\n",
    "    no_duplicates = tbl.drop_duplicates()\n",
    "    no_null = no_duplicates.dropna()\n",
    "    #print('Antes: {} Depois: {}'.format(str(len(tbl.index)),str(len(no_null))))\n",
    "    return no_null\n",
    "\n",
    "def describe_dirtness(tbl,csv_name):    \n",
    "    duplicates = table[tbl.duplicated(table.columns,keep=False)].sort_values('Nome');\n",
    "    nans = table.isna().sum()\n",
    "    data = {'table':csv_name,'original_size':[len(table.index)],'duplicates':[len(duplicates.index)],'nans':[len(nans.index)],'removed':-1,'filtered_size':-1}\n",
    "    info = pd.DataFrame(data)\n",
    "    return info\n",
    "\n",
    "def get_year_month_from_filename(csv_name):\n",
    "    striped_name = csv_name.split('.')[0].split('_')[1]\n",
    "    month = striped_name[0:2]\n",
    "    year = striped_name[2:6]\n",
    "    return (month,year)\n",
    "\n",
    "def calculate_single_table_dirtness(table,f):\n",
    "    single_table_dirtness =  describe_dirtness(table,f)    \n",
    "    single_table_dirtness.at[0,'filtered_size'] = len(clean_table.index)\n",
    "    single_table_dirtness.at[0,'month'] = get_year_month_from_filename(single_table_dirtness.at[0,'table'])[0]\n",
    "    single_table_dirtness.at[0,'year'] = get_year_month_from_filename(single_table_dirtness.at[0,'table'])[1]\n",
    "    single_table_dirtness.at[0,'removed'] = single_table_dirtness.at[0,'duplicates']+single_table_dirtness.at[0,'nans']\n",
    "    return single_table_dirtness\n",
    "\n",
    "def parse_float(text):\n",
    "    if  isinstance(text,str):\n",
    "        result = float(text.replace(',','.'))\n",
    "    else: \n",
    "        result = text\n",
    "    return result\n",
    "\n",
    "def enable_print():\n",
    "    sys.stdout = sys.__stdout__\n",
    "\n",
    "def disable_print():\n",
    "    sys.stdout = open(os.devnull, 'w')   \n",
    "\n",
    "def remove_outliers(data,target_col,limit=0.99):\n",
    "    q=data[target_col].quantile(limit)\n",
    "    d = data_encoded[data_encoded['Val'] < q]\n",
    "    d[[target_col]].boxplot()\n",
    "    return d"
   ]
  },
  {
   "cell_type": "markdown",
   "metadata": {},
   "source": [
    "# lendo o dataset"
   ]
  },
  {
   "cell_type": "code",
   "execution_count": 29,
   "metadata": {},
   "outputs": [
    {
     "name": "stdout",
     "output_type": "stream",
     "text": [
      "data/ABONOP_022017.csv\n",
      "data/ABONOP_112018.csv\n",
      "data/ABONOP_112019.csv\n",
      "data/ABONOP_012018.csv\n",
      "data/ABONOP_122018.csv\n",
      "data/ABONOP_042017.csv\n",
      "data/ABONOP_062019.csv\n",
      "data/ABONOP_072020.csv\n",
      "data/ABONOP_042018.csv\n",
      "data/ABONOP_072019.csv\n",
      "data/ABONOP_062020.csv\n",
      "data/ABONOP_042019.csv\n",
      "data/ABONOP_052018.csv\n",
      "data/ABONOP_022020.csv\n",
      "data/ABONOP_032020.csv\n",
      "data/ABONOP_062018.csv\n",
      "data/ABONOP_012020.csv\n",
      "data/ABONOP_032017.csv\n",
      "data/ABONOP_102019.csv\n",
      "data/ABONOP_012017.csv\n",
      "data/ABONOP_102017.csv\n",
      "data/ABONOP_082019.csv\n",
      "data/ABONOP_072017.csv\n",
      "data/ABONOP_022018.csv\n",
      "data/ABONOP_082017.csv\n",
      "data/ABONOP_092017.csv\n",
      "data/ABONOP_052017.csv\n",
      "data/ABONOP_032019.csv\n",
      "data/ABONOP_062017.csv\n",
      "data/ABONOP_052019.csv\n",
      "data/ABONOP_082018.csv\n",
      "data/ABONOP_102018.csv\n",
      "data/ABONOP_122019.csv\n",
      "data/ABONOP_122017.csv\n",
      "data/ABONOP_022019.csv\n",
      "data/ABONOP_082020.csv\n",
      "data/ABONOP_042020.csv\n",
      "data/ABONOP_072018.csv\n",
      "data/ABONOP_112017.csv\n",
      "data/ABONOP_012019.csv\n",
      "data/ABONOP_092018.csv\n",
      "data/ABONOP_052020.csv\n",
      "data/ABONOP_092019.csv\n",
      "data/ABONOP_032018.csv\n"
     ]
    }
   ],
   "source": [
    "files = os.listdir('data')\n",
    "dataset = pd.DataFrame()\n",
    "initial_size = len(dataset.index)\n",
    "all_dirtiness = pd.DataFrame(columns = ['table','month','year','original_size','duplicates','nans','removed','filtered_size'])\n",
    "for f in files:\n",
    "    try:\n",
    "        path = 'data/'+f\n",
    "        print(path)        \n",
    "        table = pd.read_csv(path, encoding = \"ISO-8859-1\", delimiter=';', index_col=False, error_bad_lines=False,warn_bad_lines=False);\n",
    "        clean_table = clear_table(table);\n",
    "        clean_table['Mês'] = get_year_month_from_filename(f)[0]\n",
    "        clean_table['Ano'] = get_year_month_from_filename(f)[1]\n",
    "        dataset = dataset.append(clean_table);\n",
    "        single_table_dirtness =  calculate_single_table_dirtness(table,f);\n",
    "        all_dirtiness = all_dirtiness.append(single_table_dirtness, ignore_index=True)        \n",
    "    except:\n",
    "        pass\n",
    "all_dirtiness = all_dirtiness[['table','month','year','original_size','duplicates','nans','removed','filtered_size']]\n",
    "all_dirtiness.sort_values(['year','month'],inplace=True)\n",
    "\n",
    "dataset['Val'] = dataset['Val'].map(parse_float)\n",
    "dataset['Quantidade de meses no Serviço público'] = dataset['Quantidade de meses no Serviço público'].map(parse_float)\n",
    "dataset['Quantidade de anos no Serviço público'] = dataset['Quantidade de anos no Serviço público'].map(parse_float)"
   ]
  },
  {
   "cell_type": "markdown",
   "metadata": {},
   "source": [
    "# Exibindo quanto de dados ruins (nulos e NaNs) foi removido em cada ano"
   ]
  },
  {
   "cell_type": "code",
   "execution_count": 32,
   "metadata": {},
   "outputs": [
    {
     "name": "stdout",
     "output_type": "stream",
     "text": [
      "Removeu 635 linhas\n"
     ]
    }
   ],
   "source": [
    "all_dirtiness\n",
    "removed = all_dirtiness['original_size'].sum() - all_dirtiness['filtered_size'].sum()\n",
    "print('Removeu {} linhas'.format(str(removed)))"
   ]
  },
  {
   "cell_type": "markdown",
   "metadata": {},
   "source": [
    "# Descrevendo os dados inválidos de acordo com o ano"
   ]
  },
  {
   "cell_type": "code",
   "execution_count": 19,
   "metadata": {},
   "outputs": [
    {
     "data": {
      "image/png": "[encoded data removed]",
      "text/plain": [
       "<Figure size 432x288 with 1 Axes>"
      ]
     },
     "metadata": {
      "needs_background": "light"
     },
     "output_type": "display_data"
    }
   ],
   "source": [
    "by_year = {}\n",
    "for y in years:\n",
    "    by_year[y] = [all_dirtiness[all_dirtiness['year'] == str(y)]['removed'].sum()]\n",
    "pd.DataFrame(by_year).plot.bar(grid='both',title='Entradas inválidas por ano',xticks=None)\n",
    "plt.tick_params(labelbottom=False)"
   ]
  },
  {
   "cell_type": "markdown",
   "metadata": {},
   "source": [
    "# Contando o total de entradas"
   ]
  },
  {
   "cell_type": "code",
   "execution_count": 20,
   "metadata": {
    "scrolled": true
   },
   "outputs": [
    {
     "name": "stdout",
     "output_type": "stream",
     "text": [
      "The dataset had 0 rows before filtering and now have 4349187 rows after filtering. Leading to a difference of 4349187 rows\n"
     ]
    }
   ],
   "source": [
    "final_size = len(dataset.index)\n",
    "difference = final_size - initial_size\n",
    "\n",
    "print('The dataset had {} rows before filtering and now have {} rows after filtering. Leading to a difference of {} rows'.format(str(initial_size), str(final_size), str(difference)))"
   ]
  },
  {
   "cell_type": "markdown",
   "metadata": {},
   "source": [
    "# Descrevendo a distribuição de valores pagos"
   ]
  },
  {
   "cell_type": "code",
   "execution_count": 7,
   "metadata": {},
   "outputs": [
    {
     "data": {
      "text/plain": [
       "count    4.349186e+06\n",
       "mean     1.075332e+03\n",
       "std      8.809571e+02\n",
       "min      0.000000e+00\n",
       "25%      5.579100e+02\n",
       "50%      7.931600e+02\n",
       "75%      1.201490e+03\n",
       "max      4.025461e+04\n",
       "Name: Val, dtype: float64"
      ]
     },
     "execution_count": 7,
     "metadata": {},
     "output_type": "execute_result"
    }
   ],
   "source": [
    "dataset['Val'].describe()"
   ]
  },
  {
   "cell_type": "markdown",
   "metadata": {},
   "source": [
    "## Neste experimento iremos dar mais enfoque ao contexto dos dados no estado de Alagoas, pois temos interesse em realizar algumas inferências neste contexto.\n",
    "\n",
    "* Todavia iremos dar uma descrição, menos detalhada, dos dados em um geral."
   ]
  },
  {
   "cell_type": "markdown",
   "metadata": {},
   "source": [
    "# Abono por estado"
   ]
  },
  {
   "cell_type": "code",
   "execution_count": 11,
   "metadata": {},
   "outputs": [],
   "source": [
    "by_state=dataset.groupby(by='UF da Residência')"
   ]
  },
  {
   "cell_type": "markdown",
   "metadata": {},
   "source": [
    "## Com outliers"
   ]
  },
  {
   "cell_type": "code",
   "execution_count": 12,
   "metadata": {},
   "outputs": [
    {
     "data": {
      "text/plain": [
       "           AxesSubplot(0.1,0.792857;0.137931x0.107143)\n",
       "AC    AxesSubplot(0.265517,0.792857;0.137931x0.107143)\n",
       "AL    AxesSubplot(0.431034,0.792857;0.137931x0.107143)\n",
       "AM    AxesSubplot(0.596552,0.792857;0.137931x0.107143)\n",
       "AP    AxesSubplot(0.762069,0.792857;0.137931x0.107143)\n",
       "BA         AxesSubplot(0.1,0.664286;0.137931x0.107143)\n",
       "CE    AxesSubplot(0.265517,0.664286;0.137931x0.107143)\n",
       "DF    AxesSubplot(0.431034,0.664286;0.137931x0.107143)\n",
       "ES    AxesSubplot(0.596552,0.664286;0.137931x0.107143)\n",
       "GO    AxesSubplot(0.762069,0.664286;0.137931x0.107143)\n",
       "MA         AxesSubplot(0.1,0.535714;0.137931x0.107143)\n",
       "MG    AxesSubplot(0.265517,0.535714;0.137931x0.107143)\n",
       "MS    AxesSubplot(0.431034,0.535714;0.137931x0.107143)\n",
       "MT    AxesSubplot(0.596552,0.535714;0.137931x0.107143)\n",
       "PA    AxesSubplot(0.762069,0.535714;0.137931x0.107143)\n",
       "PB         AxesSubplot(0.1,0.407143;0.137931x0.107143)\n",
       "PE    AxesSubplot(0.265517,0.407143;0.137931x0.107143)\n",
       "PI    AxesSubplot(0.431034,0.407143;0.137931x0.107143)\n",
       "PR    AxesSubplot(0.596552,0.407143;0.137931x0.107143)\n",
       "RJ    AxesSubplot(0.762069,0.407143;0.137931x0.107143)\n",
       "RN         AxesSubplot(0.1,0.278571;0.137931x0.107143)\n",
       "RO    AxesSubplot(0.265517,0.278571;0.137931x0.107143)\n",
       "RR    AxesSubplot(0.431034,0.278571;0.137931x0.107143)\n",
       "RS    AxesSubplot(0.596552,0.278571;0.137931x0.107143)\n",
       "SC    AxesSubplot(0.762069,0.278571;0.137931x0.107143)\n",
       "SE             AxesSubplot(0.1,0.15;0.137931x0.107143)\n",
       "SP        AxesSubplot(0.265517,0.15;0.137931x0.107143)\n",
       "TO        AxesSubplot(0.431034,0.15;0.137931x0.107143)\n",
       "dtype: object"
      ]
     },
     "execution_count": 12,
     "metadata": {},
     "output_type": "execute_result"
    },
    {
     "data": {
      "image/png": "[encoded data removed]",
      "text/plain": [
       "<Figure size 1440x1440 with 30 Axes>"
      ]
     },
     "metadata": {
      "needs_background": "light"
     },
     "output_type": "display_data"
    }
   ],
   "source": [
    "by_state.boxplot(column='Val',  fontsize=10, figsize=(20,20), showfliers=True)"
   ]
  },
  {
   "cell_type": "markdown",
   "metadata": {},
   "source": [
    "## Sem outliers"
   ]
  },
  {
   "cell_type": "code",
   "execution_count": 29,
   "metadata": {},
   "outputs": [
    {
     "data": {
      "text/plain": [
       "           AxesSubplot(0.1,0.792857;0.137931x0.107143)\n",
       "AC    AxesSubplot(0.265517,0.792857;0.137931x0.107143)\n",
       "AL    AxesSubplot(0.431034,0.792857;0.137931x0.107143)\n",
       "AM    AxesSubplot(0.596552,0.792857;0.137931x0.107143)\n",
       "AP    AxesSubplot(0.762069,0.792857;0.137931x0.107143)\n",
       "BA         AxesSubplot(0.1,0.664286;0.137931x0.107143)\n",
       "CE    AxesSubplot(0.265517,0.664286;0.137931x0.107143)\n",
       "DF    AxesSubplot(0.431034,0.664286;0.137931x0.107143)\n",
       "ES    AxesSubplot(0.596552,0.664286;0.137931x0.107143)\n",
       "GO    AxesSubplot(0.762069,0.664286;0.137931x0.107143)\n",
       "MA         AxesSubplot(0.1,0.535714;0.137931x0.107143)\n",
       "MG    AxesSubplot(0.265517,0.535714;0.137931x0.107143)\n",
       "MS    AxesSubplot(0.431034,0.535714;0.137931x0.107143)\n",
       "MT    AxesSubplot(0.596552,0.535714;0.137931x0.107143)\n",
       "PA    AxesSubplot(0.762069,0.535714;0.137931x0.107143)\n",
       "PB         AxesSubplot(0.1,0.407143;0.137931x0.107143)\n",
       "PE    AxesSubplot(0.265517,0.407143;0.137931x0.107143)\n",
       "PI    AxesSubplot(0.431034,0.407143;0.137931x0.107143)\n",
       "PR    AxesSubplot(0.596552,0.407143;0.137931x0.107143)\n",
       "RJ    AxesSubplot(0.762069,0.407143;0.137931x0.107143)\n",
       "RN         AxesSubplot(0.1,0.278571;0.137931x0.107143)\n",
       "RO    AxesSubplot(0.265517,0.278571;0.137931x0.107143)\n",
       "RR    AxesSubplot(0.431034,0.278571;0.137931x0.107143)\n",
       "RS    AxesSubplot(0.596552,0.278571;0.137931x0.107143)\n",
       "SC    AxesSubplot(0.762069,0.278571;0.137931x0.107143)\n",
       "SE             AxesSubplot(0.1,0.15;0.137931x0.107143)\n",
       "SP        AxesSubplot(0.265517,0.15;0.137931x0.107143)\n",
       "TO        AxesSubplot(0.431034,0.15;0.137931x0.107143)\n",
       "dtype: object"
      ]
     },
     "execution_count": 29,
     "metadata": {},
     "output_type": "execute_result"
    },
    {
     "data": {
      "image/png": "[encoded data removed]",
      "text/plain": [
       "<Figure size 1440x1440 with 30 Axes>"
      ]
     },
     "metadata": {
      "needs_background": "light"
     },
     "output_type": "display_data"
    }
   ],
   "source": [
    "by_state.boxplot(column='Val',  fontsize=10, figsize=(20,20), showfliers=False)"
   ]
  },
  {
   "cell_type": "markdown",
   "metadata": {},
   "source": [
    "## Em Alagoas"
   ]
  },
  {
   "cell_type": "code",
   "execution_count": 34,
   "metadata": {},
   "outputs": [
    {
     "data": {
      "text/html": [
       "<div>\n",
       "<style scoped>\n",
       "    .dataframe tbody tr th:only-of-type {\n",
       "        vertical-align: middle;\n",
       "    }\n",
       "\n",
       "    .dataframe tbody tr th {\n",
       "        vertical-align: top;\n",
       "    }\n",
       "\n",
       "    .dataframe thead th {\n",
       "        text-align: right;\n",
       "    }\n",
       "</style>\n",
       "<table border=\"1\" class=\"dataframe\">\n",
       "  <thead>\n",
       "    <tr style=\"text-align: right;\">\n",
       "      <th></th>\n",
       "      <th>index</th>\n",
       "      <th>Quantidade de anos no Serviço público</th>\n",
       "      <th>Quantidade de meses no Serviço público</th>\n",
       "      <th>Ano/Mês inicial do abono de permanência</th>\n",
       "      <th>Val</th>\n",
       "    </tr>\n",
       "  </thead>\n",
       "  <tbody>\n",
       "    <tr>\n",
       "      <th>count</th>\n",
       "      <td>78059.000000</td>\n",
       "      <td>78059.000000</td>\n",
       "      <td>78059.000000</td>\n",
       "      <td>78059.000000</td>\n",
       "      <td>78059.000000</td>\n",
       "    </tr>\n",
       "    <tr>\n",
       "      <th>mean</th>\n",
       "      <td>45000.635225</td>\n",
       "      <td>35.517839</td>\n",
       "      <td>5.220397</td>\n",
       "      <td>201188.293957</td>\n",
       "      <td>1091.202176</td>\n",
       "    </tr>\n",
       "    <tr>\n",
       "      <th>std</th>\n",
       "      <td>26136.235077</td>\n",
       "      <td>4.798000</td>\n",
       "      <td>3.448408</td>\n",
       "      <td>412.060687</td>\n",
       "      <td>811.805606</td>\n",
       "    </tr>\n",
       "    <tr>\n",
       "      <th>min</th>\n",
       "      <td>138.000000</td>\n",
       "      <td>8.000000</td>\n",
       "      <td>0.000000</td>\n",
       "      <td>200301.000000</td>\n",
       "      <td>0.000000</td>\n",
       "    </tr>\n",
       "    <tr>\n",
       "      <th>25%</th>\n",
       "      <td>28744.000000</td>\n",
       "      <td>33.000000</td>\n",
       "      <td>2.000000</td>\n",
       "      <td>200909.000000</td>\n",
       "      <td>659.930000</td>\n",
       "    </tr>\n",
       "    <tr>\n",
       "      <th>50%</th>\n",
       "      <td>36281.000000</td>\n",
       "      <td>36.000000</td>\n",
       "      <td>5.000000</td>\n",
       "      <td>201304.000000</td>\n",
       "      <td>782.130000</td>\n",
       "    </tr>\n",
       "    <tr>\n",
       "      <th>75%</th>\n",
       "      <td>65534.500000</td>\n",
       "      <td>38.000000</td>\n",
       "      <td>8.000000</td>\n",
       "      <td>201501.000000</td>\n",
       "      <td>1210.930000</td>\n",
       "    </tr>\n",
       "    <tr>\n",
       "      <th>max</th>\n",
       "      <td>106952.000000</td>\n",
       "      <td>53.000000</td>\n",
       "      <td>11.000000</td>\n",
       "      <td>202006.000000</td>\n",
       "      <td>35673.030000</td>\n",
       "    </tr>\n",
       "  </tbody>\n",
       "</table>\n",
       "</div>"
      ],
      "text/plain": [
       "               index  Quantidade de anos no Serviço público  \\\n",
       "count   78059.000000                           78059.000000   \n",
       "mean    45000.635225                              35.517839   \n",
       "std     26136.235077                               4.798000   \n",
       "min       138.000000                               8.000000   \n",
       "25%     28744.000000                              33.000000   \n",
       "50%     36281.000000                              36.000000   \n",
       "75%     65534.500000                              38.000000   \n",
       "max    106952.000000                              53.000000   \n",
       "\n",
       "       Quantidade de meses no Serviço público  \\\n",
       "count                            78059.000000   \n",
       "mean                                 5.220397   \n",
       "std                                  3.448408   \n",
       "min                                  0.000000   \n",
       "25%                                  2.000000   \n",
       "50%                                  5.000000   \n",
       "75%                                  8.000000   \n",
       "max                                 11.000000   \n",
       "\n",
       "       Ano/Mês inicial do abono de permanência           Val  \n",
       "count                             78059.000000  78059.000000  \n",
       "mean                             201188.293957   1091.202176  \n",
       "std                                 412.060687    811.805606  \n",
       "min                              200301.000000      0.000000  \n",
       "25%                              200909.000000    659.930000  \n",
       "50%                              201304.000000    782.130000  \n",
       "75%                              201501.000000   1210.930000  \n",
       "max                              202006.000000  35673.030000  "
      ]
     },
     "execution_count": 34,
     "metadata": {},
     "output_type": "execute_result"
    }
   ],
   "source": [
    "al_df = by_state.get_group('AL').reset_index()\n",
    "al_df.describe()"
   ]
  },
  {
   "cell_type": "markdown",
   "metadata": {},
   "source": [
    "# Valor pago com outliers"
   ]
  },
  {
   "cell_type": "code",
   "execution_count": 37,
   "metadata": {},
   "outputs": [
    {
     "data": {
      "text/plain": [
       "<matplotlib.axes._subplots.AxesSubplot at 0x7fac2b43cc18>"
      ]
     },
     "execution_count": 37,
     "metadata": {},
     "output_type": "execute_result"
    },
    {
     "data": {
      "image/png": "[encoded data removed]",
      "text/plain": [
       "<Figure size 1440x1440 with 1 Axes>"
      ]
     },
     "metadata": {
      "needs_background": "light"
     },
     "output_type": "display_data"
    }
   ],
   "source": [
    "al_df.boxplot(column='Val',  fontsize=10, figsize=(20,20), showfliers=True)"
   ]
  },
  {
   "cell_type": "code",
   "execution_count": null,
   "metadata": {},
   "outputs": [],
   "source": []
  },
  {
   "cell_type": "markdown",
   "metadata": {},
   "source": [
    "# Valor pago sem outliers"
   ]
  },
  {
   "cell_type": "code",
   "execution_count": 33,
   "metadata": {},
   "outputs": [
    {
     "data": {
      "text/plain": [
       "<matplotlib.axes._subplots.AxesSubplot at 0x7fac2c087a90>"
      ]
     },
     "execution_count": 33,
     "metadata": {},
     "output_type": "execute_result"
    },
    {
     "data": {
      "image/png": "[encoded data removed]",
      "text/plain": [
       "<Figure size 1440x1440 with 1 Axes>"
      ]
     },
     "metadata": {
      "needs_background": "light"
     },
     "output_type": "display_data"
    }
   ],
   "source": [
    "al_df.boxplot(column='Val',  fontsize=10, figsize=(20,20), showfliers=False)"
   ]
  },
  {
   "cell_type": "markdown",
   "metadata": {},
   "source": [
    "# Agrupando por valor pago"
   ]
  },
  {
   "cell_type": "code",
   "execution_count": 10,
   "metadata": {},
   "outputs": [
    {
     "data": {
      "text/plain": [
       "<matplotlib.axes._subplots.AxesSubplot at 0x7f384b918630>"
      ]
     },
     "execution_count": 10,
     "metadata": {},
     "output_type": "execute_result"
    },
    {
     "data": {
      "image/png": "[encoded data removed]",
      "text/plain": [
       "<Figure size 432x288 with 1 Axes>"
      ]
     },
     "metadata": {
      "needs_background": "light"
     },
     "output_type": "display_data"
    }
   ],
   "source": [
    "dataset['Val'].plot.box()"
   ]
  },
  {
   "cell_type": "markdown",
   "metadata": {},
   "source": [
    "## Com outliers"
   ]
  },
  {
   "cell_type": "code",
   "execution_count": 9,
   "metadata": {},
   "outputs": [
    {
     "data": {
      "text/plain": [
       "<matplotlib.axes._subplots.AxesSubplot at 0x7fac0296a320>"
      ]
     },
     "execution_count": 9,
     "metadata": {},
     "output_type": "execute_result"
    },
    {
     "data": {
      "image/png": "[encoded data removed]",
      "text/plain": [
       "<Figure size 432x288 with 1 Axes>"
      ]
     },
     "metadata": {
      "needs_background": "light"
     },
     "output_type": "display_data"
    }
   ],
   "source": [
    "dataset['Val'].plot.box(showfliers=False)"
   ]
  },
  {
   "cell_type": "code",
   "execution_count": 8,
   "metadata": {},
   "outputs": [
    {
     "data": {
      "text/plain": [
       "array([[<matplotlib.axes._subplots.AxesSubplot object at 0x7fac0e735080>]],\n",
       "      dtype=object)"
      ]
     },
     "execution_count": 8,
     "metadata": {},
     "output_type": "execute_result"
    },
    {
     "data": {
      "image/png": "[encoded data removed]",
      "text/plain": [
       "<Figure size 432x288 with 1 Axes>"
      ]
     },
     "metadata": {
      "needs_background": "light"
     },
     "output_type": "display_data"
    }
   ],
   "source": [
    "dataset.hist(column='Val',bins=80)"
   ]
  },
  {
   "cell_type": "markdown",
   "metadata": {},
   "source": [
    "# Sem outliers"
   ]
  },
  {
   "cell_type": "code",
   "execution_count": 10,
   "metadata": {},
   "outputs": [
    {
     "data": {
      "text/plain": [
       "array([[<matplotlib.axes._subplots.AxesSubplot object at 0x7fac315ad978>]],\n",
       "      dtype=object)"
      ]
     },
     "execution_count": 10,
     "metadata": {},
     "output_type": "execute_result"
    },
    {
     "data": {
      "image/png": "[encoded data removed]",
      "text/plain": [
       "<Figure size 432x288 with 1 Axes>"
      ]
     },
     "metadata": {
      "needs_background": "light"
     },
     "output_type": "display_data"
    }
   ],
   "source": [
    "q = dataset[\"Val\"].quantile(0.99)\n",
    "#description\n",
    "no_outliers = dataset[dataset['Val'] <  q]\n",
    "no_outliers.hist(column='Val',bins=50)\n"
   ]
  },
  {
   "cell_type": "markdown",
   "metadata": {},
   "source": [
    "# Abono por escolaridade"
   ]
  },
  {
   "cell_type": "code",
   "execution_count": 13,
   "metadata": {},
   "outputs": [],
   "source": [
    "by_education = dataset.groupby(by='Nível de Escolaridade')"
   ]
  },
  {
   "cell_type": "code",
   "execution_count": 41,
   "metadata": {},
   "outputs": [
    {
     "data": {
      "text/plain": [
       "4A. SERIE DO PRIMEIRO GRAU COMPLETA                   AxesSubplot(0.1,0.736957;0.235294x0.163043)\n",
       "ALFABETIZADO SEM CURSOS REGULARES                AxesSubplot(0.382353,0.736957;0.235294x0.163043)\n",
       "DOUTORADO                                        AxesSubplot(0.664706,0.736957;0.235294x0.163043)\n",
       "ENSINO FUNDAMENTAL                                    AxesSubplot(0.1,0.541304;0.235294x0.163043)\n",
       "ENSINO FUNDAMENTAL INCOMPLETO                    AxesSubplot(0.382353,0.541304;0.235294x0.163043)\n",
       "ENSINO MEDIO                                     AxesSubplot(0.664706,0.541304;0.235294x0.163043)\n",
       "ENSINO SUPERIOR                                       AxesSubplot(0.1,0.345652;0.235294x0.163043)\n",
       "MESTRADO                                         AxesSubplot(0.382353,0.345652;0.235294x0.163043)\n",
       "PRIMEIRO GRAU INCOMP.-ATE A 4A.SERIE INCOMP.     AxesSubplot(0.664706,0.345652;0.235294x0.163043)\n",
       "SEGUNDO GRAU INCOMPLETO                                   AxesSubplot(0.1,0.15;0.235294x0.163043)\n",
       "SUPERIOR INCOMPLETO                                  AxesSubplot(0.382353,0.15;0.235294x0.163043)\n",
       "dtype: object"
      ]
     },
     "execution_count": 41,
     "metadata": {},
     "output_type": "execute_result"
    },
    {
     "data": {
      "image/png": "[encoded data removed]",
      "text/plain": [
       "<Figure size 1440x1440 with 12 Axes>"
      ]
     },
     "metadata": {
      "needs_background": "light"
     },
     "output_type": "display_data"
    }
   ],
   "source": [
    "by_education.boxplot(column='Val',  fontsize=10, figsize=(20,20), showfliers=False)"
   ]
  },
  {
   "cell_type": "markdown",
   "metadata": {},
   "source": [
    "## Abono por escolaridade  em Alagoas"
   ]
  },
  {
   "cell_type": "code",
   "execution_count": 45,
   "metadata": {},
   "outputs": [
    {
     "data": {
      "text/plain": [
       "ALFABETIZADO SEM CURSOS REGULARES                     AxesSubplot(0.1,0.679412;0.235294x0.220588)\n",
       "DOUTORADO                                        AxesSubplot(0.382353,0.679412;0.235294x0.220588)\n",
       "ENSINO FUNDAMENTAL                               AxesSubplot(0.664706,0.679412;0.235294x0.220588)\n",
       "ENSINO FUNDAMENTAL INCOMPLETO                         AxesSubplot(0.1,0.414706;0.235294x0.220588)\n",
       "ENSINO MEDIO                                     AxesSubplot(0.382353,0.414706;0.235294x0.220588)\n",
       "ENSINO SUPERIOR                                  AxesSubplot(0.664706,0.414706;0.235294x0.220588)\n",
       "MESTRADO                                                  AxesSubplot(0.1,0.15;0.235294x0.220588)\n",
       "SUPERIOR INCOMPLETO                                  AxesSubplot(0.382353,0.15;0.235294x0.220588)\n",
       "dtype: object"
      ]
     },
     "execution_count": 45,
     "metadata": {},
     "output_type": "execute_result"
    },
    {
     "data": {
      "image/png": "[encoded data removed]",
      "text/plain": [
       "<Figure size 1440x1440 with 9 Axes>"
      ]
     },
     "metadata": {
      "needs_background": "light"
     },
     "output_type": "display_data"
    }
   ],
   "source": [
    "al_by_education = al_df.groupby(by='Nível de Escolaridade')\n",
    "al_by_education.boxplot(column='Val',  fontsize=10, figsize=(20,20), showfliers=False)"
   ]
  },
  {
   "cell_type": "markdown",
   "metadata": {},
   "source": [
    "# Abono por ano"
   ]
  },
  {
   "cell_type": "code",
   "execution_count": 49,
   "metadata": {},
   "outputs": [
    {
     "data": {
      "text/plain": [
       "2017         AxesSubplot(0.1,0.559091;0.363636x0.340909)\n",
       "2018    AxesSubplot(0.536364,0.559091;0.363636x0.340909)\n",
       "2019             AxesSubplot(0.1,0.15;0.363636x0.340909)\n",
       "2020        AxesSubplot(0.536364,0.15;0.363636x0.340909)\n",
       "dtype: object"
      ]
     },
     "execution_count": 49,
     "metadata": {},
     "output_type": "execute_result"
    },
    {
     "data": {
      "image/png": "[encoded data removed]",
      "text/plain": [
       "<Figure size 1440x1440 with 4 Axes>"
      ]
     },
     "metadata": {
      "needs_background": "light"
     },
     "output_type": "display_data"
    }
   ],
   "source": [
    "by_year = dataset.groupby(by='Ano')\n",
    "by_year.boxplot(column='Val',  fontsize=10, figsize=(20,20), showfliers=False)"
   ]
  },
  {
   "cell_type": "markdown",
   "metadata": {},
   "source": [
    "# Abono por ano em Alagoas"
   ]
  },
  {
   "cell_type": "code",
   "execution_count": 51,
   "metadata": {},
   "outputs": [
    {
     "data": {
      "text/plain": [
       "2017         AxesSubplot(0.1,0.559091;0.363636x0.340909)\n",
       "2018    AxesSubplot(0.536364,0.559091;0.363636x0.340909)\n",
       "2019             AxesSubplot(0.1,0.15;0.363636x0.340909)\n",
       "2020        AxesSubplot(0.536364,0.15;0.363636x0.340909)\n",
       "dtype: object"
      ]
     },
     "execution_count": 51,
     "metadata": {},
     "output_type": "execute_result"
    },
    {
     "data": {
      "image/png": "[encoded data removed]",
      "text/plain": [
       "<Figure size 1440x1440 with 4 Axes>"
      ]
     },
     "metadata": {
      "needs_background": "light"
     },
     "output_type": "display_data"
    }
   ],
   "source": [
    "al_by_year = al_df.groupby(by='Ano')\n",
    "al_by_year.boxplot(column='Val',  fontsize=10, figsize=(20,20), showfliers=False)"
   ]
  },
  {
   "cell_type": "markdown",
   "metadata": {},
   "source": [
    "# Predições"
   ]
  },
  {
   "cell_type": "markdown",
   "metadata": {},
   "source": [
    "## Estamos interessados em realizar algumas predições no contexto do funcionalismo público federal no estado de Alagoas."
   ]
  },
  {
   "cell_type": "markdown",
   "metadata": {},
   "source": [
    "* Podemos capturar a subamostra das entradas de Alagoas pelo agrupamento 'by_state'"
   ]
  },
  {
   "cell_type": "code",
   "execution_count": 54,
   "metadata": {},
   "outputs": [
    {
     "data": {
      "text/html": [
       "<div>\n",
       "<style scoped>\n",
       "    .dataframe tbody tr th:only-of-type {\n",
       "        vertical-align: middle;\n",
       "    }\n",
       "\n",
       "    .dataframe tbody tr th {\n",
       "        vertical-align: top;\n",
       "    }\n",
       "\n",
       "    .dataframe thead th {\n",
       "        text-align: right;\n",
       "    }\n",
       "</style>\n",
       "<table border=\"1\" class=\"dataframe\">\n",
       "  <thead>\n",
       "    <tr style=\"text-align: right;\">\n",
       "      <th></th>\n",
       "      <th>index</th>\n",
       "      <th>Nome</th>\n",
       "      <th>CPF</th>\n",
       "      <th>Descrição do cargo emprego</th>\n",
       "      <th>Nível de Escolaridade</th>\n",
       "      <th>Denominação do órgão de atuação</th>\n",
       "      <th>UF da UPAG de vinculação</th>\n",
       "      <th>Denominação unidade organizacional</th>\n",
       "      <th>UF da Residência</th>\n",
       "      <th>Cidade da residência</th>\n",
       "      <th>Situação servidor</th>\n",
       "      <th>Quantidade de anos no Serviço público</th>\n",
       "      <th>Quantidade de meses no Serviço público</th>\n",
       "      <th>Ano/Mês inicial do abono de permanência</th>\n",
       "      <th>Val</th>\n",
       "      <th>Mês</th>\n",
       "      <th>Ano</th>\n",
       "    </tr>\n",
       "  </thead>\n",
       "  <tbody>\n",
       "    <tr>\n",
       "      <th>0</th>\n",
       "      <td>272</td>\n",
       "      <td>ERIVALDO ALVES DOS SANTOS                     ...</td>\n",
       "      <td>***400694**</td>\n",
       "      <td>ENGENHEIRO</td>\n",
       "      <td>ENSINO SUPERIOR</td>\n",
       "      <td>MINIST.DA AGRICULTURA,PECUARIA E ABAST.</td>\n",
       "      <td>AL</td>\n",
       "      <td>SUP FED AGRIC PEC ABAST EST ALAGOAS-AL</td>\n",
       "      <td>AL</td>\n",
       "      <td>MACEIO</td>\n",
       "      <td>ATIVO PERMANENTE</td>\n",
       "      <td>37.0</td>\n",
       "      <td>0.0</td>\n",
       "      <td>201207.0</td>\n",
       "      <td>1544.35</td>\n",
       "      <td>02</td>\n",
       "      <td>2017</td>\n",
       "    </tr>\n",
       "    <tr>\n",
       "      <th>1</th>\n",
       "      <td>273</td>\n",
       "      <td>LUZIANE DE OMENA REIS                         ...</td>\n",
       "      <td>***255803**</td>\n",
       "      <td>AGENTE ADMINISTRATIVO</td>\n",
       "      <td>ENSINO SUPERIOR</td>\n",
       "      <td>MINIST.DA AGRICULTURA,PECUARIA E ABAST.</td>\n",
       "      <td>AL</td>\n",
       "      <td>SUP FED AGRIC PEC ABAST EST ALAGOAS-AL</td>\n",
       "      <td>AL</td>\n",
       "      <td>MACEIO</td>\n",
       "      <td>ATIVO PERMANENTE</td>\n",
       "      <td>36.0</td>\n",
       "      <td>11.0</td>\n",
       "      <td>201105.0</td>\n",
       "      <td>557.42</td>\n",
       "      <td>02</td>\n",
       "      <td>2017</td>\n",
       "    </tr>\n",
       "    <tr>\n",
       "      <th>2</th>\n",
       "      <td>274</td>\n",
       "      <td>ITAMARA PONTES DOS SANTOS MARQUES             ...</td>\n",
       "      <td>***506714**</td>\n",
       "      <td>DATILOGRAFO</td>\n",
       "      <td>ENSINO MEDIO</td>\n",
       "      <td>MINIST.DA AGRICULTURA,PECUARIA E ABAST.</td>\n",
       "      <td>AL</td>\n",
       "      <td>SUP FED AGRIC PEC ABAST EST ALAGOAS-AL</td>\n",
       "      <td>AL</td>\n",
       "      <td>MACEIO</td>\n",
       "      <td>ATIVO PERMANENTE</td>\n",
       "      <td>36.0</td>\n",
       "      <td>11.0</td>\n",
       "      <td>201101.0</td>\n",
       "      <td>536.68</td>\n",
       "      <td>02</td>\n",
       "      <td>2017</td>\n",
       "    </tr>\n",
       "    <tr>\n",
       "      <th>3</th>\n",
       "      <td>275</td>\n",
       "      <td>JOSETE BUARQUE DE GUSMAO                      ...</td>\n",
       "      <td>***619024**</td>\n",
       "      <td>AGENTE ADMINISTRATIVO</td>\n",
       "      <td>ENSINO MEDIO</td>\n",
       "      <td>MINIST.DA AGRICULTURA,PECUARIA E ABAST.</td>\n",
       "      <td>AL</td>\n",
       "      <td>SUP FED AGRIC PEC ABAST EST ALAGOAS-AL</td>\n",
       "      <td>AL</td>\n",
       "      <td>MACEIO</td>\n",
       "      <td>ATIVO PERMANENTE</td>\n",
       "      <td>36.0</td>\n",
       "      <td>11.0</td>\n",
       "      <td>201112.0</td>\n",
       "      <td>549.12</td>\n",
       "      <td>02</td>\n",
       "      <td>2017</td>\n",
       "    </tr>\n",
       "    <tr>\n",
       "      <th>4</th>\n",
       "      <td>276</td>\n",
       "      <td>MARIA JOSE DO NASCIMENTO ALBUQUERQUE          ...</td>\n",
       "      <td>***083204**</td>\n",
       "      <td>DATILOGRAFO</td>\n",
       "      <td>ENSINO MEDIO</td>\n",
       "      <td>MINIST.DA AGRICULTURA,PECUARIA E ABAST.</td>\n",
       "      <td>AL</td>\n",
       "      <td>SUP FED AGRIC PEC ABAST EST ALAGOAS-AL</td>\n",
       "      <td>AL</td>\n",
       "      <td>MACEIO</td>\n",
       "      <td>ATIVO PERMANENTE</td>\n",
       "      <td>36.0</td>\n",
       "      <td>11.0</td>\n",
       "      <td>201004.0</td>\n",
       "      <td>540.82</td>\n",
       "      <td>02</td>\n",
       "      <td>2017</td>\n",
       "    </tr>\n",
       "    <tr>\n",
       "      <th>...</th>\n",
       "      <td>...</td>\n",
       "      <td>...</td>\n",
       "      <td>...</td>\n",
       "      <td>...</td>\n",
       "      <td>...</td>\n",
       "      <td>...</td>\n",
       "      <td>...</td>\n",
       "      <td>...</td>\n",
       "      <td>...</td>\n",
       "      <td>...</td>\n",
       "      <td>...</td>\n",
       "      <td>...</td>\n",
       "      <td>...</td>\n",
       "      <td>...</td>\n",
       "      <td>...</td>\n",
       "      <td>...</td>\n",
       "      <td>...</td>\n",
       "    </tr>\n",
       "    <tr>\n",
       "      <th>78054</th>\n",
       "      <td>105258</td>\n",
       "      <td>MIGUEL ANGELO DE VASCONCELOS BUARQUE          ...</td>\n",
       "      <td>***373304**</td>\n",
       "      <td>TECNICO DO SEGURO SOCIAL</td>\n",
       "      <td>ENSINO SUPERIOR</td>\n",
       "      <td>INSTITUTO NACIONAL DE SEGURO SOCIAL</td>\n",
       "      <td>AL</td>\n",
       "      <td>SEC DE RECURSOS HUMANOS/MACEIO</td>\n",
       "      <td>AL</td>\n",
       "      <td>MACEIÓ</td>\n",
       "      <td>ATIVO PERMANENTE</td>\n",
       "      <td>33.0</td>\n",
       "      <td>6.0</td>\n",
       "      <td>201511.0</td>\n",
       "      <td>1088.40</td>\n",
       "      <td>03</td>\n",
       "      <td>2018</td>\n",
       "    </tr>\n",
       "    <tr>\n",
       "      <th>78055</th>\n",
       "      <td>105259</td>\n",
       "      <td>TARCILIA MARIA TENORIO DE BRITO BARBOZA       ...</td>\n",
       "      <td>***699284**</td>\n",
       "      <td>TECNICO DO SEGURO SOCIAL</td>\n",
       "      <td>ENSINO SUPERIOR</td>\n",
       "      <td>INSTITUTO NACIONAL DE SEGURO SOCIAL</td>\n",
       "      <td>AL</td>\n",
       "      <td>SEC DE RECURSOS HUMANOS/MACEIO</td>\n",
       "      <td>AL</td>\n",
       "      <td>MACEIO</td>\n",
       "      <td>ATIVO PERMANENTE</td>\n",
       "      <td>39.0</td>\n",
       "      <td>0.0</td>\n",
       "      <td>200807.0</td>\n",
       "      <td>1107.10</td>\n",
       "      <td>03</td>\n",
       "      <td>2018</td>\n",
       "    </tr>\n",
       "    <tr>\n",
       "      <th>78056</th>\n",
       "      <td>105260</td>\n",
       "      <td>IVANISE TAVARES DO NASCIMENTO MOREIRA         ...</td>\n",
       "      <td>***818634**</td>\n",
       "      <td>TECNICO DO SEGURO SOCIAL</td>\n",
       "      <td>ENSINO SUPERIOR</td>\n",
       "      <td>INSTITUTO NACIONAL DE SEGURO SOCIAL</td>\n",
       "      <td>AL</td>\n",
       "      <td>SEC DE RECURSOS HUMANOS/MACEIO</td>\n",
       "      <td>AL</td>\n",
       "      <td>MACEIO</td>\n",
       "      <td>ATIVO PERMANENTE</td>\n",
       "      <td>35.0</td>\n",
       "      <td>8.0</td>\n",
       "      <td>200909.0</td>\n",
       "      <td>1081.09</td>\n",
       "      <td>03</td>\n",
       "      <td>2018</td>\n",
       "    </tr>\n",
       "    <tr>\n",
       "      <th>78057</th>\n",
       "      <td>105536</td>\n",
       "      <td>MARIA LUCIA CEDRIM DA SILVA                   ...</td>\n",
       "      <td>***498844**</td>\n",
       "      <td>TECNICO FEDERAL DE FINANCAS E CONTROLE</td>\n",
       "      <td>ENSINO SUPERIOR</td>\n",
       "      <td>MINISTERIO DA TRANSP. FISCAL. E CGU</td>\n",
       "      <td>DF</td>\n",
       "      <td>COORDENACAO-GERAL DE GESTAO DE PESSOAS</td>\n",
       "      <td>AL</td>\n",
       "      <td>MACEIO</td>\n",
       "      <td>ATIVO PERMANENTE</td>\n",
       "      <td>32.0</td>\n",
       "      <td>3.0</td>\n",
       "      <td>201108.0</td>\n",
       "      <td>1294.91</td>\n",
       "      <td>03</td>\n",
       "      <td>2018</td>\n",
       "    </tr>\n",
       "    <tr>\n",
       "      <th>78058</th>\n",
       "      <td>105554</td>\n",
       "      <td>ERCILIO ELIAS BISPO                           ...</td>\n",
       "      <td>***616414**</td>\n",
       "      <td>TECNICO FEDERAL DE FINANCAS E CONTROLE</td>\n",
       "      <td>ENSINO MEDIO</td>\n",
       "      <td>MINISTERIO DA TRANSP. FISCAL. E CGU</td>\n",
       "      <td>DF</td>\n",
       "      <td>COORDENACAO-GERAL DE GESTAO DE PESSOAS</td>\n",
       "      <td>AL</td>\n",
       "      <td>MACEIO</td>\n",
       "      <td>ATIVO PERMANENTE</td>\n",
       "      <td>41.0</td>\n",
       "      <td>10.0</td>\n",
       "      <td>201006.0</td>\n",
       "      <td>1294.91</td>\n",
       "      <td>03</td>\n",
       "      <td>2018</td>\n",
       "    </tr>\n",
       "  </tbody>\n",
       "</table>\n",
       "<p>78059 rows × 17 columns</p>\n",
       "</div>"
      ],
      "text/plain": [
       "        index                                               Nome          CPF  \\\n",
       "0         272  ERIVALDO ALVES DOS SANTOS                     ...  ***400694**   \n",
       "1         273  LUZIANE DE OMENA REIS                         ...  ***255803**   \n",
       "2         274  ITAMARA PONTES DOS SANTOS MARQUES             ...  ***506714**   \n",
       "3         275  JOSETE BUARQUE DE GUSMAO                      ...  ***619024**   \n",
       "4         276  MARIA JOSE DO NASCIMENTO ALBUQUERQUE          ...  ***083204**   \n",
       "...       ...                                                ...          ...   \n",
       "78054  105258  MIGUEL ANGELO DE VASCONCELOS BUARQUE          ...  ***373304**   \n",
       "78055  105259  TARCILIA MARIA TENORIO DE BRITO BARBOZA       ...  ***699284**   \n",
       "78056  105260  IVANISE TAVARES DO NASCIMENTO MOREIRA         ...  ***818634**   \n",
       "78057  105536  MARIA LUCIA CEDRIM DA SILVA                   ...  ***498844**   \n",
       "78058  105554  ERCILIO ELIAS BISPO                           ...  ***616414**   \n",
       "\n",
       "                     Descrição do cargo emprego  \\\n",
       "0      ENGENHEIRO                                 \n",
       "1      AGENTE ADMINISTRATIVO                      \n",
       "2      DATILOGRAFO                                \n",
       "3      AGENTE ADMINISTRATIVO                      \n",
       "4      DATILOGRAFO                                \n",
       "...                                         ...   \n",
       "78054  TECNICO DO SEGURO SOCIAL                   \n",
       "78055  TECNICO DO SEGURO SOCIAL                   \n",
       "78056  TECNICO DO SEGURO SOCIAL                   \n",
       "78057  TECNICO FEDERAL DE FINANCAS E CONTROLE     \n",
       "78058  TECNICO FEDERAL DE FINANCAS E CONTROLE     \n",
       "\n",
       "                               Nível de Escolaridade  \\\n",
       "0      ENSINO SUPERIOR                                 \n",
       "1      ENSINO SUPERIOR                                 \n",
       "2      ENSINO MEDIO                                    \n",
       "3      ENSINO MEDIO                                    \n",
       "4      ENSINO MEDIO                                    \n",
       "...                                              ...   \n",
       "78054  ENSINO SUPERIOR                                 \n",
       "78055  ENSINO SUPERIOR                                 \n",
       "78056  ENSINO SUPERIOR                                 \n",
       "78057  ENSINO SUPERIOR                                 \n",
       "78058  ENSINO MEDIO                                    \n",
       "\n",
       "                Denominação do órgão de atuação UF da UPAG de vinculação  \\\n",
       "0      MINIST.DA AGRICULTURA,PECUARIA E ABAST.                        AL   \n",
       "1      MINIST.DA AGRICULTURA,PECUARIA E ABAST.                        AL   \n",
       "2      MINIST.DA AGRICULTURA,PECUARIA E ABAST.                        AL   \n",
       "3      MINIST.DA AGRICULTURA,PECUARIA E ABAST.                        AL   \n",
       "4      MINIST.DA AGRICULTURA,PECUARIA E ABAST.                        AL   \n",
       "...                                         ...                      ...   \n",
       "78054  INSTITUTO NACIONAL DE SEGURO SOCIAL                            AL   \n",
       "78055  INSTITUTO NACIONAL DE SEGURO SOCIAL                            AL   \n",
       "78056  INSTITUTO NACIONAL DE SEGURO SOCIAL                            AL   \n",
       "78057  MINISTERIO DA TRANSP. FISCAL. E CGU                            DF   \n",
       "78058  MINISTERIO DA TRANSP. FISCAL. E CGU                            DF   \n",
       "\n",
       "             Denominação unidade organizacional UF da Residência  \\\n",
       "0      SUP FED AGRIC PEC ABAST EST ALAGOAS-AL                 AL   \n",
       "1      SUP FED AGRIC PEC ABAST EST ALAGOAS-AL                 AL   \n",
       "2      SUP FED AGRIC PEC ABAST EST ALAGOAS-AL                 AL   \n",
       "3      SUP FED AGRIC PEC ABAST EST ALAGOAS-AL                 AL   \n",
       "4      SUP FED AGRIC PEC ABAST EST ALAGOAS-AL                 AL   \n",
       "...                                         ...              ...   \n",
       "78054  SEC DE RECURSOS HUMANOS/MACEIO                         AL   \n",
       "78055  SEC DE RECURSOS HUMANOS/MACEIO                         AL   \n",
       "78056  SEC DE RECURSOS HUMANOS/MACEIO                         AL   \n",
       "78057  COORDENACAO-GERAL DE GESTAO DE PESSOAS                 AL   \n",
       "78058  COORDENACAO-GERAL DE GESTAO DE PESSOAS                 AL   \n",
       "\n",
       "                 Cidade da residência     Situação servidor  \\\n",
       "0      MACEIO                          ATIVO PERMANENTE       \n",
       "1      MACEIO                          ATIVO PERMANENTE       \n",
       "2      MACEIO                          ATIVO PERMANENTE       \n",
       "3      MACEIO                          ATIVO PERMANENTE       \n",
       "4      MACEIO                          ATIVO PERMANENTE       \n",
       "...                               ...                   ...   \n",
       "78054  MACEIÓ                          ATIVO PERMANENTE       \n",
       "78055  MACEIO                          ATIVO PERMANENTE       \n",
       "78056  MACEIO                          ATIVO PERMANENTE       \n",
       "78057  MACEIO                          ATIVO PERMANENTE       \n",
       "78058  MACEIO                          ATIVO PERMANENTE       \n",
       "\n",
       "       Quantidade de anos no Serviço público  \\\n",
       "0                                       37.0   \n",
       "1                                       36.0   \n",
       "2                                       36.0   \n",
       "3                                       36.0   \n",
       "4                                       36.0   \n",
       "...                                      ...   \n",
       "78054                                   33.0   \n",
       "78055                                   39.0   \n",
       "78056                                   35.0   \n",
       "78057                                   32.0   \n",
       "78058                                   41.0   \n",
       "\n",
       "       Quantidade de meses no Serviço público  \\\n",
       "0                                         0.0   \n",
       "1                                        11.0   \n",
       "2                                        11.0   \n",
       "3                                        11.0   \n",
       "4                                        11.0   \n",
       "...                                       ...   \n",
       "78054                                     6.0   \n",
       "78055                                     0.0   \n",
       "78056                                     8.0   \n",
       "78057                                     3.0   \n",
       "78058                                    10.0   \n",
       "\n",
       "       Ano/Mês inicial do abono de permanência      Val Mês   Ano  \n",
       "0                                     201207.0  1544.35  02  2017  \n",
       "1                                     201105.0   557.42  02  2017  \n",
       "2                                     201101.0   536.68  02  2017  \n",
       "3                                     201112.0   549.12  02  2017  \n",
       "4                                     201004.0   540.82  02  2017  \n",
       "...                                        ...      ...  ..   ...  \n",
       "78054                                 201511.0  1088.40  03  2018  \n",
       "78055                                 200807.0  1107.10  03  2018  \n",
       "78056                                 200909.0  1081.09  03  2018  \n",
       "78057                                 201108.0  1294.91  03  2018  \n",
       "78058                                 201006.0  1294.91  03  2018  \n",
       "\n",
       "[78059 rows x 17 columns]"
      ]
     },
     "execution_count": 54,
     "metadata": {},
     "output_type": "execute_result"
    }
   ],
   "source": [
    "al_df"
   ]
  },
  {
   "cell_type": "code",
   "execution_count": 55,
   "metadata": {},
   "outputs": [
    {
     "data": {
      "text/html": [
       "<div>\n",
       "<style scoped>\n",
       "    .dataframe tbody tr th:only-of-type {\n",
       "        vertical-align: middle;\n",
       "    }\n",
       "\n",
       "    .dataframe tbody tr th {\n",
       "        vertical-align: top;\n",
       "    }\n",
       "\n",
       "    .dataframe thead th {\n",
       "        text-align: right;\n",
       "    }\n",
       "</style>\n",
       "<table border=\"1\" class=\"dataframe\">\n",
       "  <thead>\n",
       "    <tr style=\"text-align: right;\">\n",
       "      <th></th>\n",
       "      <th>index</th>\n",
       "      <th>Quantidade de anos no Serviço público</th>\n",
       "      <th>Quantidade de meses no Serviço público</th>\n",
       "      <th>Ano/Mês inicial do abono de permanência</th>\n",
       "      <th>Val</th>\n",
       "    </tr>\n",
       "  </thead>\n",
       "  <tbody>\n",
       "    <tr>\n",
       "      <th>count</th>\n",
       "      <td>78059.000000</td>\n",
       "      <td>78059.000000</td>\n",
       "      <td>78059.000000</td>\n",
       "      <td>78059.000000</td>\n",
       "      <td>78059.000000</td>\n",
       "    </tr>\n",
       "    <tr>\n",
       "      <th>mean</th>\n",
       "      <td>45000.635225</td>\n",
       "      <td>35.517839</td>\n",
       "      <td>5.220397</td>\n",
       "      <td>201188.293957</td>\n",
       "      <td>1091.202176</td>\n",
       "    </tr>\n",
       "    <tr>\n",
       "      <th>std</th>\n",
       "      <td>26136.235077</td>\n",
       "      <td>4.798000</td>\n",
       "      <td>3.448408</td>\n",
       "      <td>412.060687</td>\n",
       "      <td>811.805606</td>\n",
       "    </tr>\n",
       "    <tr>\n",
       "      <th>min</th>\n",
       "      <td>138.000000</td>\n",
       "      <td>8.000000</td>\n",
       "      <td>0.000000</td>\n",
       "      <td>200301.000000</td>\n",
       "      <td>0.000000</td>\n",
       "    </tr>\n",
       "    <tr>\n",
       "      <th>25%</th>\n",
       "      <td>28744.000000</td>\n",
       "      <td>33.000000</td>\n",
       "      <td>2.000000</td>\n",
       "      <td>200909.000000</td>\n",
       "      <td>659.930000</td>\n",
       "    </tr>\n",
       "    <tr>\n",
       "      <th>50%</th>\n",
       "      <td>36281.000000</td>\n",
       "      <td>36.000000</td>\n",
       "      <td>5.000000</td>\n",
       "      <td>201304.000000</td>\n",
       "      <td>782.130000</td>\n",
       "    </tr>\n",
       "    <tr>\n",
       "      <th>75%</th>\n",
       "      <td>65534.500000</td>\n",
       "      <td>38.000000</td>\n",
       "      <td>8.000000</td>\n",
       "      <td>201501.000000</td>\n",
       "      <td>1210.930000</td>\n",
       "    </tr>\n",
       "    <tr>\n",
       "      <th>max</th>\n",
       "      <td>106952.000000</td>\n",
       "      <td>53.000000</td>\n",
       "      <td>11.000000</td>\n",
       "      <td>202006.000000</td>\n",
       "      <td>35673.030000</td>\n",
       "    </tr>\n",
       "  </tbody>\n",
       "</table>\n",
       "</div>"
      ],
      "text/plain": [
       "               index  Quantidade de anos no Serviço público  \\\n",
       "count   78059.000000                           78059.000000   \n",
       "mean    45000.635225                              35.517839   \n",
       "std     26136.235077                               4.798000   \n",
       "min       138.000000                               8.000000   \n",
       "25%     28744.000000                              33.000000   \n",
       "50%     36281.000000                              36.000000   \n",
       "75%     65534.500000                              38.000000   \n",
       "max    106952.000000                              53.000000   \n",
       "\n",
       "       Quantidade de meses no Serviço público  \\\n",
       "count                            78059.000000   \n",
       "mean                                 5.220397   \n",
       "std                                  3.448408   \n",
       "min                                  0.000000   \n",
       "25%                                  2.000000   \n",
       "50%                                  5.000000   \n",
       "75%                                  8.000000   \n",
       "max                                 11.000000   \n",
       "\n",
       "       Ano/Mês inicial do abono de permanência           Val  \n",
       "count                             78059.000000  78059.000000  \n",
       "mean                             201188.293957   1091.202176  \n",
       "std                                 412.060687    811.805606  \n",
       "min                              200301.000000      0.000000  \n",
       "25%                              200909.000000    659.930000  \n",
       "50%                              201304.000000    782.130000  \n",
       "75%                              201501.000000   1210.930000  \n",
       "max                              202006.000000  35673.030000  "
      ]
     },
     "execution_count": 55,
     "metadata": {},
     "output_type": "execute_result"
    }
   ],
   "source": [
    "al_df.describe()"
   ]
  },
  {
   "cell_type": "code",
   "execution_count": null,
   "metadata": {},
   "outputs": [],
   "source": []
  },
  {
   "cell_type": "markdown",
   "metadata": {},
   "source": [
    "## Vamos focar em predizer o valor de abono pago para uma pessoa"
   ]
  },
  {
   "cell_type": "code",
   "execution_count": 519,
   "metadata": {},
   "outputs": [
    {
     "ename": "AttributeError",
     "evalue": "'dict' object has no attribute 'columns'",
     "output_type": "error",
     "traceback": [
      "\u001b[0;31m---------------------------------------------------------------------------\u001b[0m",
      "\u001b[0;31mAttributeError\u001b[0m                            Traceback (most recent call last)",
      "\u001b[0;32m<ipython-input-519-f4b087586ee5>\u001b[0m in \u001b[0;36m<module>\u001b[0;34m\u001b[0m\n\u001b[0;32m----> 1\u001b[0;31m \u001b[0msample\u001b[0m\u001b[0;34m.\u001b[0m\u001b[0mcolumns\u001b[0m\u001b[0;34m\u001b[0m\u001b[0;34m\u001b[0m\u001b[0m\n\u001b[0m",
      "\u001b[0;31mAttributeError\u001b[0m: 'dict' object has no attribute 'columns'"
     ]
    }
   ],
   "source": [
    "sample.columns"
   ]
  },
  {
   "cell_type": "markdown",
   "metadata": {},
   "source": [
    "# Separando o dataset  em 10 amostras utilizando  k-folds"
   ]
  },
  {
   "cell_type": "code",
   "execution_count": 520,
   "metadata": {},
   "outputs": [],
   "source": [
    "from sklearn.model_selection import KFold\n",
    "def  get_sample(df):\n",
    "    sample_size = int(len(df.index)*0.1)\n",
    "    sample =  df.sample(sample_size)\n",
    "\n",
    "    kf = KFold(n_splits=10, shuffle=False)\n",
    "    result = next(kf.split(sample), None)\n",
    "    train = sample.iloc[result[0]]\n",
    "    test = sample.iloc[result[1]]\n",
    "    print('Sample_Size: ',len(sample.index),'\\nTrain: ',len(train.index),'\\nTest: ',len(test.index))\n",
    "    return {'train':train,'test':test}"
   ]
  },
  {
   "cell_type": "markdown",
   "metadata": {},
   "source": [
    "## Digamos que queremos saber qual o valor recebido, dada a descrição do emprego e a quantidade de anos  da pessoa no serviço público"
   ]
  },
  {
   "cell_type": "code",
   "execution_count": 554,
   "metadata": {},
   "outputs": [
    {
     "data": {
      "text/html": [
       "<div>\n",
       "<style scoped>\n",
       "    .dataframe tbody tr th:only-of-type {\n",
       "        vertical-align: middle;\n",
       "    }\n",
       "\n",
       "    .dataframe tbody tr th {\n",
       "        vertical-align: top;\n",
       "    }\n",
       "\n",
       "    .dataframe thead th {\n",
       "        text-align: right;\n",
       "    }\n",
       "</style>\n",
       "<table border=\"1\" class=\"dataframe\">\n",
       "  <thead>\n",
       "    <tr style=\"text-align: right;\">\n",
       "      <th></th>\n",
       "      <th>Descrição do cargo emprego</th>\n",
       "      <th>Quantidade de anos no Serviço público</th>\n",
       "      <th>Val</th>\n",
       "    </tr>\n",
       "  </thead>\n",
       "  <tbody>\n",
       "    <tr>\n",
       "      <th>0</th>\n",
       "      <td>ENGENHEIRO</td>\n",
       "      <td>37.0</td>\n",
       "      <td>1544.35</td>\n",
       "    </tr>\n",
       "    <tr>\n",
       "      <th>1</th>\n",
       "      <td>AGENTE ADMINISTRATIVO</td>\n",
       "      <td>36.0</td>\n",
       "      <td>557.42</td>\n",
       "    </tr>\n",
       "    <tr>\n",
       "      <th>2</th>\n",
       "      <td>DATILOGRAFO</td>\n",
       "      <td>36.0</td>\n",
       "      <td>536.68</td>\n",
       "    </tr>\n",
       "    <tr>\n",
       "      <th>3</th>\n",
       "      <td>AGENTE ADMINISTRATIVO</td>\n",
       "      <td>36.0</td>\n",
       "      <td>549.12</td>\n",
       "    </tr>\n",
       "    <tr>\n",
       "      <th>4</th>\n",
       "      <td>DATILOGRAFO</td>\n",
       "      <td>36.0</td>\n",
       "      <td>540.82</td>\n",
       "    </tr>\n",
       "    <tr>\n",
       "      <th>...</th>\n",
       "      <td>...</td>\n",
       "      <td>...</td>\n",
       "      <td>...</td>\n",
       "    </tr>\n",
       "    <tr>\n",
       "      <th>78054</th>\n",
       "      <td>TECNICO DO SEGURO SOCIAL</td>\n",
       "      <td>33.0</td>\n",
       "      <td>1088.40</td>\n",
       "    </tr>\n",
       "    <tr>\n",
       "      <th>78055</th>\n",
       "      <td>TECNICO DO SEGURO SOCIAL</td>\n",
       "      <td>39.0</td>\n",
       "      <td>1107.10</td>\n",
       "    </tr>\n",
       "    <tr>\n",
       "      <th>78056</th>\n",
       "      <td>TECNICO DO SEGURO SOCIAL</td>\n",
       "      <td>35.0</td>\n",
       "      <td>1081.09</td>\n",
       "    </tr>\n",
       "    <tr>\n",
       "      <th>78057</th>\n",
       "      <td>TECNICO FEDERAL DE FINANCAS E CONTROLE</td>\n",
       "      <td>32.0</td>\n",
       "      <td>1294.91</td>\n",
       "    </tr>\n",
       "    <tr>\n",
       "      <th>78058</th>\n",
       "      <td>TECNICO FEDERAL DE FINANCAS E CONTROLE</td>\n",
       "      <td>41.0</td>\n",
       "      <td>1294.91</td>\n",
       "    </tr>\n",
       "  </tbody>\n",
       "</table>\n",
       "<p>78059 rows × 3 columns</p>\n",
       "</div>"
      ],
      "text/plain": [
       "                     Descrição do cargo emprego  \\\n",
       "0      ENGENHEIRO                                 \n",
       "1      AGENTE ADMINISTRATIVO                      \n",
       "2      DATILOGRAFO                                \n",
       "3      AGENTE ADMINISTRATIVO                      \n",
       "4      DATILOGRAFO                                \n",
       "...                                         ...   \n",
       "78054  TECNICO DO SEGURO SOCIAL                   \n",
       "78055  TECNICO DO SEGURO SOCIAL                   \n",
       "78056  TECNICO DO SEGURO SOCIAL                   \n",
       "78057  TECNICO FEDERAL DE FINANCAS E CONTROLE     \n",
       "78058  TECNICO FEDERAL DE FINANCAS E CONTROLE     \n",
       "\n",
       "       Quantidade de anos no Serviço público      Val  \n",
       "0                                       37.0  1544.35  \n",
       "1                                       36.0   557.42  \n",
       "2                                       36.0   536.68  \n",
       "3                                       36.0   549.12  \n",
       "4                                       36.0   540.82  \n",
       "...                                      ...      ...  \n",
       "78054                                   33.0  1088.40  \n",
       "78055                                   39.0  1107.10  \n",
       "78056                                   35.0  1081.09  \n",
       "78057                                   32.0  1294.91  \n",
       "78058                                   41.0  1294.91  \n",
       "\n",
       "[78059 rows x 3 columns]"
      ]
     },
     "execution_count": 554,
     "metadata": {},
     "output_type": "execute_result"
    }
   ],
   "source": [
    "data = al_df[['Descrição do cargo emprego','Quantidade de anos no Serviço público','Val']]\n",
    "\n",
    "data\n"
   ]
  },
  {
   "cell_type": "code",
   "execution_count": 558,
   "metadata": {},
   "outputs": [
    {
     "data": {
      "text/plain": [
       "count                                        78059\n",
       "unique                                         216\n",
       "top       AGENTE DE SAUDE PUBLICA                 \n",
       "freq                                          7843\n",
       "Name: Descrição do cargo emprego, dtype: object"
      ]
     },
     "execution_count": 558,
     "metadata": {},
     "output_type": "execute_result"
    }
   ],
   "source": [
    "data['Descrição do cargo emprego'].describe()"
   ]
  },
  {
   "cell_type": "markdown",
   "metadata": {},
   "source": [
    "# Encoding"
   ]
  },
  {
   "cell_type": "markdown",
   "metadata": {},
   "source": [
    "* Temos aqui dois problemas:\n",
    "* A feature da descrição do cargo está categorizada em forma de texto. Logo precisamos fazer uma codificação para um formato numérico. Podemos resolver isto facilmente gerando colunas dummy\n",
    "* O valor está dado em formato contínuo e seria interessante categorizar o mesmo. Para isto usaremos a categorização por bins"
   ]
  },
  {
   "cell_type": "markdown",
   "metadata": {},
   "source": [
    "## Codificando os cargos"
   ]
  },
  {
   "cell_type": "code",
   "execution_count": 525,
   "metadata": {},
   "outputs": [
    {
     "data": {
      "text/html": [
       "<div>\n",
       "<style scoped>\n",
       "    .dataframe tbody tr th:only-of-type {\n",
       "        vertical-align: middle;\n",
       "    }\n",
       "\n",
       "    .dataframe tbody tr th {\n",
       "        vertical-align: top;\n",
       "    }\n",
       "\n",
       "    .dataframe thead th {\n",
       "        text-align: right;\n",
       "    }\n",
       "</style>\n",
       "<table border=\"1\" class=\"dataframe\">\n",
       "  <thead>\n",
       "    <tr style=\"text-align: right;\">\n",
       "      <th></th>\n",
       "      <th>Val</th>\n",
       "      <th>Quantidade de anos no Serviço público</th>\n",
       "      <th>Descrição do cargo emprego_ADMINISTRADOR</th>\n",
       "      <th>Descrição do cargo emprego_ADVOGADO DA UNIAO</th>\n",
       "      <th>Descrição do cargo emprego_AGENTE ADMINISTRATIVO</th>\n",
       "      <th>Descrição do cargo emprego_AGENTE DE ATIV AGROPECUARIAS</th>\n",
       "      <th>Descrição do cargo emprego_AGENTE DE ATIVIDADES AGROPECUARIAS</th>\n",
       "      <th>Descrição do cargo emprego_AGENTE DE COLOCACAO</th>\n",
       "      <th>Descrição do cargo emprego_AGENTE DE HIGIENE E SEG NO TRABALHO</th>\n",
       "      <th>Descrição do cargo emprego_AGENTE DE INSP SANIT IND PROD ORIGEM ANI</th>\n",
       "      <th>...</th>\n",
       "      <th>Descrição do cargo emprego_TECNOLOGISTA</th>\n",
       "      <th>Descrição do cargo emprego_TECNOLOGISTA EM SAUDE PUBLICA</th>\n",
       "      <th>Descrição do cargo emprego_TECNOLOGO-FORMACAO</th>\n",
       "      <th>Descrição do cargo emprego_TELEFONISTA</th>\n",
       "      <th>Descrição do cargo emprego_TELEFONISTA 40 HORAS</th>\n",
       "      <th>Descrição do cargo emprego_TRATORISTA</th>\n",
       "      <th>Descrição do cargo emprego_VESTIARISTA</th>\n",
       "      <th>Descrição do cargo emprego_VIGIA</th>\n",
       "      <th>Descrição do cargo emprego_VIGILANTE</th>\n",
       "      <th>Descrição do cargo emprego_VISITADOR SANITARIO</th>\n",
       "    </tr>\n",
       "  </thead>\n",
       "  <tbody>\n",
       "    <tr>\n",
       "      <th>0</th>\n",
       "      <td>1544.35</td>\n",
       "      <td>37.0</td>\n",
       "      <td>0</td>\n",
       "      <td>0</td>\n",
       "      <td>0</td>\n",
       "      <td>0</td>\n",
       "      <td>0</td>\n",
       "      <td>0</td>\n",
       "      <td>0</td>\n",
       "      <td>0</td>\n",
       "      <td>...</td>\n",
       "      <td>0</td>\n",
       "      <td>0</td>\n",
       "      <td>0</td>\n",
       "      <td>0</td>\n",
       "      <td>0</td>\n",
       "      <td>0</td>\n",
       "      <td>0</td>\n",
       "      <td>0</td>\n",
       "      <td>0</td>\n",
       "      <td>0</td>\n",
       "    </tr>\n",
       "    <tr>\n",
       "      <th>1</th>\n",
       "      <td>557.42</td>\n",
       "      <td>36.0</td>\n",
       "      <td>0</td>\n",
       "      <td>0</td>\n",
       "      <td>1</td>\n",
       "      <td>0</td>\n",
       "      <td>0</td>\n",
       "      <td>0</td>\n",
       "      <td>0</td>\n",
       "      <td>0</td>\n",
       "      <td>...</td>\n",
       "      <td>0</td>\n",
       "      <td>0</td>\n",
       "      <td>0</td>\n",
       "      <td>0</td>\n",
       "      <td>0</td>\n",
       "      <td>0</td>\n",
       "      <td>0</td>\n",
       "      <td>0</td>\n",
       "      <td>0</td>\n",
       "      <td>0</td>\n",
       "    </tr>\n",
       "    <tr>\n",
       "      <th>2</th>\n",
       "      <td>536.68</td>\n",
       "      <td>36.0</td>\n",
       "      <td>0</td>\n",
       "      <td>0</td>\n",
       "      <td>0</td>\n",
       "      <td>0</td>\n",
       "      <td>0</td>\n",
       "      <td>0</td>\n",
       "      <td>0</td>\n",
       "      <td>0</td>\n",
       "      <td>...</td>\n",
       "      <td>0</td>\n",
       "      <td>0</td>\n",
       "      <td>0</td>\n",
       "      <td>0</td>\n",
       "      <td>0</td>\n",
       "      <td>0</td>\n",
       "      <td>0</td>\n",
       "      <td>0</td>\n",
       "      <td>0</td>\n",
       "      <td>0</td>\n",
       "    </tr>\n",
       "    <tr>\n",
       "      <th>3</th>\n",
       "      <td>549.12</td>\n",
       "      <td>36.0</td>\n",
       "      <td>0</td>\n",
       "      <td>0</td>\n",
       "      <td>1</td>\n",
       "      <td>0</td>\n",
       "      <td>0</td>\n",
       "      <td>0</td>\n",
       "      <td>0</td>\n",
       "      <td>0</td>\n",
       "      <td>...</td>\n",
       "      <td>0</td>\n",
       "      <td>0</td>\n",
       "      <td>0</td>\n",
       "      <td>0</td>\n",
       "      <td>0</td>\n",
       "      <td>0</td>\n",
       "      <td>0</td>\n",
       "      <td>0</td>\n",
       "      <td>0</td>\n",
       "      <td>0</td>\n",
       "    </tr>\n",
       "    <tr>\n",
       "      <th>4</th>\n",
       "      <td>540.82</td>\n",
       "      <td>36.0</td>\n",
       "      <td>0</td>\n",
       "      <td>0</td>\n",
       "      <td>0</td>\n",
       "      <td>0</td>\n",
       "      <td>0</td>\n",
       "      <td>0</td>\n",
       "      <td>0</td>\n",
       "      <td>0</td>\n",
       "      <td>...</td>\n",
       "      <td>0</td>\n",
       "      <td>0</td>\n",
       "      <td>0</td>\n",
       "      <td>0</td>\n",
       "      <td>0</td>\n",
       "      <td>0</td>\n",
       "      <td>0</td>\n",
       "      <td>0</td>\n",
       "      <td>0</td>\n",
       "      <td>0</td>\n",
       "    </tr>\n",
       "    <tr>\n",
       "      <th>...</th>\n",
       "      <td>...</td>\n",
       "      <td>...</td>\n",
       "      <td>...</td>\n",
       "      <td>...</td>\n",
       "      <td>...</td>\n",
       "      <td>...</td>\n",
       "      <td>...</td>\n",
       "      <td>...</td>\n",
       "      <td>...</td>\n",
       "      <td>...</td>\n",
       "      <td>...</td>\n",
       "      <td>...</td>\n",
       "      <td>...</td>\n",
       "      <td>...</td>\n",
       "      <td>...</td>\n",
       "      <td>...</td>\n",
       "      <td>...</td>\n",
       "      <td>...</td>\n",
       "      <td>...</td>\n",
       "      <td>...</td>\n",
       "      <td>...</td>\n",
       "    </tr>\n",
       "    <tr>\n",
       "      <th>78054</th>\n",
       "      <td>1088.40</td>\n",
       "      <td>33.0</td>\n",
       "      <td>0</td>\n",
       "      <td>0</td>\n",
       "      <td>0</td>\n",
       "      <td>0</td>\n",
       "      <td>0</td>\n",
       "      <td>0</td>\n",
       "      <td>0</td>\n",
       "      <td>0</td>\n",
       "      <td>...</td>\n",
       "      <td>0</td>\n",
       "      <td>0</td>\n",
       "      <td>0</td>\n",
       "      <td>0</td>\n",
       "      <td>0</td>\n",
       "      <td>0</td>\n",
       "      <td>0</td>\n",
       "      <td>0</td>\n",
       "      <td>0</td>\n",
       "      <td>0</td>\n",
       "    </tr>\n",
       "    <tr>\n",
       "      <th>78055</th>\n",
       "      <td>1107.10</td>\n",
       "      <td>39.0</td>\n",
       "      <td>0</td>\n",
       "      <td>0</td>\n",
       "      <td>0</td>\n",
       "      <td>0</td>\n",
       "      <td>0</td>\n",
       "      <td>0</td>\n",
       "      <td>0</td>\n",
       "      <td>0</td>\n",
       "      <td>...</td>\n",
       "      <td>0</td>\n",
       "      <td>0</td>\n",
       "      <td>0</td>\n",
       "      <td>0</td>\n",
       "      <td>0</td>\n",
       "      <td>0</td>\n",
       "      <td>0</td>\n",
       "      <td>0</td>\n",
       "      <td>0</td>\n",
       "      <td>0</td>\n",
       "    </tr>\n",
       "    <tr>\n",
       "      <th>78056</th>\n",
       "      <td>1081.09</td>\n",
       "      <td>35.0</td>\n",
       "      <td>0</td>\n",
       "      <td>0</td>\n",
       "      <td>0</td>\n",
       "      <td>0</td>\n",
       "      <td>0</td>\n",
       "      <td>0</td>\n",
       "      <td>0</td>\n",
       "      <td>0</td>\n",
       "      <td>...</td>\n",
       "      <td>0</td>\n",
       "      <td>0</td>\n",
       "      <td>0</td>\n",
       "      <td>0</td>\n",
       "      <td>0</td>\n",
       "      <td>0</td>\n",
       "      <td>0</td>\n",
       "      <td>0</td>\n",
       "      <td>0</td>\n",
       "      <td>0</td>\n",
       "    </tr>\n",
       "    <tr>\n",
       "      <th>78057</th>\n",
       "      <td>1294.91</td>\n",
       "      <td>32.0</td>\n",
       "      <td>0</td>\n",
       "      <td>0</td>\n",
       "      <td>0</td>\n",
       "      <td>0</td>\n",
       "      <td>0</td>\n",
       "      <td>0</td>\n",
       "      <td>0</td>\n",
       "      <td>0</td>\n",
       "      <td>...</td>\n",
       "      <td>0</td>\n",
       "      <td>0</td>\n",
       "      <td>0</td>\n",
       "      <td>0</td>\n",
       "      <td>0</td>\n",
       "      <td>0</td>\n",
       "      <td>0</td>\n",
       "      <td>0</td>\n",
       "      <td>0</td>\n",
       "      <td>0</td>\n",
       "    </tr>\n",
       "    <tr>\n",
       "      <th>78058</th>\n",
       "      <td>1294.91</td>\n",
       "      <td>41.0</td>\n",
       "      <td>0</td>\n",
       "      <td>0</td>\n",
       "      <td>0</td>\n",
       "      <td>0</td>\n",
       "      <td>0</td>\n",
       "      <td>0</td>\n",
       "      <td>0</td>\n",
       "      <td>0</td>\n",
       "      <td>...</td>\n",
       "      <td>0</td>\n",
       "      <td>0</td>\n",
       "      <td>0</td>\n",
       "      <td>0</td>\n",
       "      <td>0</td>\n",
       "      <td>0</td>\n",
       "      <td>0</td>\n",
       "      <td>0</td>\n",
       "      <td>0</td>\n",
       "      <td>0</td>\n",
       "    </tr>\n",
       "  </tbody>\n",
       "</table>\n",
       "<p>78059 rows × 218 columns</p>\n",
       "</div>"
      ],
      "text/plain": [
       "           Val  Quantidade de anos no Serviço público  \\\n",
       "0      1544.35                                   37.0   \n",
       "1       557.42                                   36.0   \n",
       "2       536.68                                   36.0   \n",
       "3       549.12                                   36.0   \n",
       "4       540.82                                   36.0   \n",
       "...        ...                                    ...   \n",
       "78054  1088.40                                   33.0   \n",
       "78055  1107.10                                   39.0   \n",
       "78056  1081.09                                   35.0   \n",
       "78057  1294.91                                   32.0   \n",
       "78058  1294.91                                   41.0   \n",
       "\n",
       "       Descrição do cargo emprego_ADMINISTRADOR                             \\\n",
       "0                                                      0                     \n",
       "1                                                      0                     \n",
       "2                                                      0                     \n",
       "3                                                      0                     \n",
       "4                                                      0                     \n",
       "...                                                  ...                     \n",
       "78054                                                  0                     \n",
       "78055                                                  0                     \n",
       "78056                                                  0                     \n",
       "78057                                                  0                     \n",
       "78058                                                  0                     \n",
       "\n",
       "       Descrição do cargo emprego_ADVOGADO DA UNIAO                         \\\n",
       "0                                                      0                     \n",
       "1                                                      0                     \n",
       "2                                                      0                     \n",
       "3                                                      0                     \n",
       "4                                                      0                     \n",
       "...                                                  ...                     \n",
       "78054                                                  0                     \n",
       "78055                                                  0                     \n",
       "78056                                                  0                     \n",
       "78057                                                  0                     \n",
       "78058                                                  0                     \n",
       "\n",
       "       Descrição do cargo emprego_AGENTE ADMINISTRATIVO                     \\\n",
       "0                                                      0                     \n",
       "1                                                      1                     \n",
       "2                                                      0                     \n",
       "3                                                      1                     \n",
       "4                                                      0                     \n",
       "...                                                  ...                     \n",
       "78054                                                  0                     \n",
       "78055                                                  0                     \n",
       "78056                                                  0                     \n",
       "78057                                                  0                     \n",
       "78058                                                  0                     \n",
       "\n",
       "       Descrição do cargo emprego_AGENTE DE ATIV AGROPECUARIAS              \\\n",
       "0                                                      0                     \n",
       "1                                                      0                     \n",
       "2                                                      0                     \n",
       "3                                                      0                     \n",
       "4                                                      0                     \n",
       "...                                                  ...                     \n",
       "78054                                                  0                     \n",
       "78055                                                  0                     \n",
       "78056                                                  0                     \n",
       "78057                                                  0                     \n",
       "78058                                                  0                     \n",
       "\n",
       "       Descrição do cargo emprego_AGENTE DE ATIVIDADES AGROPECUARIAS        \\\n",
       "0                                                      0                     \n",
       "1                                                      0                     \n",
       "2                                                      0                     \n",
       "3                                                      0                     \n",
       "4                                                      0                     \n",
       "...                                                  ...                     \n",
       "78054                                                  0                     \n",
       "78055                                                  0                     \n",
       "78056                                                  0                     \n",
       "78057                                                  0                     \n",
       "78058                                                  0                     \n",
       "\n",
       "       Descrição do cargo emprego_AGENTE DE COLOCACAO                       \\\n",
       "0                                                      0                     \n",
       "1                                                      0                     \n",
       "2                                                      0                     \n",
       "3                                                      0                     \n",
       "4                                                      0                     \n",
       "...                                                  ...                     \n",
       "78054                                                  0                     \n",
       "78055                                                  0                     \n",
       "78056                                                  0                     \n",
       "78057                                                  0                     \n",
       "78058                                                  0                     \n",
       "\n",
       "       Descrição do cargo emprego_AGENTE DE HIGIENE E SEG NO TRABALHO       \\\n",
       "0                                                      0                     \n",
       "1                                                      0                     \n",
       "2                                                      0                     \n",
       "3                                                      0                     \n",
       "4                                                      0                     \n",
       "...                                                  ...                     \n",
       "78054                                                  0                     \n",
       "78055                                                  0                     \n",
       "78056                                                  0                     \n",
       "78057                                                  0                     \n",
       "78058                                                  0                     \n",
       "\n",
       "       Descrição do cargo emprego_AGENTE DE INSP SANIT IND PROD ORIGEM ANI  \\\n",
       "0                                                      0                     \n",
       "1                                                      0                     \n",
       "2                                                      0                     \n",
       "3                                                      0                     \n",
       "4                                                      0                     \n",
       "...                                                  ...                     \n",
       "78054                                                  0                     \n",
       "78055                                                  0                     \n",
       "78056                                                  0                     \n",
       "78057                                                  0                     \n",
       "78058                                                  0                     \n",
       "\n",
       "       ...  \\\n",
       "0      ...   \n",
       "1      ...   \n",
       "2      ...   \n",
       "3      ...   \n",
       "4      ...   \n",
       "...    ...   \n",
       "78054  ...   \n",
       "78055  ...   \n",
       "78056  ...   \n",
       "78057  ...   \n",
       "78058  ...   \n",
       "\n",
       "       Descrição do cargo emprego_TECNOLOGISTA                              \\\n",
       "0                                                      0                     \n",
       "1                                                      0                     \n",
       "2                                                      0                     \n",
       "3                                                      0                     \n",
       "4                                                      0                     \n",
       "...                                                  ...                     \n",
       "78054                                                  0                     \n",
       "78055                                                  0                     \n",
       "78056                                                  0                     \n",
       "78057                                                  0                     \n",
       "78058                                                  0                     \n",
       "\n",
       "       Descrição do cargo emprego_TECNOLOGISTA EM SAUDE PUBLICA             \\\n",
       "0                                                      0                     \n",
       "1                                                      0                     \n",
       "2                                                      0                     \n",
       "3                                                      0                     \n",
       "4                                                      0                     \n",
       "...                                                  ...                     \n",
       "78054                                                  0                     \n",
       "78055                                                  0                     \n",
       "78056                                                  0                     \n",
       "78057                                                  0                     \n",
       "78058                                                  0                     \n",
       "\n",
       "       Descrição do cargo emprego_TECNOLOGO-FORMACAO                        \\\n",
       "0                                                      0                     \n",
       "1                                                      0                     \n",
       "2                                                      0                     \n",
       "3                                                      0                     \n",
       "4                                                      0                     \n",
       "...                                                  ...                     \n",
       "78054                                                  0                     \n",
       "78055                                                  0                     \n",
       "78056                                                  0                     \n",
       "78057                                                  0                     \n",
       "78058                                                  0                     \n",
       "\n",
       "       Descrição do cargo emprego_TELEFONISTA                               \\\n",
       "0                                                      0                     \n",
       "1                                                      0                     \n",
       "2                                                      0                     \n",
       "3                                                      0                     \n",
       "4                                                      0                     \n",
       "...                                                  ...                     \n",
       "78054                                                  0                     \n",
       "78055                                                  0                     \n",
       "78056                                                  0                     \n",
       "78057                                                  0                     \n",
       "78058                                                  0                     \n",
       "\n",
       "       Descrição do cargo emprego_TELEFONISTA 40 HORAS                      \\\n",
       "0                                                      0                     \n",
       "1                                                      0                     \n",
       "2                                                      0                     \n",
       "3                                                      0                     \n",
       "4                                                      0                     \n",
       "...                                                  ...                     \n",
       "78054                                                  0                     \n",
       "78055                                                  0                     \n",
       "78056                                                  0                     \n",
       "78057                                                  0                     \n",
       "78058                                                  0                     \n",
       "\n",
       "       Descrição do cargo emprego_TRATORISTA                                \\\n",
       "0                                                      0                     \n",
       "1                                                      0                     \n",
       "2                                                      0                     \n",
       "3                                                      0                     \n",
       "4                                                      0                     \n",
       "...                                                  ...                     \n",
       "78054                                                  0                     \n",
       "78055                                                  0                     \n",
       "78056                                                  0                     \n",
       "78057                                                  0                     \n",
       "78058                                                  0                     \n",
       "\n",
       "       Descrição do cargo emprego_VESTIARISTA                               \\\n",
       "0                                                      0                     \n",
       "1                                                      0                     \n",
       "2                                                      0                     \n",
       "3                                                      0                     \n",
       "4                                                      0                     \n",
       "...                                                  ...                     \n",
       "78054                                                  0                     \n",
       "78055                                                  0                     \n",
       "78056                                                  0                     \n",
       "78057                                                  0                     \n",
       "78058                                                  0                     \n",
       "\n",
       "       Descrição do cargo emprego_VIGIA                                     \\\n",
       "0                                                      0                     \n",
       "1                                                      0                     \n",
       "2                                                      0                     \n",
       "3                                                      0                     \n",
       "4                                                      0                     \n",
       "...                                                  ...                     \n",
       "78054                                                  0                     \n",
       "78055                                                  0                     \n",
       "78056                                                  0                     \n",
       "78057                                                  0                     \n",
       "78058                                                  0                     \n",
       "\n",
       "       Descrição do cargo emprego_VIGILANTE                                 \\\n",
       "0                                                      0                     \n",
       "1                                                      0                     \n",
       "2                                                      0                     \n",
       "3                                                      0                     \n",
       "4                                                      0                     \n",
       "...                                                  ...                     \n",
       "78054                                                  0                     \n",
       "78055                                                  0                     \n",
       "78056                                                  0                     \n",
       "78057                                                  0                     \n",
       "78058                                                  0                     \n",
       "\n",
       "       Descrição do cargo emprego_VISITADOR SANITARIO                       \n",
       "0                                                      0                    \n",
       "1                                                      0                    \n",
       "2                                                      0                    \n",
       "3                                                      0                    \n",
       "4                                                      0                    \n",
       "...                                                  ...                    \n",
       "78054                                                  0                    \n",
       "78055                                                  0                    \n",
       "78056                                                  0                    \n",
       "78057                                                  0                    \n",
       "78058                                                  0                    \n",
       "\n",
       "[78059 rows x 218 columns]"
      ]
     },
     "execution_count": 525,
     "metadata": {},
     "output_type": "execute_result"
    }
   ],
   "source": [
    "from sklearn.preprocessing import LabelEncoder\n",
    "le = LabelEncoder()\n",
    "data_encoded = pd.get_dummies(data,columns=['Descrição do cargo emprego'])\n",
    "\n",
    "#Fazendo com que val seja a primeira coluna\n",
    "val = data_encoded[['Val']]\n",
    "data_encoded=data_encoded.drop(columns=['Val'])\n",
    "data_encoded.insert(0,'Val',val)\n",
    "\n",
    "data_encoded"
   ]
  },
  {
   "cell_type": "markdown",
   "metadata": {},
   "source": [
    "# Categorizando o valor"
   ]
  },
  {
   "cell_type": "markdown",
   "metadata": {},
   "source": [
    "* Temos muitos outliers na coluna de valores. Para uma melhor predição, iremos parte destes outliers"
   ]
  },
  {
   "cell_type": "code",
   "execution_count": 526,
   "metadata": {},
   "outputs": [
    {
     "data": {
      "text/plain": [
       "<matplotlib.axes._subplots.AxesSubplot at 0x7fabacce81d0>"
      ]
     },
     "execution_count": 526,
     "metadata": {},
     "output_type": "execute_result"
    },
    {
     "data": {
      "image/png": "[encoded data removed]",
      "text/plain": [
       "<Figure size 432x288 with 1 Axes>"
      ]
     },
     "metadata": {
      "needs_background": "light"
     },
     "output_type": "display_data"
    }
   ],
   "source": [
    "data_encoded[['Val']].boxplot()"
   ]
  },
  {
   "cell_type": "code",
   "execution_count": 516,
   "metadata": {},
   "outputs": [
    {
     "data": {
      "text/plain": [
       "array([[<matplotlib.axes._subplots.AxesSubplot object at 0x7fab871c2278>]],\n",
       "      dtype=object)"
      ]
     },
     "execution_count": 516,
     "metadata": {},
     "output_type": "execute_result"
    },
    {
     "data": {
      "image/png": "[encoded data removed]",
      "text/plain": [
       "<Figure size 432x288 with 1 Axes>"
      ]
     },
     "metadata": {
      "needs_background": "light"
     },
     "output_type": "display_data"
    }
   ],
   "source": [
    "data_encoded[['Val']].hist(bins=50)"
   ]
  },
  {
   "cell_type": "code",
   "execution_count": 527,
   "metadata": {},
   "outputs": [
    {
     "data": {
      "image/png": "[encoded data removed]",
      "text/plain": [
       "<Figure size 432x288 with 1 Axes>"
      ]
     },
     "metadata": {
      "needs_background": "light"
     },
     "output_type": "display_data"
    }
   ],
   "source": [
    "data_encoded = remove_outliers(data_encoded,'Val');"
   ]
  },
  {
   "cell_type": "code",
   "execution_count": 528,
   "metadata": {},
   "outputs": [
    {
     "data": {
      "text/plain": [
       "array([[<matplotlib.axes._subplots.AxesSubplot object at 0x7fabc8c83828>]],\n",
       "      dtype=object)"
      ]
     },
     "execution_count": 528,
     "metadata": {},
     "output_type": "execute_result"
    },
    {
     "data": {
      "image/png": "[encoded data removed]",
      "text/plain": [
       "<Figure size 432x288 with 1 Axes>"
      ]
     },
     "metadata": {
      "needs_background": "light"
     },
     "output_type": "display_data"
    }
   ],
   "source": [
    "data_encoded[['Val']].hist(bins=50)"
   ]
  },
  {
   "cell_type": "markdown",
   "metadata": {},
   "source": [
    "\n",
    "# Dividindo os valores em 5 categorias (1,2,3,4 e 5)"
   ]
  },
  {
   "cell_type": "code",
   "execution_count": 529,
   "metadata": {},
   "outputs": [
    {
     "name": "stderr",
     "output_type": "stream",
     "text": [
      "/home/ndc/.local/lib/python3.7/site-packages/pandas/core/indexing.py:1745: SettingWithCopyWarning: \n",
      "A value is trying to be set on a copy of a slice from a DataFrame.\n",
      "Try using .loc[row_indexer,col_indexer] = value instead\n",
      "\n",
      "See the caveats in the documentation: https://pandas.pydata.org/pandas-docs/stable/user_guide/indexing.html#returning-a-view-versus-a-copy\n",
      "  isetter(ilocs[0], value)\n"
     ]
    }
   ],
   "source": [
    "data_encoded.loc[:,'Val'] = pd.cut(data_encoded['Val'],5,labels=[1,2,3,4,5])"
   ]
  },
  {
   "cell_type": "code",
   "execution_count": 530,
   "metadata": {},
   "outputs": [
    {
     "data": {
      "text/plain": [
       "<matplotlib.axes._subplots.AxesSubplot at 0x7fabc8e89550>"
      ]
     },
     "execution_count": 530,
     "metadata": {},
     "output_type": "execute_result"
    },
    {
     "data": {
      "image/png": "[encoded data removed]",
      "text/plain": [
       "<Figure size 432x288 with 1 Axes>"
      ]
     },
     "metadata": {
      "needs_background": "light"
     },
     "output_type": "display_data"
    }
   ],
   "source": [
    "data_encoded['Val'].hist(bins=5)"
   ]
  },
  {
   "cell_type": "code",
   "execution_count": 531,
   "metadata": {},
   "outputs": [
    {
     "data": {
      "text/plain": [
       "count     77278\n",
       "unique        5\n",
       "top           2\n",
       "freq      40553\n",
       "Name: Val, dtype: int64"
      ]
     },
     "execution_count": 531,
     "metadata": {},
     "output_type": "execute_result"
    }
   ],
   "source": [
    "data_encoded['Val'].describe()"
   ]
  },
  {
   "cell_type": "markdown",
   "metadata": {},
   "source": [
    "* Todas as colunas foram devidamente categorizadas\n",
    "* A coluna da quantidade de anos em serviço já é nativamente categorizada"
   ]
  },
  {
   "cell_type": "code",
   "execution_count": 532,
   "metadata": {},
   "outputs": [
    {
     "data": {
      "text/plain": [
       "45"
      ]
     },
     "execution_count": 532,
     "metadata": {},
     "output_type": "execute_result"
    }
   ],
   "source": [
    "len(data_encoded['Quantidade de anos no Serviço público'].unique())"
   ]
  },
  {
   "cell_type": "markdown",
   "metadata": {},
   "source": [
    "# Agora podemos capturar amostras de teste e treinamento"
   ]
  },
  {
   "cell_type": "code",
   "execution_count": 537,
   "metadata": {},
   "outputs": [
    {
     "name": "stdout",
     "output_type": "stream",
     "text": [
      "Sample_Size:  7727 \n",
      "Train:  6954 \n",
      "Test:  773\n"
     ]
    }
   ],
   "source": [
    "sample = get_sample(data_encoded)\n",
    "train = sample['train'].reset_index(drop=True)\n",
    "test = sample['test'].reset_index(drop=True)"
   ]
  },
  {
   "cell_type": "markdown",
   "metadata": {},
   "source": [
    "# Árvore de decisão"
   ]
  },
  {
   "cell_type": "code",
   "execution_count": 538,
   "metadata": {},
   "outputs": [
    {
     "data": {
      "text/html": [
       "<div>\n",
       "<style scoped>\n",
       "    .dataframe tbody tr th:only-of-type {\n",
       "        vertical-align: middle;\n",
       "    }\n",
       "\n",
       "    .dataframe tbody tr th {\n",
       "        vertical-align: top;\n",
       "    }\n",
       "\n",
       "    .dataframe thead th {\n",
       "        text-align: right;\n",
       "    }\n",
       "</style>\n",
       "<table border=\"1\" class=\"dataframe\">\n",
       "  <thead>\n",
       "    <tr style=\"text-align: right;\">\n",
       "      <th></th>\n",
       "      <th>Val</th>\n",
       "      <th>Quantidade de anos no Serviço público</th>\n",
       "      <th>Descrição do cargo emprego_ADMINISTRADOR</th>\n",
       "      <th>Descrição do cargo emprego_ADVOGADO DA UNIAO</th>\n",
       "      <th>Descrição do cargo emprego_AGENTE ADMINISTRATIVO</th>\n",
       "      <th>Descrição do cargo emprego_AGENTE DE ATIV AGROPECUARIAS</th>\n",
       "      <th>Descrição do cargo emprego_AGENTE DE ATIVIDADES AGROPECUARIAS</th>\n",
       "      <th>Descrição do cargo emprego_AGENTE DE COLOCACAO</th>\n",
       "      <th>Descrição do cargo emprego_AGENTE DE HIGIENE E SEG NO TRABALHO</th>\n",
       "      <th>Descrição do cargo emprego_AGENTE DE INSP SANIT IND PROD ORIGEM ANI</th>\n",
       "      <th>...</th>\n",
       "      <th>Descrição do cargo emprego_TECNOLOGISTA</th>\n",
       "      <th>Descrição do cargo emprego_TECNOLOGISTA EM SAUDE PUBLICA</th>\n",
       "      <th>Descrição do cargo emprego_TECNOLOGO-FORMACAO</th>\n",
       "      <th>Descrição do cargo emprego_TELEFONISTA</th>\n",
       "      <th>Descrição do cargo emprego_TELEFONISTA 40 HORAS</th>\n",
       "      <th>Descrição do cargo emprego_TRATORISTA</th>\n",
       "      <th>Descrição do cargo emprego_VESTIARISTA</th>\n",
       "      <th>Descrição do cargo emprego_VIGIA</th>\n",
       "      <th>Descrição do cargo emprego_VIGILANTE</th>\n",
       "      <th>Descrição do cargo emprego_VISITADOR SANITARIO</th>\n",
       "    </tr>\n",
       "  </thead>\n",
       "  <tbody>\n",
       "    <tr>\n",
       "      <th>0</th>\n",
       "      <td>1</td>\n",
       "      <td>40.0</td>\n",
       "      <td>0</td>\n",
       "      <td>0</td>\n",
       "      <td>1</td>\n",
       "      <td>0</td>\n",
       "      <td>0</td>\n",
       "      <td>0</td>\n",
       "      <td>0</td>\n",
       "      <td>0</td>\n",
       "      <td>...</td>\n",
       "      <td>0</td>\n",
       "      <td>0</td>\n",
       "      <td>0</td>\n",
       "      <td>0</td>\n",
       "      <td>0</td>\n",
       "      <td>0</td>\n",
       "      <td>0</td>\n",
       "      <td>0</td>\n",
       "      <td>0</td>\n",
       "      <td>0</td>\n",
       "    </tr>\n",
       "    <tr>\n",
       "      <th>1</th>\n",
       "      <td>2</td>\n",
       "      <td>34.0</td>\n",
       "      <td>0</td>\n",
       "      <td>0</td>\n",
       "      <td>0</td>\n",
       "      <td>0</td>\n",
       "      <td>0</td>\n",
       "      <td>0</td>\n",
       "      <td>0</td>\n",
       "      <td>0</td>\n",
       "      <td>...</td>\n",
       "      <td>0</td>\n",
       "      <td>0</td>\n",
       "      <td>0</td>\n",
       "      <td>0</td>\n",
       "      <td>0</td>\n",
       "      <td>0</td>\n",
       "      <td>0</td>\n",
       "      <td>0</td>\n",
       "      <td>0</td>\n",
       "      <td>0</td>\n",
       "    </tr>\n",
       "    <tr>\n",
       "      <th>2</th>\n",
       "      <td>2</td>\n",
       "      <td>38.0</td>\n",
       "      <td>0</td>\n",
       "      <td>0</td>\n",
       "      <td>0</td>\n",
       "      <td>0</td>\n",
       "      <td>0</td>\n",
       "      <td>0</td>\n",
       "      <td>0</td>\n",
       "      <td>0</td>\n",
       "      <td>...</td>\n",
       "      <td>0</td>\n",
       "      <td>0</td>\n",
       "      <td>0</td>\n",
       "      <td>0</td>\n",
       "      <td>0</td>\n",
       "      <td>0</td>\n",
       "      <td>0</td>\n",
       "      <td>0</td>\n",
       "      <td>0</td>\n",
       "      <td>0</td>\n",
       "    </tr>\n",
       "    <tr>\n",
       "      <th>3</th>\n",
       "      <td>2</td>\n",
       "      <td>40.0</td>\n",
       "      <td>0</td>\n",
       "      <td>0</td>\n",
       "      <td>0</td>\n",
       "      <td>0</td>\n",
       "      <td>0</td>\n",
       "      <td>0</td>\n",
       "      <td>0</td>\n",
       "      <td>0</td>\n",
       "      <td>...</td>\n",
       "      <td>0</td>\n",
       "      <td>0</td>\n",
       "      <td>0</td>\n",
       "      <td>0</td>\n",
       "      <td>0</td>\n",
       "      <td>0</td>\n",
       "      <td>0</td>\n",
       "      <td>0</td>\n",
       "      <td>0</td>\n",
       "      <td>1</td>\n",
       "    </tr>\n",
       "    <tr>\n",
       "      <th>4</th>\n",
       "      <td>2</td>\n",
       "      <td>37.0</td>\n",
       "      <td>0</td>\n",
       "      <td>0</td>\n",
       "      <td>0</td>\n",
       "      <td>0</td>\n",
       "      <td>0</td>\n",
       "      <td>1</td>\n",
       "      <td>0</td>\n",
       "      <td>0</td>\n",
       "      <td>...</td>\n",
       "      <td>0</td>\n",
       "      <td>0</td>\n",
       "      <td>0</td>\n",
       "      <td>0</td>\n",
       "      <td>0</td>\n",
       "      <td>0</td>\n",
       "      <td>0</td>\n",
       "      <td>0</td>\n",
       "      <td>0</td>\n",
       "      <td>0</td>\n",
       "    </tr>\n",
       "    <tr>\n",
       "      <th>...</th>\n",
       "      <td>...</td>\n",
       "      <td>...</td>\n",
       "      <td>...</td>\n",
       "      <td>...</td>\n",
       "      <td>...</td>\n",
       "      <td>...</td>\n",
       "      <td>...</td>\n",
       "      <td>...</td>\n",
       "      <td>...</td>\n",
       "      <td>...</td>\n",
       "      <td>...</td>\n",
       "      <td>...</td>\n",
       "      <td>...</td>\n",
       "      <td>...</td>\n",
       "      <td>...</td>\n",
       "      <td>...</td>\n",
       "      <td>...</td>\n",
       "      <td>...</td>\n",
       "      <td>...</td>\n",
       "      <td>...</td>\n",
       "      <td>...</td>\n",
       "    </tr>\n",
       "    <tr>\n",
       "      <th>6949</th>\n",
       "      <td>1</td>\n",
       "      <td>37.0</td>\n",
       "      <td>0</td>\n",
       "      <td>0</td>\n",
       "      <td>0</td>\n",
       "      <td>0</td>\n",
       "      <td>0</td>\n",
       "      <td>0</td>\n",
       "      <td>0</td>\n",
       "      <td>0</td>\n",
       "      <td>...</td>\n",
       "      <td>0</td>\n",
       "      <td>0</td>\n",
       "      <td>0</td>\n",
       "      <td>0</td>\n",
       "      <td>0</td>\n",
       "      <td>0</td>\n",
       "      <td>0</td>\n",
       "      <td>0</td>\n",
       "      <td>0</td>\n",
       "      <td>0</td>\n",
       "    </tr>\n",
       "    <tr>\n",
       "      <th>6950</th>\n",
       "      <td>2</td>\n",
       "      <td>37.0</td>\n",
       "      <td>0</td>\n",
       "      <td>0</td>\n",
       "      <td>0</td>\n",
       "      <td>0</td>\n",
       "      <td>0</td>\n",
       "      <td>0</td>\n",
       "      <td>0</td>\n",
       "      <td>0</td>\n",
       "      <td>...</td>\n",
       "      <td>0</td>\n",
       "      <td>0</td>\n",
       "      <td>0</td>\n",
       "      <td>0</td>\n",
       "      <td>0</td>\n",
       "      <td>0</td>\n",
       "      <td>0</td>\n",
       "      <td>0</td>\n",
       "      <td>0</td>\n",
       "      <td>0</td>\n",
       "    </tr>\n",
       "    <tr>\n",
       "      <th>6951</th>\n",
       "      <td>2</td>\n",
       "      <td>31.0</td>\n",
       "      <td>0</td>\n",
       "      <td>0</td>\n",
       "      <td>0</td>\n",
       "      <td>0</td>\n",
       "      <td>0</td>\n",
       "      <td>0</td>\n",
       "      <td>0</td>\n",
       "      <td>0</td>\n",
       "      <td>...</td>\n",
       "      <td>0</td>\n",
       "      <td>0</td>\n",
       "      <td>0</td>\n",
       "      <td>0</td>\n",
       "      <td>0</td>\n",
       "      <td>0</td>\n",
       "      <td>0</td>\n",
       "      <td>0</td>\n",
       "      <td>0</td>\n",
       "      <td>0</td>\n",
       "    </tr>\n",
       "    <tr>\n",
       "      <th>6952</th>\n",
       "      <td>1</td>\n",
       "      <td>32.0</td>\n",
       "      <td>0</td>\n",
       "      <td>0</td>\n",
       "      <td>0</td>\n",
       "      <td>0</td>\n",
       "      <td>0</td>\n",
       "      <td>0</td>\n",
       "      <td>0</td>\n",
       "      <td>0</td>\n",
       "      <td>...</td>\n",
       "      <td>0</td>\n",
       "      <td>0</td>\n",
       "      <td>0</td>\n",
       "      <td>0</td>\n",
       "      <td>0</td>\n",
       "      <td>0</td>\n",
       "      <td>0</td>\n",
       "      <td>0</td>\n",
       "      <td>0</td>\n",
       "      <td>0</td>\n",
       "    </tr>\n",
       "    <tr>\n",
       "      <th>6953</th>\n",
       "      <td>2</td>\n",
       "      <td>34.0</td>\n",
       "      <td>0</td>\n",
       "      <td>0</td>\n",
       "      <td>0</td>\n",
       "      <td>0</td>\n",
       "      <td>0</td>\n",
       "      <td>0</td>\n",
       "      <td>0</td>\n",
       "      <td>0</td>\n",
       "      <td>...</td>\n",
       "      <td>0</td>\n",
       "      <td>0</td>\n",
       "      <td>0</td>\n",
       "      <td>0</td>\n",
       "      <td>0</td>\n",
       "      <td>0</td>\n",
       "      <td>0</td>\n",
       "      <td>0</td>\n",
       "      <td>0</td>\n",
       "      <td>0</td>\n",
       "    </tr>\n",
       "  </tbody>\n",
       "</table>\n",
       "<p>6954 rows × 218 columns</p>\n",
       "</div>"
      ],
      "text/plain": [
       "     Val  Quantidade de anos no Serviço público  \\\n",
       "0      1                                   40.0   \n",
       "1      2                                   34.0   \n",
       "2      2                                   38.0   \n",
       "3      2                                   40.0   \n",
       "4      2                                   37.0   \n",
       "...   ..                                    ...   \n",
       "6949   1                                   37.0   \n",
       "6950   2                                   37.0   \n",
       "6951   2                                   31.0   \n",
       "6952   1                                   32.0   \n",
       "6953   2                                   34.0   \n",
       "\n",
       "      Descrição do cargo emprego_ADMINISTRADOR                             \\\n",
       "0                                                     0                     \n",
       "1                                                     0                     \n",
       "2                                                     0                     \n",
       "3                                                     0                     \n",
       "4                                                     0                     \n",
       "...                                                 ...                     \n",
       "6949                                                  0                     \n",
       "6950                                                  0                     \n",
       "6951                                                  0                     \n",
       "6952                                                  0                     \n",
       "6953                                                  0                     \n",
       "\n",
       "      Descrição do cargo emprego_ADVOGADO DA UNIAO                         \\\n",
       "0                                                     0                     \n",
       "1                                                     0                     \n",
       "2                                                     0                     \n",
       "3                                                     0                     \n",
       "4                                                     0                     \n",
       "...                                                 ...                     \n",
       "6949                                                  0                     \n",
       "6950                                                  0                     \n",
       "6951                                                  0                     \n",
       "6952                                                  0                     \n",
       "6953                                                  0                     \n",
       "\n",
       "      Descrição do cargo emprego_AGENTE ADMINISTRATIVO                     \\\n",
       "0                                                     1                     \n",
       "1                                                     0                     \n",
       "2                                                     0                     \n",
       "3                                                     0                     \n",
       "4                                                     0                     \n",
       "...                                                 ...                     \n",
       "6949                                                  0                     \n",
       "6950                                                  0                     \n",
       "6951                                                  0                     \n",
       "6952                                                  0                     \n",
       "6953                                                  0                     \n",
       "\n",
       "      Descrição do cargo emprego_AGENTE DE ATIV AGROPECUARIAS              \\\n",
       "0                                                     0                     \n",
       "1                                                     0                     \n",
       "2                                                     0                     \n",
       "3                                                     0                     \n",
       "4                                                     0                     \n",
       "...                                                 ...                     \n",
       "6949                                                  0                     \n",
       "6950                                                  0                     \n",
       "6951                                                  0                     \n",
       "6952                                                  0                     \n",
       "6953                                                  0                     \n",
       "\n",
       "      Descrição do cargo emprego_AGENTE DE ATIVIDADES AGROPECUARIAS        \\\n",
       "0                                                     0                     \n",
       "1                                                     0                     \n",
       "2                                                     0                     \n",
       "3                                                     0                     \n",
       "4                                                     0                     \n",
       "...                                                 ...                     \n",
       "6949                                                  0                     \n",
       "6950                                                  0                     \n",
       "6951                                                  0                     \n",
       "6952                                                  0                     \n",
       "6953                                                  0                     \n",
       "\n",
       "      Descrição do cargo emprego_AGENTE DE COLOCACAO                       \\\n",
       "0                                                     0                     \n",
       "1                                                     0                     \n",
       "2                                                     0                     \n",
       "3                                                     0                     \n",
       "4                                                     1                     \n",
       "...                                                 ...                     \n",
       "6949                                                  0                     \n",
       "6950                                                  0                     \n",
       "6951                                                  0                     \n",
       "6952                                                  0                     \n",
       "6953                                                  0                     \n",
       "\n",
       "      Descrição do cargo emprego_AGENTE DE HIGIENE E SEG NO TRABALHO       \\\n",
       "0                                                     0                     \n",
       "1                                                     0                     \n",
       "2                                                     0                     \n",
       "3                                                     0                     \n",
       "4                                                     0                     \n",
       "...                                                 ...                     \n",
       "6949                                                  0                     \n",
       "6950                                                  0                     \n",
       "6951                                                  0                     \n",
       "6952                                                  0                     \n",
       "6953                                                  0                     \n",
       "\n",
       "      Descrição do cargo emprego_AGENTE DE INSP SANIT IND PROD ORIGEM ANI  \\\n",
       "0                                                     0                     \n",
       "1                                                     0                     \n",
       "2                                                     0                     \n",
       "3                                                     0                     \n",
       "4                                                     0                     \n",
       "...                                                 ...                     \n",
       "6949                                                  0                     \n",
       "6950                                                  0                     \n",
       "6951                                                  0                     \n",
       "6952                                                  0                     \n",
       "6953                                                  0                     \n",
       "\n",
       "      ...  \\\n",
       "0     ...   \n",
       "1     ...   \n",
       "2     ...   \n",
       "3     ...   \n",
       "4     ...   \n",
       "...   ...   \n",
       "6949  ...   \n",
       "6950  ...   \n",
       "6951  ...   \n",
       "6952  ...   \n",
       "6953  ...   \n",
       "\n",
       "      Descrição do cargo emprego_TECNOLOGISTA                              \\\n",
       "0                                                     0                     \n",
       "1                                                     0                     \n",
       "2                                                     0                     \n",
       "3                                                     0                     \n",
       "4                                                     0                     \n",
       "...                                                 ...                     \n",
       "6949                                                  0                     \n",
       "6950                                                  0                     \n",
       "6951                                                  0                     \n",
       "6952                                                  0                     \n",
       "6953                                                  0                     \n",
       "\n",
       "      Descrição do cargo emprego_TECNOLOGISTA EM SAUDE PUBLICA             \\\n",
       "0                                                     0                     \n",
       "1                                                     0                     \n",
       "2                                                     0                     \n",
       "3                                                     0                     \n",
       "4                                                     0                     \n",
       "...                                                 ...                     \n",
       "6949                                                  0                     \n",
       "6950                                                  0                     \n",
       "6951                                                  0                     \n",
       "6952                                                  0                     \n",
       "6953                                                  0                     \n",
       "\n",
       "      Descrição do cargo emprego_TECNOLOGO-FORMACAO                        \\\n",
       "0                                                     0                     \n",
       "1                                                     0                     \n",
       "2                                                     0                     \n",
       "3                                                     0                     \n",
       "4                                                     0                     \n",
       "...                                                 ...                     \n",
       "6949                                                  0                     \n",
       "6950                                                  0                     \n",
       "6951                                                  0                     \n",
       "6952                                                  0                     \n",
       "6953                                                  0                     \n",
       "\n",
       "      Descrição do cargo emprego_TELEFONISTA                               \\\n",
       "0                                                     0                     \n",
       "1                                                     0                     \n",
       "2                                                     0                     \n",
       "3                                                     0                     \n",
       "4                                                     0                     \n",
       "...                                                 ...                     \n",
       "6949                                                  0                     \n",
       "6950                                                  0                     \n",
       "6951                                                  0                     \n",
       "6952                                                  0                     \n",
       "6953                                                  0                     \n",
       "\n",
       "      Descrição do cargo emprego_TELEFONISTA 40 HORAS                      \\\n",
       "0                                                     0                     \n",
       "1                                                     0                     \n",
       "2                                                     0                     \n",
       "3                                                     0                     \n",
       "4                                                     0                     \n",
       "...                                                 ...                     \n",
       "6949                                                  0                     \n",
       "6950                                                  0                     \n",
       "6951                                                  0                     \n",
       "6952                                                  0                     \n",
       "6953                                                  0                     \n",
       "\n",
       "      Descrição do cargo emprego_TRATORISTA                                \\\n",
       "0                                                     0                     \n",
       "1                                                     0                     \n",
       "2                                                     0                     \n",
       "3                                                     0                     \n",
       "4                                                     0                     \n",
       "...                                                 ...                     \n",
       "6949                                                  0                     \n",
       "6950                                                  0                     \n",
       "6951                                                  0                     \n",
       "6952                                                  0                     \n",
       "6953                                                  0                     \n",
       "\n",
       "      Descrição do cargo emprego_VESTIARISTA                               \\\n",
       "0                                                     0                     \n",
       "1                                                     0                     \n",
       "2                                                     0                     \n",
       "3                                                     0                     \n",
       "4                                                     0                     \n",
       "...                                                 ...                     \n",
       "6949                                                  0                     \n",
       "6950                                                  0                     \n",
       "6951                                                  0                     \n",
       "6952                                                  0                     \n",
       "6953                                                  0                     \n",
       "\n",
       "      Descrição do cargo emprego_VIGIA                                     \\\n",
       "0                                                     0                     \n",
       "1                                                     0                     \n",
       "2                                                     0                     \n",
       "3                                                     0                     \n",
       "4                                                     0                     \n",
       "...                                                 ...                     \n",
       "6949                                                  0                     \n",
       "6950                                                  0                     \n",
       "6951                                                  0                     \n",
       "6952                                                  0                     \n",
       "6953                                                  0                     \n",
       "\n",
       "      Descrição do cargo emprego_VIGILANTE                                 \\\n",
       "0                                                     0                     \n",
       "1                                                     0                     \n",
       "2                                                     0                     \n",
       "3                                                     0                     \n",
       "4                                                     0                     \n",
       "...                                                 ...                     \n",
       "6949                                                  0                     \n",
       "6950                                                  0                     \n",
       "6951                                                  0                     \n",
       "6952                                                  0                     \n",
       "6953                                                  0                     \n",
       "\n",
       "      Descrição do cargo emprego_VISITADOR SANITARIO                       \n",
       "0                                                     0                    \n",
       "1                                                     0                    \n",
       "2                                                     0                    \n",
       "3                                                     1                    \n",
       "4                                                     0                    \n",
       "...                                                 ...                    \n",
       "6949                                                  0                    \n",
       "6950                                                  0                    \n",
       "6951                                                  0                    \n",
       "6952                                                  0                    \n",
       "6953                                                  0                    \n",
       "\n",
       "[6954 rows x 218 columns]"
      ]
     },
     "execution_count": 538,
     "metadata": {},
     "output_type": "execute_result"
    }
   ],
   "source": [
    "train"
   ]
  },
  {
   "cell_type": "code",
   "execution_count": 539,
   "metadata": {},
   "outputs": [
    {
     "data": {
      "text/plain": [
       "array([1, 2, 1, 2, 1, 1, 2, 1, 1, 2, 2, 3, 4, 2, 2, 4, 2, 1, 3, 2, 2, 1,\n",
       "       2, 2, 1, 4, 4, 2, 4, 2, 2, 2, 2, 3, 2, 2, 2, 1, 3, 2, 2, 1, 2, 2,\n",
       "       2, 1, 2, 3, 1, 1, 1, 2, 1, 2, 2, 2, 2, 2, 4, 2, 2, 1, 1, 1, 1, 2,\n",
       "       4, 1, 2, 1, 2, 2, 2, 3, 3, 1, 2, 2, 2, 2, 2, 2, 2, 2, 1, 2, 2, 3,\n",
       "       2, 2, 4, 1, 2, 2, 3, 2, 2, 2, 1, 2, 2, 2, 2, 2, 2, 1, 2, 2, 2, 1,\n",
       "       3, 1, 2, 2, 1, 1, 3, 2, 2, 1, 4, 2, 1, 2, 3, 2, 2, 1, 2, 1, 2, 2,\n",
       "       4, 4, 2, 2, 2, 2, 4, 2, 1, 1, 4, 2, 2, 2, 2, 4, 2, 2, 2, 2, 1, 1,\n",
       "       1, 2, 4, 2, 2, 2, 2, 2, 2, 2, 1, 2, 2, 1, 5, 2, 4, 2, 5, 1, 1, 3,\n",
       "       2, 1, 2, 2, 2, 2, 2, 2, 2, 2, 2, 2, 2, 2, 2, 2, 2, 2, 2, 4, 2, 4,\n",
       "       2, 4, 1, 2, 4, 2, 2, 1, 2, 2, 2, 1, 1, 2, 2, 2, 3, 2, 2, 4, 2, 1,\n",
       "       3, 1, 2, 2, 2, 1, 2, 1, 1, 2, 2, 2, 2, 2, 2, 1, 5, 2, 2, 2, 2, 2,\n",
       "       4, 2, 2, 2, 3, 2, 1, 1, 2, 2, 2, 1, 2, 2, 3, 1, 2, 4, 4, 2, 2, 1,\n",
       "       3, 2, 2, 3, 2, 2, 3, 2, 2, 1, 2, 3, 1, 2, 1, 2, 1, 2, 2, 3, 2, 1,\n",
       "       2, 1, 2, 2, 1, 2, 2, 1, 4, 2, 1, 2, 1, 2, 2, 2, 2, 5, 1, 2, 1, 2,\n",
       "       1, 2, 1, 2, 1, 1, 2, 2, 2, 2, 2, 1, 5, 2, 3, 3, 3, 2, 2, 2, 3, 1,\n",
       "       2, 1, 2, 2, 2, 1, 2, 2, 2, 2, 2, 2, 2, 1, 2, 2, 2, 1, 2, 2, 2, 2,\n",
       "       2, 2, 2, 2, 2, 1, 2, 2, 2, 2, 3, 2, 1, 3, 1, 1, 2, 2, 2, 2, 4, 2,\n",
       "       2, 1, 2, 4, 1, 2, 2, 2, 2, 1, 2, 2, 1, 2, 2, 3, 2, 2, 1, 2, 2, 3,\n",
       "       2, 2, 2, 2, 1, 1, 2, 1, 3, 2, 2, 4, 2, 2, 1, 2, 2, 2, 1, 2, 2, 2,\n",
       "       4, 2, 2, 2, 2, 1, 1, 3, 2, 2, 2, 2, 2, 2, 4, 1, 2, 1, 1, 2, 4, 3,\n",
       "       5, 2, 3, 1, 1, 2, 2, 2, 4, 2, 2, 2, 4, 2, 2, 3, 2, 2, 1, 2, 2, 2,\n",
       "       2, 2, 2, 2, 1, 2, 2, 5, 3, 4, 1, 2, 2, 2, 3, 2, 2, 1, 1, 3, 2, 2,\n",
       "       2, 1, 1, 1, 1, 1, 1, 2, 3, 2, 4, 1, 2, 1, 3, 2, 2, 2, 2, 4, 2, 2,\n",
       "       1, 1, 1, 3, 2, 1, 2, 2, 2, 2, 1, 2, 4, 3, 2, 1, 2, 2, 2, 2, 2, 2,\n",
       "       2, 1, 2, 3, 2, 3, 2, 2, 1, 2, 1, 2, 1, 2, 2, 1, 1, 2, 1, 2, 2, 2,\n",
       "       2, 2, 1, 2, 3, 1, 1, 1, 3, 3, 2, 1, 1, 4, 2, 2, 1, 2, 2, 2, 1, 2,\n",
       "       4, 2, 2, 1, 2, 2, 3, 2, 1, 2, 4, 1, 2, 2, 3, 1, 2, 2, 4, 3, 2, 1,\n",
       "       4, 2, 2, 2, 1, 2, 5, 1, 2, 1, 2, 1, 2, 2, 2, 3, 1, 3, 2, 1, 5, 2,\n",
       "       2, 2, 1, 1, 1, 3, 2, 1, 1, 1, 2, 1, 2, 2, 1, 1, 2, 2, 2, 1, 2, 1,\n",
       "       2, 4, 2, 2, 2, 1, 2, 1, 2, 3, 4, 1, 1, 1, 2, 2, 2, 1, 5, 2, 2, 1,\n",
       "       1, 2, 2, 1, 4, 2, 2, 3, 2, 1, 2, 2, 1, 2, 4, 1, 2, 3, 2, 3, 1, 2,\n",
       "       2, 2, 2, 5, 2, 2, 1, 2, 5, 2, 2, 4, 5, 2, 1, 2, 3, 2, 2, 2, 2, 4,\n",
       "       2, 2, 1, 2, 1, 1, 2, 1, 2, 1, 2, 1, 2, 2, 3, 4, 5, 1, 2, 2, 2, 2,\n",
       "       2, 2, 2, 2, 3, 2, 2, 2, 3, 2, 2, 2, 3, 1, 5, 2, 2, 2, 1, 2, 2, 4,\n",
       "       2, 3, 2, 2, 2, 2, 1, 2, 5, 2, 2, 1, 2, 1, 2, 1, 2, 1, 1, 2, 1, 2,\n",
       "       2, 3, 1])"
      ]
     },
     "execution_count": 539,
     "metadata": {},
     "output_type": "execute_result"
    }
   ],
   "source": [
    "from sklearn import tree\n",
    "x_train = train.iloc[:,1:-1].to_numpy()\n",
    "y_train = train.iloc[:,0].to_numpy().reshape(-1,1)\n",
    "\n",
    "\n",
    "x_test = test.iloc[:,1:-1].to_numpy()\n",
    "y_test = test.iloc[:,0].to_numpy().reshape(-1,1)\n",
    "\n",
    "\n",
    "clf = tree.DecisionTreeClassifier()\n",
    "clf = clf.fit(x_train, y_train)\n",
    "clf.predict(x_test)"
   ]
  },
  {
   "cell_type": "code",
   "execution_count": 547,
   "metadata": {},
   "outputs": [
    {
     "data": {
      "text/html": [
       "<div>\n",
       "<style scoped>\n",
       "    .dataframe tbody tr th:only-of-type {\n",
       "        vertical-align: middle;\n",
       "    }\n",
       "\n",
       "    .dataframe tbody tr th {\n",
       "        vertical-align: top;\n",
       "    }\n",
       "\n",
       "    .dataframe thead th {\n",
       "        text-align: right;\n",
       "    }\n",
       "</style>\n",
       "<table border=\"1\" class=\"dataframe\">\n",
       "  <thead>\n",
       "    <tr style=\"text-align: right;\">\n",
       "      <th></th>\n",
       "      <th>Quantidade de anos no Serviço público</th>\n",
       "      <th>Descrição do cargo emprego_ADMINISTRADOR</th>\n",
       "      <th>Descrição do cargo emprego_ADVOGADO DA UNIAO</th>\n",
       "      <th>Descrição do cargo emprego_AGENTE ADMINISTRATIVO</th>\n",
       "      <th>Descrição do cargo emprego_AGENTE DE ATIV AGROPECUARIAS</th>\n",
       "      <th>Descrição do cargo emprego_AGENTE DE ATIVIDADES AGROPECUARIAS</th>\n",
       "      <th>Descrição do cargo emprego_AGENTE DE COLOCACAO</th>\n",
       "      <th>Descrição do cargo emprego_AGENTE DE HIGIENE E SEG NO TRABALHO</th>\n",
       "      <th>Descrição do cargo emprego_AGENTE DE INSP SANIT IND PROD ORIGEM ANI</th>\n",
       "      <th>Descrição do cargo emprego_AGENTE DE POL FEDERAL CLASSE ESPECIAL</th>\n",
       "      <th>...</th>\n",
       "      <th>Descrição do cargo emprego_TECNOL INF GEOGRAFICA ESTATISTICA</th>\n",
       "      <th>Descrição do cargo emprego_TECNOLOGISTA</th>\n",
       "      <th>Descrição do cargo emprego_TECNOLOGISTA EM SAUDE PUBLICA</th>\n",
       "      <th>Descrição do cargo emprego_TECNOLOGO-FORMACAO</th>\n",
       "      <th>Descrição do cargo emprego_TELEFONISTA</th>\n",
       "      <th>Descrição do cargo emprego_TELEFONISTA 40 HORAS</th>\n",
       "      <th>Descrição do cargo emprego_TRATORISTA</th>\n",
       "      <th>Descrição do cargo emprego_VESTIARISTA</th>\n",
       "      <th>Descrição do cargo emprego_VIGIA</th>\n",
       "      <th>Descrição do cargo emprego_VIGILANTE</th>\n",
       "    </tr>\n",
       "  </thead>\n",
       "  <tbody>\n",
       "    <tr>\n",
       "      <th>0</th>\n",
       "      <td>40.0</td>\n",
       "      <td>0</td>\n",
       "      <td>0</td>\n",
       "      <td>1</td>\n",
       "      <td>0</td>\n",
       "      <td>0</td>\n",
       "      <td>0</td>\n",
       "      <td>0</td>\n",
       "      <td>0</td>\n",
       "      <td>0</td>\n",
       "      <td>...</td>\n",
       "      <td>0</td>\n",
       "      <td>0</td>\n",
       "      <td>0</td>\n",
       "      <td>0</td>\n",
       "      <td>0</td>\n",
       "      <td>0</td>\n",
       "      <td>0</td>\n",
       "      <td>0</td>\n",
       "      <td>0</td>\n",
       "      <td>0</td>\n",
       "    </tr>\n",
       "    <tr>\n",
       "      <th>1</th>\n",
       "      <td>34.0</td>\n",
       "      <td>0</td>\n",
       "      <td>0</td>\n",
       "      <td>0</td>\n",
       "      <td>0</td>\n",
       "      <td>0</td>\n",
       "      <td>0</td>\n",
       "      <td>0</td>\n",
       "      <td>0</td>\n",
       "      <td>0</td>\n",
       "      <td>...</td>\n",
       "      <td>0</td>\n",
       "      <td>0</td>\n",
       "      <td>0</td>\n",
       "      <td>0</td>\n",
       "      <td>0</td>\n",
       "      <td>0</td>\n",
       "      <td>0</td>\n",
       "      <td>0</td>\n",
       "      <td>0</td>\n",
       "      <td>0</td>\n",
       "    </tr>\n",
       "    <tr>\n",
       "      <th>2</th>\n",
       "      <td>38.0</td>\n",
       "      <td>0</td>\n",
       "      <td>0</td>\n",
       "      <td>0</td>\n",
       "      <td>0</td>\n",
       "      <td>0</td>\n",
       "      <td>0</td>\n",
       "      <td>0</td>\n",
       "      <td>0</td>\n",
       "      <td>0</td>\n",
       "      <td>...</td>\n",
       "      <td>0</td>\n",
       "      <td>0</td>\n",
       "      <td>0</td>\n",
       "      <td>0</td>\n",
       "      <td>0</td>\n",
       "      <td>0</td>\n",
       "      <td>0</td>\n",
       "      <td>0</td>\n",
       "      <td>0</td>\n",
       "      <td>0</td>\n",
       "    </tr>\n",
       "    <tr>\n",
       "      <th>3</th>\n",
       "      <td>40.0</td>\n",
       "      <td>0</td>\n",
       "      <td>0</td>\n",
       "      <td>0</td>\n",
       "      <td>0</td>\n",
       "      <td>0</td>\n",
       "      <td>0</td>\n",
       "      <td>0</td>\n",
       "      <td>0</td>\n",
       "      <td>0</td>\n",
       "      <td>...</td>\n",
       "      <td>0</td>\n",
       "      <td>0</td>\n",
       "      <td>0</td>\n",
       "      <td>0</td>\n",
       "      <td>0</td>\n",
       "      <td>0</td>\n",
       "      <td>0</td>\n",
       "      <td>0</td>\n",
       "      <td>0</td>\n",
       "      <td>0</td>\n",
       "    </tr>\n",
       "    <tr>\n",
       "      <th>4</th>\n",
       "      <td>37.0</td>\n",
       "      <td>0</td>\n",
       "      <td>0</td>\n",
       "      <td>0</td>\n",
       "      <td>0</td>\n",
       "      <td>0</td>\n",
       "      <td>1</td>\n",
       "      <td>0</td>\n",
       "      <td>0</td>\n",
       "      <td>0</td>\n",
       "      <td>...</td>\n",
       "      <td>0</td>\n",
       "      <td>0</td>\n",
       "      <td>0</td>\n",
       "      <td>0</td>\n",
       "      <td>0</td>\n",
       "      <td>0</td>\n",
       "      <td>0</td>\n",
       "      <td>0</td>\n",
       "      <td>0</td>\n",
       "      <td>0</td>\n",
       "    </tr>\n",
       "    <tr>\n",
       "      <th>...</th>\n",
       "      <td>...</td>\n",
       "      <td>...</td>\n",
       "      <td>...</td>\n",
       "      <td>...</td>\n",
       "      <td>...</td>\n",
       "      <td>...</td>\n",
       "      <td>...</td>\n",
       "      <td>...</td>\n",
       "      <td>...</td>\n",
       "      <td>...</td>\n",
       "      <td>...</td>\n",
       "      <td>...</td>\n",
       "      <td>...</td>\n",
       "      <td>...</td>\n",
       "      <td>...</td>\n",
       "      <td>...</td>\n",
       "      <td>...</td>\n",
       "      <td>...</td>\n",
       "      <td>...</td>\n",
       "      <td>...</td>\n",
       "      <td>...</td>\n",
       "    </tr>\n",
       "    <tr>\n",
       "      <th>6949</th>\n",
       "      <td>37.0</td>\n",
       "      <td>0</td>\n",
       "      <td>0</td>\n",
       "      <td>0</td>\n",
       "      <td>0</td>\n",
       "      <td>0</td>\n",
       "      <td>0</td>\n",
       "      <td>0</td>\n",
       "      <td>0</td>\n",
       "      <td>0</td>\n",
       "      <td>...</td>\n",
       "      <td>0</td>\n",
       "      <td>0</td>\n",
       "      <td>0</td>\n",
       "      <td>0</td>\n",
       "      <td>0</td>\n",
       "      <td>0</td>\n",
       "      <td>0</td>\n",
       "      <td>0</td>\n",
       "      <td>0</td>\n",
       "      <td>0</td>\n",
       "    </tr>\n",
       "    <tr>\n",
       "      <th>6950</th>\n",
       "      <td>37.0</td>\n",
       "      <td>0</td>\n",
       "      <td>0</td>\n",
       "      <td>0</td>\n",
       "      <td>0</td>\n",
       "      <td>0</td>\n",
       "      <td>0</td>\n",
       "      <td>0</td>\n",
       "      <td>0</td>\n",
       "      <td>0</td>\n",
       "      <td>...</td>\n",
       "      <td>0</td>\n",
       "      <td>0</td>\n",
       "      <td>0</td>\n",
       "      <td>0</td>\n",
       "      <td>0</td>\n",
       "      <td>0</td>\n",
       "      <td>0</td>\n",
       "      <td>0</td>\n",
       "      <td>0</td>\n",
       "      <td>0</td>\n",
       "    </tr>\n",
       "    <tr>\n",
       "      <th>6951</th>\n",
       "      <td>31.0</td>\n",
       "      <td>0</td>\n",
       "      <td>0</td>\n",
       "      <td>0</td>\n",
       "      <td>0</td>\n",
       "      <td>0</td>\n",
       "      <td>0</td>\n",
       "      <td>0</td>\n",
       "      <td>0</td>\n",
       "      <td>0</td>\n",
       "      <td>...</td>\n",
       "      <td>0</td>\n",
       "      <td>0</td>\n",
       "      <td>0</td>\n",
       "      <td>0</td>\n",
       "      <td>0</td>\n",
       "      <td>0</td>\n",
       "      <td>0</td>\n",
       "      <td>0</td>\n",
       "      <td>0</td>\n",
       "      <td>0</td>\n",
       "    </tr>\n",
       "    <tr>\n",
       "      <th>6952</th>\n",
       "      <td>32.0</td>\n",
       "      <td>0</td>\n",
       "      <td>0</td>\n",
       "      <td>0</td>\n",
       "      <td>0</td>\n",
       "      <td>0</td>\n",
       "      <td>0</td>\n",
       "      <td>0</td>\n",
       "      <td>0</td>\n",
       "      <td>0</td>\n",
       "      <td>...</td>\n",
       "      <td>0</td>\n",
       "      <td>0</td>\n",
       "      <td>0</td>\n",
       "      <td>0</td>\n",
       "      <td>0</td>\n",
       "      <td>0</td>\n",
       "      <td>0</td>\n",
       "      <td>0</td>\n",
       "      <td>0</td>\n",
       "      <td>0</td>\n",
       "    </tr>\n",
       "    <tr>\n",
       "      <th>6953</th>\n",
       "      <td>34.0</td>\n",
       "      <td>0</td>\n",
       "      <td>0</td>\n",
       "      <td>0</td>\n",
       "      <td>0</td>\n",
       "      <td>0</td>\n",
       "      <td>0</td>\n",
       "      <td>0</td>\n",
       "      <td>0</td>\n",
       "      <td>0</td>\n",
       "      <td>...</td>\n",
       "      <td>0</td>\n",
       "      <td>0</td>\n",
       "      <td>0</td>\n",
       "      <td>0</td>\n",
       "      <td>0</td>\n",
       "      <td>0</td>\n",
       "      <td>0</td>\n",
       "      <td>0</td>\n",
       "      <td>0</td>\n",
       "      <td>0</td>\n",
       "    </tr>\n",
       "  </tbody>\n",
       "</table>\n",
       "<p>6954 rows × 216 columns</p>\n",
       "</div>"
      ],
      "text/plain": [
       "      Quantidade de anos no Serviço público  \\\n",
       "0                                      40.0   \n",
       "1                                      34.0   \n",
       "2                                      38.0   \n",
       "3                                      40.0   \n",
       "4                                      37.0   \n",
       "...                                     ...   \n",
       "6949                                   37.0   \n",
       "6950                                   37.0   \n",
       "6951                                   31.0   \n",
       "6952                                   32.0   \n",
       "6953                                   34.0   \n",
       "\n",
       "      Descrição do cargo emprego_ADMINISTRADOR                             \\\n",
       "0                                                     0                     \n",
       "1                                                     0                     \n",
       "2                                                     0                     \n",
       "3                                                     0                     \n",
       "4                                                     0                     \n",
       "...                                                 ...                     \n",
       "6949                                                  0                     \n",
       "6950                                                  0                     \n",
       "6951                                                  0                     \n",
       "6952                                                  0                     \n",
       "6953                                                  0                     \n",
       "\n",
       "      Descrição do cargo emprego_ADVOGADO DA UNIAO                         \\\n",
       "0                                                     0                     \n",
       "1                                                     0                     \n",
       "2                                                     0                     \n",
       "3                                                     0                     \n",
       "4                                                     0                     \n",
       "...                                                 ...                     \n",
       "6949                                                  0                     \n",
       "6950                                                  0                     \n",
       "6951                                                  0                     \n",
       "6952                                                  0                     \n",
       "6953                                                  0                     \n",
       "\n",
       "      Descrição do cargo emprego_AGENTE ADMINISTRATIVO                     \\\n",
       "0                                                     1                     \n",
       "1                                                     0                     \n",
       "2                                                     0                     \n",
       "3                                                     0                     \n",
       "4                                                     0                     \n",
       "...                                                 ...                     \n",
       "6949                                                  0                     \n",
       "6950                                                  0                     \n",
       "6951                                                  0                     \n",
       "6952                                                  0                     \n",
       "6953                                                  0                     \n",
       "\n",
       "      Descrição do cargo emprego_AGENTE DE ATIV AGROPECUARIAS              \\\n",
       "0                                                     0                     \n",
       "1                                                     0                     \n",
       "2                                                     0                     \n",
       "3                                                     0                     \n",
       "4                                                     0                     \n",
       "...                                                 ...                     \n",
       "6949                                                  0                     \n",
       "6950                                                  0                     \n",
       "6951                                                  0                     \n",
       "6952                                                  0                     \n",
       "6953                                                  0                     \n",
       "\n",
       "      Descrição do cargo emprego_AGENTE DE ATIVIDADES AGROPECUARIAS        \\\n",
       "0                                                     0                     \n",
       "1                                                     0                     \n",
       "2                                                     0                     \n",
       "3                                                     0                     \n",
       "4                                                     0                     \n",
       "...                                                 ...                     \n",
       "6949                                                  0                     \n",
       "6950                                                  0                     \n",
       "6951                                                  0                     \n",
       "6952                                                  0                     \n",
       "6953                                                  0                     \n",
       "\n",
       "      Descrição do cargo emprego_AGENTE DE COLOCACAO                       \\\n",
       "0                                                     0                     \n",
       "1                                                     0                     \n",
       "2                                                     0                     \n",
       "3                                                     0                     \n",
       "4                                                     1                     \n",
       "...                                                 ...                     \n",
       "6949                                                  0                     \n",
       "6950                                                  0                     \n",
       "6951                                                  0                     \n",
       "6952                                                  0                     \n",
       "6953                                                  0                     \n",
       "\n",
       "      Descrição do cargo emprego_AGENTE DE HIGIENE E SEG NO TRABALHO       \\\n",
       "0                                                     0                     \n",
       "1                                                     0                     \n",
       "2                                                     0                     \n",
       "3                                                     0                     \n",
       "4                                                     0                     \n",
       "...                                                 ...                     \n",
       "6949                                                  0                     \n",
       "6950                                                  0                     \n",
       "6951                                                  0                     \n",
       "6952                                                  0                     \n",
       "6953                                                  0                     \n",
       "\n",
       "      Descrição do cargo emprego_AGENTE DE INSP SANIT IND PROD ORIGEM ANI  \\\n",
       "0                                                     0                     \n",
       "1                                                     0                     \n",
       "2                                                     0                     \n",
       "3                                                     0                     \n",
       "4                                                     0                     \n",
       "...                                                 ...                     \n",
       "6949                                                  0                     \n",
       "6950                                                  0                     \n",
       "6951                                                  0                     \n",
       "6952                                                  0                     \n",
       "6953                                                  0                     \n",
       "\n",
       "      Descrição do cargo emprego_AGENTE DE POL FEDERAL CLASSE ESPECIAL     \\\n",
       "0                                                     0                     \n",
       "1                                                     0                     \n",
       "2                                                     0                     \n",
       "3                                                     0                     \n",
       "4                                                     0                     \n",
       "...                                                 ...                     \n",
       "6949                                                  0                     \n",
       "6950                                                  0                     \n",
       "6951                                                  0                     \n",
       "6952                                                  0                     \n",
       "6953                                                  0                     \n",
       "\n",
       "      ...  \\\n",
       "0     ...   \n",
       "1     ...   \n",
       "2     ...   \n",
       "3     ...   \n",
       "4     ...   \n",
       "...   ...   \n",
       "6949  ...   \n",
       "6950  ...   \n",
       "6951  ...   \n",
       "6952  ...   \n",
       "6953  ...   \n",
       "\n",
       "      Descrição do cargo emprego_TECNOL INF GEOGRAFICA ESTATISTICA         \\\n",
       "0                                                     0                     \n",
       "1                                                     0                     \n",
       "2                                                     0                     \n",
       "3                                                     0                     \n",
       "4                                                     0                     \n",
       "...                                                 ...                     \n",
       "6949                                                  0                     \n",
       "6950                                                  0                     \n",
       "6951                                                  0                     \n",
       "6952                                                  0                     \n",
       "6953                                                  0                     \n",
       "\n",
       "      Descrição do cargo emprego_TECNOLOGISTA                              \\\n",
       "0                                                     0                     \n",
       "1                                                     0                     \n",
       "2                                                     0                     \n",
       "3                                                     0                     \n",
       "4                                                     0                     \n",
       "...                                                 ...                     \n",
       "6949                                                  0                     \n",
       "6950                                                  0                     \n",
       "6951                                                  0                     \n",
       "6952                                                  0                     \n",
       "6953                                                  0                     \n",
       "\n",
       "      Descrição do cargo emprego_TECNOLOGISTA EM SAUDE PUBLICA             \\\n",
       "0                                                     0                     \n",
       "1                                                     0                     \n",
       "2                                                     0                     \n",
       "3                                                     0                     \n",
       "4                                                     0                     \n",
       "...                                                 ...                     \n",
       "6949                                                  0                     \n",
       "6950                                                  0                     \n",
       "6951                                                  0                     \n",
       "6952                                                  0                     \n",
       "6953                                                  0                     \n",
       "\n",
       "      Descrição do cargo emprego_TECNOLOGO-FORMACAO                        \\\n",
       "0                                                     0                     \n",
       "1                                                     0                     \n",
       "2                                                     0                     \n",
       "3                                                     0                     \n",
       "4                                                     0                     \n",
       "...                                                 ...                     \n",
       "6949                                                  0                     \n",
       "6950                                                  0                     \n",
       "6951                                                  0                     \n",
       "6952                                                  0                     \n",
       "6953                                                  0                     \n",
       "\n",
       "      Descrição do cargo emprego_TELEFONISTA                               \\\n",
       "0                                                     0                     \n",
       "1                                                     0                     \n",
       "2                                                     0                     \n",
       "3                                                     0                     \n",
       "4                                                     0                     \n",
       "...                                                 ...                     \n",
       "6949                                                  0                     \n",
       "6950                                                  0                     \n",
       "6951                                                  0                     \n",
       "6952                                                  0                     \n",
       "6953                                                  0                     \n",
       "\n",
       "      Descrição do cargo emprego_TELEFONISTA 40 HORAS                      \\\n",
       "0                                                     0                     \n",
       "1                                                     0                     \n",
       "2                                                     0                     \n",
       "3                                                     0                     \n",
       "4                                                     0                     \n",
       "...                                                 ...                     \n",
       "6949                                                  0                     \n",
       "6950                                                  0                     \n",
       "6951                                                  0                     \n",
       "6952                                                  0                     \n",
       "6953                                                  0                     \n",
       "\n",
       "      Descrição do cargo emprego_TRATORISTA                                \\\n",
       "0                                                     0                     \n",
       "1                                                     0                     \n",
       "2                                                     0                     \n",
       "3                                                     0                     \n",
       "4                                                     0                     \n",
       "...                                                 ...                     \n",
       "6949                                                  0                     \n",
       "6950                                                  0                     \n",
       "6951                                                  0                     \n",
       "6952                                                  0                     \n",
       "6953                                                  0                     \n",
       "\n",
       "      Descrição do cargo emprego_VESTIARISTA                               \\\n",
       "0                                                     0                     \n",
       "1                                                     0                     \n",
       "2                                                     0                     \n",
       "3                                                     0                     \n",
       "4                                                     0                     \n",
       "...                                                 ...                     \n",
       "6949                                                  0                     \n",
       "6950                                                  0                     \n",
       "6951                                                  0                     \n",
       "6952                                                  0                     \n",
       "6953                                                  0                     \n",
       "\n",
       "      Descrição do cargo emprego_VIGIA                                     \\\n",
       "0                                                     0                     \n",
       "1                                                     0                     \n",
       "2                                                     0                     \n",
       "3                                                     0                     \n",
       "4                                                     0                     \n",
       "...                                                 ...                     \n",
       "6949                                                  0                     \n",
       "6950                                                  0                     \n",
       "6951                                                  0                     \n",
       "6952                                                  0                     \n",
       "6953                                                  0                     \n",
       "\n",
       "      Descrição do cargo emprego_VIGILANTE                                 \n",
       "0                                                     0                    \n",
       "1                                                     0                    \n",
       "2                                                     0                    \n",
       "3                                                     0                    \n",
       "4                                                     0                    \n",
       "...                                                 ...                    \n",
       "6949                                                  0                    \n",
       "6950                                                  0                    \n",
       "6951                                                  0                    \n",
       "6952                                                  0                    \n",
       "6953                                                  0                    \n",
       "\n",
       "[6954 rows x 216 columns]"
      ]
     },
     "execution_count": 547,
     "metadata": {},
     "output_type": "execute_result"
    }
   ],
   "source": [
    "train.iloc[:,1:-1]"
   ]
  },
  {
   "cell_type": "code",
   "execution_count": 549,
   "metadata": {},
   "outputs": [
    {
     "data": {
      "text/plain": [
       "count    6954.000000\n",
       "mean       35.515962\n",
       "std         4.819252\n",
       "min         8.000000\n",
       "25%        33.000000\n",
       "50%        36.000000\n",
       "75%        38.000000\n",
       "max        53.000000\n",
       "Name: Quantidade de anos no Serviço público, dtype: float64"
      ]
     },
     "execution_count": 549,
     "metadata": {},
     "output_type": "execute_result"
    }
   ],
   "source": [
    "train.iloc[:,1:-1]['Quantidade de anos no Serviço público'].describe()"
   ]
  },
  {
   "cell_type": "code",
   "execution_count": 561,
   "metadata": {},
   "outputs": [
    {
     "data": {
      "image/png": "[encoded data removed]",
      "text/plain": [
       "<Figure size 864x864 with 1 Axes>"
      ]
     },
     "metadata": {
      "needs_background": "light"
     },
     "output_type": "display_data"
    }
   ],
   "source": [
    "import graphviz \n",
    "fig, ax = plt.subplots(figsize=(12, 12))\n",
    "tree.plot_tree(clf, max_depth=4, fontsize=10)\n",
    "plt.show()"
   ]
  },
  {
   "cell_type": "markdown",
   "metadata": {},
   "source": [
    "# Validando o modelo"
   ]
  },
  {
   "cell_type": "code",
   "execution_count": 562,
   "metadata": {},
   "outputs": [
    {
     "name": "stdout",
     "output_type": "stream",
     "text": [
      "Accuracy: 0.78 (+/- 0.04)\n"
     ]
    }
   ],
   "source": [
    "from sklearn.model_selection import cross_val_score\n",
    "scores = cross_val_score(clf, x_test, y_test, cv=5)\n",
    "print(\"Accuracy: %0.2f (+/- %0.2f)\" % (scores.mean(), scores.std() * 2))"
   ]
  },
  {
   "cell_type": "markdown",
   "metadata": {},
   "source": [
    "# Baixando arquivos (demora, só precisa baixar uma vez)"
   ]
  },
  {
   "cell_type": "markdown",
   "metadata": {},
   "source": [
    "# Aposentadoria"
   ]
  },
  {
   "cell_type": "markdown",
   "metadata": {},
   "source": [
    "# Baixando arquivos"
   ]
  },
  {
   "cell_type": "code",
   "execution_count": 44,
   "metadata": {},
   "outputs": [],
   "source": [
    "apos_name_prefix='APOSENTADOS-'\n",
    "aposentados_name_base = 'http://repositorio.dados.gov.br/segrt/'\n",
    "months =['01','02','03','04','05','06','07','08','09','10','11','12']\n",
    "years = range(2017,2021)\n",
    "tables = []"
   ]
  },
  {
   "cell_type": "code",
   "execution_count": 53,
   "metadata": {},
   "outputs": [
    {
     "name": "stdout",
     "output_type": "stream",
     "text": [
      "APOSENTADOS-062018.CSV\n",
      "http://repositorio.dados.gov.br/segrt/APOSENTADOS-062018.CSV\n"
     ]
    },
    {
     "name": "stderr",
     "output_type": "stream",
     "text": [
      "b'Skipping line 88: expected 4 fields, saw 6\\nSkipping line 142: expected 4 fields, saw 6\\nSkipping line 162: expected 4 fields, saw 6\\nSkipping line 168: expected 4 fields, saw 6\\nSkipping line 172: expected 4 fields, saw 6\\nSkipping line 176: expected 4 fields, saw 6\\nSkipping line 193: expected 4 fields, saw 6\\nSkipping line 206: expected 4 fields, saw 6\\nSkipping line 218: expected 4 fields, saw 6\\nSkipping line 222: expected 4 fields, saw 6\\nSkipping line 223: expected 4 fields, saw 6\\nSkipping line 229: expected 4 fields, saw 6\\nSkipping line 538: expected 4 fields, saw 6\\nSkipping line 558: expected 4 fields, saw 5\\nSkipping line 595: expected 4 fields, saw 6\\nSkipping line 597: expected 4 fields, saw 6\\nSkipping line 609: expected 4 fields, saw 6\\nSkipping line 626: expected 4 fields, saw 6\\nSkipping line 628: expected 4 fields, saw 6\\nSkipping line 640: expected 4 fields, saw 6\\nSkipping line 650: expected 4 fields, saw 6\\nSkipping line 739: expected 4 fields, saw 6\\nSkipping line 758: expected 4 fields, saw 6\\nSkipping line 762: expected 4 fields, saw 6\\nSkipping line 778: expected 4 fields, saw 6\\nSkipping line 808: expected 4 fields, saw 6\\nSkipping line 809: expected 4 fields, saw 6\\nSkipping line 811: expected 4 fields, saw 6\\nSkipping line 818: expected 4 fields, saw 6\\nSkipping line 844: expected 4 fields, saw 6\\nSkipping line 845: expected 4 fields, saw 6\\nSkipping line 846: expected 4 fields, saw 6\\nSkipping line 879: expected 4 fields, saw 6\\nSkipping line 894: expected 4 fields, saw 6\\nSkipping line 895: expected 4 fields, saw 6\\nSkipping line 896: expected 4 fields, saw 6\\nSkipping line 907: expected 4 fields, saw 6\\nSkipping line 910: expected 4 fields, saw 6\\nSkipping line 944: expected 4 fields, saw 6\\nSkipping line 966: expected 4 fields, saw 6\\nSkipping line 991: expected 4 fields, saw 6\\nSkipping line 997: expected 4 fields, saw 6\\nSkipping line 998: expected 4 fields, saw 6\\nSkipping line 1016: expected 4 fields, saw 6\\nSkipping line 1020: expected 4 fields, saw 6\\nSkipping line 1023: expected 4 fields, saw 6\\nSkipping line 1119: expected 4 fields, saw 6\\nSkipping line 1149: expected 4 fields, saw 7\\nSkipping line 1150: expected 4 fields, saw 6\\nSkipping line 1230: expected 4 fields, saw 6\\nSkipping line 1303: expected 4 fields, saw 6\\nSkipping line 1335: expected 4 fields, saw 6\\nSkipping line 1343: expected 4 fields, saw 6\\nSkipping line 1354: expected 4 fields, saw 6\\nSkipping line 1371: expected 4 fields, saw 6\\n'\n"
     ]
    },
    {
     "name": "stdout",
     "output_type": "stream",
     "text": [
      "APOSENTADOS-072018.CSV\n",
      "http://repositorio.dados.gov.br/segrt/APOSENTADOS-072018.CSV\n"
     ]
    },
    {
     "name": "stderr",
     "output_type": "stream",
     "text": [
      "b'Skipping line 35: expected 4 fields, saw 7\\nSkipping line 75: expected 4 fields, saw 6\\nSkipping line 76: expected 4 fields, saw 6\\nSkipping line 83: expected 4 fields, saw 6\\nSkipping line 137: expected 4 fields, saw 6\\nSkipping line 141: expected 4 fields, saw 6\\nSkipping line 161: expected 4 fields, saw 6\\nSkipping line 165: expected 4 fields, saw 6\\nSkipping line 179: expected 4 fields, saw 6\\nSkipping line 197: expected 4 fields, saw 6\\nSkipping line 211: expected 4 fields, saw 6\\nSkipping line 214: expected 4 fields, saw 6\\nSkipping line 215: expected 4 fields, saw 6\\nSkipping line 218: expected 4 fields, saw 6\\nSkipping line 241: expected 4 fields, saw 6\\nSkipping line 245: expected 4 fields, saw 6\\nSkipping line 248: expected 4 fields, saw 6\\nSkipping line 250: expected 4 fields, saw 6\\nSkipping line 253: expected 4 fields, saw 6\\nSkipping line 289: expected 4 fields, saw 6\\nSkipping line 446: expected 4 fields, saw 6\\nSkipping line 451: expected 4 fields, saw 6\\nSkipping line 454: expected 4 fields, saw 6\\nSkipping line 564: expected 4 fields, saw 5\\nSkipping line 597: expected 4 fields, saw 6\\nSkipping line 603: expected 4 fields, saw 6\\nSkipping line 615: expected 4 fields, saw 6\\nSkipping line 666: expected 4 fields, saw 6\\nSkipping line 667: expected 4 fields, saw 6\\nSkipping line 688: expected 4 fields, saw 6\\nSkipping line 694: expected 4 fields, saw 6\\nSkipping line 695: expected 4 fields, saw 6\\nSkipping line 755: expected 4 fields, saw 6\\nSkipping line 756: expected 4 fields, saw 6\\nSkipping line 758: expected 4 fields, saw 6\\nSkipping line 763: expected 4 fields, saw 6\\nSkipping line 785: expected 4 fields, saw 6\\nSkipping line 795: expected 4 fields, saw 6\\nSkipping line 829: expected 4 fields, saw 6\\nSkipping line 832: expected 4 fields, saw 6\\nSkipping line 861: expected 4 fields, saw 6\\nSkipping line 874: expected 4 fields, saw 6\\nSkipping line 885: expected 4 fields, saw 6\\nSkipping line 886: expected 4 fields, saw 6\\nSkipping line 893: expected 4 fields, saw 6\\nSkipping line 903: expected 4 fields, saw 6\\nSkipping line 904: expected 4 fields, saw 6\\nSkipping line 905: expected 4 fields, saw 6\\nSkipping line 907: expected 4 fields, saw 6\\nSkipping line 908: expected 4 fields, saw 6\\nSkipping line 916: expected 4 fields, saw 6\\nSkipping line 930: expected 4 fields, saw 6\\nSkipping line 933: expected 4 fields, saw 6\\nSkipping line 954: expected 4 fields, saw 6\\nSkipping line 955: expected 4 fields, saw 6\\nSkipping line 957: expected 4 fields, saw 6\\nSkipping line 964: expected 4 fields, saw 6\\nSkipping line 1022: expected 4 fields, saw 6\\nSkipping line 1034: expected 4 fields, saw 6\\nSkipping line 1039: expected 4 fields, saw 6\\nSkipping line 1045: expected 4 fields, saw 6\\nSkipping line 1055: expected 4 fields, saw 6\\nSkipping line 1059: expected 4 fields, saw 6\\nSkipping line 1061: expected 4 fields, saw 6\\nSkipping line 1068: expected 4 fields, saw 6\\nSkipping line 1070: expected 4 fields, saw 6\\nSkipping line 1071: expected 4 fields, saw 6\\nSkipping line 1101: expected 4 fields, saw 6\\nSkipping line 1186: expected 4 fields, saw 6\\nSkipping line 1209: expected 4 fields, saw 7\\nSkipping line 1364: expected 4 fields, saw 6\\nSkipping line 1403: expected 4 fields, saw 6\\nSkipping line 1500: expected 4 fields, saw 6\\nSkipping line 1534: expected 4 fields, saw 6\\nSkipping line 1537: expected 4 fields, saw 6\\nSkipping line 1542: expected 4 fields, saw 6\\nSkipping line 1588: expected 4 fields, saw 6\\n'\n"
     ]
    },
    {
     "name": "stdout",
     "output_type": "stream",
     "text": [
      "APOSENTADOS-092018.CSV\n",
      "http://repositorio.dados.gov.br/segrt/APOSENTADOS-092018.CSV\n"
     ]
    },
    {
     "name": "stderr",
     "output_type": "stream",
     "text": [
      "b'Skipping line 70: expected 4 fields, saw 6\\nSkipping line 71: expected 4 fields, saw 6\\nSkipping line 72: expected 4 fields, saw 6\\nSkipping line 73: expected 4 fields, saw 6\\nSkipping line 104: expected 4 fields, saw 6\\nSkipping line 107: expected 4 fields, saw 6\\nSkipping line 110: expected 4 fields, saw 6\\nSkipping line 111: expected 4 fields, saw 6\\nSkipping line 133: expected 4 fields, saw 6\\nSkipping line 134: expected 4 fields, saw 6\\nSkipping line 140: expected 4 fields, saw 6\\nSkipping line 144: expected 4 fields, saw 6\\nSkipping line 162: expected 4 fields, saw 6\\nSkipping line 169: expected 4 fields, saw 6\\nSkipping line 179: expected 4 fields, saw 6\\nSkipping line 180: expected 4 fields, saw 6\\nSkipping line 184: expected 4 fields, saw 6\\nSkipping line 186: expected 4 fields, saw 6\\nSkipping line 190: expected 4 fields, saw 6\\nSkipping line 191: expected 4 fields, saw 6\\nSkipping line 363: expected 4 fields, saw 6\\nSkipping line 369: expected 4 fields, saw 6\\nSkipping line 512: expected 4 fields, saw 6\\nSkipping line 522: expected 4 fields, saw 6\\nSkipping line 539: expected 4 fields, saw 6\\nSkipping line 540: expected 4 fields, saw 6\\nSkipping line 562: expected 4 fields, saw 6\\nSkipping line 580: expected 4 fields, saw 6\\nSkipping line 586: expected 4 fields, saw 6\\nSkipping line 591: expected 4 fields, saw 6\\nSkipping line 592: expected 4 fields, saw 6\\nSkipping line 647: expected 4 fields, saw 6\\nSkipping line 668: expected 4 fields, saw 6\\nSkipping line 676: expected 4 fields, saw 6\\nSkipping line 706: expected 4 fields, saw 6\\nSkipping line 707: expected 4 fields, saw 6\\nSkipping line 708: expected 4 fields, saw 6\\nSkipping line 726: expected 4 fields, saw 6\\nSkipping line 734: expected 4 fields, saw 6\\nSkipping line 745: expected 4 fields, saw 6\\nSkipping line 765: expected 4 fields, saw 6\\nSkipping line 780: expected 4 fields, saw 6\\nSkipping line 798: expected 4 fields, saw 6\\nSkipping line 799: expected 4 fields, saw 6\\nSkipping line 808: expected 4 fields, saw 6\\nSkipping line 810: expected 4 fields, saw 6\\nSkipping line 813: expected 4 fields, saw 6\\nSkipping line 861: expected 4 fields, saw 6\\nSkipping line 869: expected 4 fields, saw 6\\nSkipping line 921: expected 4 fields, saw 6\\nSkipping line 925: expected 4 fields, saw 6\\nSkipping line 932: expected 4 fields, saw 6\\nSkipping line 956: expected 4 fields, saw 6\\nSkipping line 957: expected 4 fields, saw 6\\nSkipping line 958: expected 4 fields, saw 6\\nSkipping line 961: expected 4 fields, saw 6\\nSkipping line 966: expected 4 fields, saw 6\\nSkipping line 1003: expected 4 fields, saw 6\\nSkipping line 1004: expected 4 fields, saw 6\\nSkipping line 1019: expected 4 fields, saw 6\\nSkipping line 1063: expected 4 fields, saw 6\\nSkipping line 1076: expected 4 fields, saw 6\\nSkipping line 1077: expected 4 fields, saw 6\\nSkipping line 1086: expected 4 fields, saw 6\\nSkipping line 1126: expected 4 fields, saw 6\\nSkipping line 1133: expected 4 fields, saw 6\\nSkipping line 1149: expected 4 fields, saw 7\\nSkipping line 1288: expected 4 fields, saw 6\\nSkipping line 1291: expected 4 fields, saw 6\\nSkipping line 1292: expected 4 fields, saw 6\\nSkipping line 1418: expected 4 fields, saw 6\\nSkipping line 1438: expected 4 fields, saw 6\\n'\n"
     ]
    },
    {
     "name": "stdout",
     "output_type": "stream",
     "text": [
      "APOSENTADOS-102018.CSV\n",
      "http://repositorio.dados.gov.br/segrt/APOSENTADOS-102018.CSV\n"
     ]
    },
    {
     "name": "stderr",
     "output_type": "stream",
     "text": [
      "b'Skipping line 10: expected 4 fields, saw 7\\nSkipping line 41: expected 4 fields, saw 6\\nSkipping line 42: expected 4 fields, saw 6\\nSkipping line 61: expected 4 fields, saw 6\\nSkipping line 77: expected 4 fields, saw 6\\nSkipping line 99: expected 4 fields, saw 6\\nSkipping line 122: expected 4 fields, saw 6\\nSkipping line 126: expected 4 fields, saw 6\\nSkipping line 127: expected 4 fields, saw 6\\nSkipping line 130: expected 4 fields, saw 6\\nSkipping line 139: expected 4 fields, saw 6\\nSkipping line 254: expected 4 fields, saw 6\\nSkipping line 255: expected 4 fields, saw 6\\nSkipping line 257: expected 4 fields, saw 6\\nSkipping line 258: expected 4 fields, saw 6\\nSkipping line 321: expected 4 fields, saw 6\\nSkipping line 325: expected 4 fields, saw 6\\nSkipping line 328: expected 4 fields, saw 6\\nSkipping line 329: expected 4 fields, saw 6\\nSkipping line 353: expected 4 fields, saw 6\\nSkipping line 361: expected 4 fields, saw 6\\nSkipping line 376: expected 4 fields, saw 6\\nSkipping line 377: expected 4 fields, saw 6\\nSkipping line 378: expected 4 fields, saw 6\\nSkipping line 384: expected 4 fields, saw 6\\nSkipping line 394: expected 4 fields, saw 6\\nSkipping line 403: expected 4 fields, saw 6\\nSkipping line 425: expected 4 fields, saw 6\\nSkipping line 426: expected 4 fields, saw 6\\nSkipping line 427: expected 4 fields, saw 6\\nSkipping line 442: expected 4 fields, saw 6\\nSkipping line 455: expected 4 fields, saw 6\\nSkipping line 460: expected 4 fields, saw 6\\nSkipping line 470: expected 4 fields, saw 6\\nSkipping line 472: expected 4 fields, saw 6\\nSkipping line 491: expected 4 fields, saw 6\\nSkipping line 497: expected 4 fields, saw 6\\nSkipping line 498: expected 4 fields, saw 6\\nSkipping line 513: expected 4 fields, saw 6\\nSkipping line 525: expected 4 fields, saw 6\\nSkipping line 551: expected 4 fields, saw 6\\nSkipping line 558: expected 4 fields, saw 6\\nSkipping line 597: expected 4 fields, saw 6\\nSkipping line 600: expected 4 fields, saw 6\\nSkipping line 602: expected 4 fields, saw 6\\nSkipping line 607: expected 4 fields, saw 6\\nSkipping line 627: expected 4 fields, saw 6\\nSkipping line 670: expected 4 fields, saw 6\\nSkipping line 711: expected 4 fields, saw 6\\nSkipping line 729: expected 4 fields, saw 6\\nSkipping line 740: expected 4 fields, saw 6\\n'\n"
     ]
    },
    {
     "name": "stdout",
     "output_type": "stream",
     "text": [
      "APOSENTADOS-112018.CSV\n",
      "http://repositorio.dados.gov.br/segrt/APOSENTADOS-112018.CSV\n"
     ]
    },
    {
     "name": "stderr",
     "output_type": "stream",
     "text": [
      "b'Skipping line 26: expected 4 fields, saw 6\\nSkipping line 36: expected 4 fields, saw 6\\nSkipping line 44: expected 4 fields, saw 6\\nSkipping line 45: expected 4 fields, saw 6\\nSkipping line 89: expected 4 fields, saw 6\\nSkipping line 90: expected 4 fields, saw 6\\nSkipping line 113: expected 4 fields, saw 6\\nSkipping line 117: expected 4 fields, saw 6\\nSkipping line 121: expected 4 fields, saw 6\\nSkipping line 139: expected 4 fields, saw 6\\nSkipping line 145: expected 4 fields, saw 6\\nSkipping line 157: expected 4 fields, saw 6\\nSkipping line 158: expected 4 fields, saw 6\\nSkipping line 159: expected 4 fields, saw 6\\nSkipping line 162: expected 4 fields, saw 6\\nSkipping line 164: expected 4 fields, saw 6\\nSkipping line 168: expected 4 fields, saw 6\\nSkipping line 352: expected 4 fields, saw 6\\nSkipping line 353: expected 4 fields, saw 6\\nSkipping line 354: expected 4 fields, saw 6\\nSkipping line 355: expected 4 fields, saw 6\\nSkipping line 361: expected 4 fields, saw 6\\nSkipping line 366: expected 4 fields, saw 6\\nSkipping line 367: expected 4 fields, saw 6\\nSkipping line 434: expected 4 fields, saw 6\\nSkipping line 459: expected 4 fields, saw 6\\nSkipping line 475: expected 4 fields, saw 6\\nSkipping line 480: expected 4 fields, saw 6\\nSkipping line 508: expected 4 fields, saw 6\\nSkipping line 546: expected 4 fields, saw 6\\nSkipping line 629: expected 4 fields, saw 6\\nSkipping line 653: expected 4 fields, saw 6\\nSkipping line 659: expected 4 fields, saw 6\\nSkipping line 684: expected 4 fields, saw 6\\nSkipping line 687: expected 4 fields, saw 6\\nSkipping line 690: expected 4 fields, saw 6\\nSkipping line 701: expected 4 fields, saw 6\\nSkipping line 713: expected 4 fields, saw 6\\nSkipping line 725: expected 4 fields, saw 6\\nSkipping line 736: expected 4 fields, saw 6\\nSkipping line 750: expected 4 fields, saw 6\\nSkipping line 767: expected 4 fields, saw 6\\nSkipping line 776: expected 4 fields, saw 6\\nSkipping line 824: expected 4 fields, saw 6\\nSkipping line 825: expected 4 fields, saw 6\\nSkipping line 866: expected 4 fields, saw 6\\nSkipping line 869: expected 4 fields, saw 6\\nSkipping line 903: expected 4 fields, saw 6\\nSkipping line 914: expected 4 fields, saw 6\\nSkipping line 991: expected 4 fields, saw 6\\nSkipping line 999: expected 4 fields, saw 6\\nSkipping line 1010: expected 4 fields, saw 6\\nSkipping line 1013: expected 4 fields, saw 6\\nSkipping line 1112: expected 4 fields, saw 6\\n'\n"
     ]
    },
    {
     "name": "stdout",
     "output_type": "stream",
     "text": [
      "APOSENTADOS-122018.CSV\n",
      "http://repositorio.dados.gov.br/segrt/APOSENTADOS-122018.CSV\n"
     ]
    },
    {
     "name": "stderr",
     "output_type": "stream",
     "text": [
      "b'Skipping line 39: expected 4 fields, saw 6\\nSkipping line 83: expected 4 fields, saw 6\\nSkipping line 87: expected 4 fields, saw 6\\nSkipping line 108: expected 4 fields, saw 6\\nSkipping line 111: expected 4 fields, saw 6\\nSkipping line 120: expected 4 fields, saw 6\\nSkipping line 141: expected 4 fields, saw 6\\nSkipping line 142: expected 4 fields, saw 6\\nSkipping line 151: expected 4 fields, saw 6\\nSkipping line 154: expected 4 fields, saw 6\\nSkipping line 159: expected 4 fields, saw 6\\nSkipping line 160: expected 4 fields, saw 6\\nSkipping line 161: expected 4 fields, saw 6\\nSkipping line 162: expected 4 fields, saw 6\\nSkipping line 163: expected 4 fields, saw 6\\nSkipping line 164: expected 4 fields, saw 6\\nSkipping line 165: expected 4 fields, saw 6\\nSkipping line 166: expected 4 fields, saw 6\\nSkipping line 167: expected 4 fields, saw 6\\nSkipping line 168: expected 4 fields, saw 6\\nSkipping line 170: expected 4 fields, saw 6\\nSkipping line 171: expected 4 fields, saw 6\\nSkipping line 172: expected 4 fields, saw 6\\nSkipping line 173: expected 4 fields, saw 6\\nSkipping line 177: expected 4 fields, saw 6\\nSkipping line 380: expected 4 fields, saw 6\\nSkipping line 383: expected 4 fields, saw 6\\nSkipping line 385: expected 4 fields, saw 6\\nSkipping line 407: expected 4 fields, saw 6\\nSkipping line 443: expected 4 fields, saw 6\\nSkipping line 447: expected 4 fields, saw 6\\nSkipping line 511: expected 4 fields, saw 6\\nSkipping line 535: expected 4 fields, saw 6\\nSkipping line 537: expected 4 fields, saw 6\\nSkipping line 553: expected 4 fields, saw 6\\nSkipping line 577: expected 4 fields, saw 6\\nSkipping line 595: expected 4 fields, saw 6\\nSkipping line 614: expected 4 fields, saw 6\\nSkipping line 620: expected 4 fields, saw 6\\nSkipping line 634: expected 4 fields, saw 6\\nSkipping line 647: expected 4 fields, saw 6\\nSkipping line 663: expected 4 fields, saw 6\\nSkipping line 675: expected 4 fields, saw 6\\nSkipping line 717: expected 4 fields, saw 6\\nSkipping line 731: expected 4 fields, saw 6\\nSkipping line 734: expected 4 fields, saw 6\\nSkipping line 739: expected 4 fields, saw 6\\nSkipping line 740: expected 4 fields, saw 6\\nSkipping line 745: expected 4 fields, saw 6\\nSkipping line 750: expected 4 fields, saw 6\\nSkipping line 756: expected 4 fields, saw 6\\nSkipping line 769: expected 4 fields, saw 6\\nSkipping line 770: expected 4 fields, saw 6\\nSkipping line 827: expected 4 fields, saw 6\\nSkipping line 828: expected 4 fields, saw 6\\nSkipping line 846: expected 4 fields, saw 6\\nSkipping line 913: expected 4 fields, saw 6\\n'\n"
     ]
    },
    {
     "name": "stdout",
     "output_type": "stream",
     "text": [
      "APOSENTADOS-012019.CSV\n",
      "http://repositorio.dados.gov.br/segrt/APOSENTADOS-012019.CSV\n"
     ]
    },
    {
     "name": "stderr",
     "output_type": "stream",
     "text": [
      "b'Skipping line 44: expected 4 fields, saw 6\\nSkipping line 49: expected 4 fields, saw 6\\nSkipping line 77: expected 4 fields, saw 6\\nSkipping line 87: expected 4 fields, saw 6\\nSkipping line 139: expected 4 fields, saw 6\\nSkipping line 141: expected 4 fields, saw 6\\nSkipping line 144: expected 4 fields, saw 6\\nSkipping line 157: expected 4 fields, saw 6\\nSkipping line 200: expected 4 fields, saw 6\\nSkipping line 212: expected 4 fields, saw 6\\nSkipping line 216: expected 4 fields, saw 6\\nSkipping line 228: expected 4 fields, saw 6\\nSkipping line 229: expected 4 fields, saw 6\\nSkipping line 233: expected 4 fields, saw 6\\nSkipping line 235: expected 4 fields, saw 6\\nSkipping line 236: expected 4 fields, saw 6\\nSkipping line 237: expected 4 fields, saw 6\\nSkipping line 252: expected 4 fields, saw 6\\nSkipping line 436: expected 4 fields, saw 6\\nSkipping line 486: expected 4 fields, saw 6\\nSkipping line 496: expected 4 fields, saw 6\\nSkipping line 502: expected 4 fields, saw 6\\nSkipping line 535: expected 4 fields, saw 6\\nSkipping line 538: expected 4 fields, saw 6\\nSkipping line 550: expected 4 fields, saw 6\\nSkipping line 558: expected 4 fields, saw 6\\nSkipping line 589: expected 4 fields, saw 6\\nSkipping line 591: expected 4 fields, saw 6\\nSkipping line 605: expected 4 fields, saw 6\\nSkipping line 622: expected 4 fields, saw 6\\nSkipping line 633: expected 4 fields, saw 6\\nSkipping line 642: expected 4 fields, saw 6\\nSkipping line 704: expected 4 fields, saw 6\\nSkipping line 705: expected 4 fields, saw 6\\nSkipping line 708: expected 4 fields, saw 6\\nSkipping line 720: expected 4 fields, saw 6\\nSkipping line 748: expected 4 fields, saw 6\\nSkipping line 754: expected 4 fields, saw 6\\nSkipping line 758: expected 4 fields, saw 6\\nSkipping line 761: expected 4 fields, saw 6\\nSkipping line 768: expected 4 fields, saw 6\\nSkipping line 821: expected 4 fields, saw 6\\nSkipping line 823: expected 4 fields, saw 6\\nSkipping line 824: expected 4 fields, saw 6\\nSkipping line 827: expected 4 fields, saw 6\\nSkipping line 841: expected 4 fields, saw 6\\nSkipping line 867: expected 4 fields, saw 6\\nSkipping line 879: expected 4 fields, saw 6\\nSkipping line 880: expected 4 fields, saw 6\\nSkipping line 882: expected 4 fields, saw 6\\nSkipping line 929: expected 4 fields, saw 6\\nSkipping line 933: expected 4 fields, saw 6\\nSkipping line 980: expected 4 fields, saw 6\\n'\n"
     ]
    },
    {
     "name": "stdout",
     "output_type": "stream",
     "text": [
      "APOSENTADOS-022019.CSV\n",
      "http://repositorio.dados.gov.br/segrt/APOSENTADOS-022019.CSV\n"
     ]
    },
    {
     "name": "stderr",
     "output_type": "stream",
     "text": [
      "b'Skipping line 117: expected 4 fields, saw 6\\nSkipping line 184: expected 4 fields, saw 6\\nSkipping line 185: expected 4 fields, saw 6\\nSkipping line 196: expected 4 fields, saw 6\\nSkipping line 224: expected 4 fields, saw 6\\nSkipping line 290: expected 4 fields, saw 6\\nSkipping line 291: expected 4 fields, saw 6\\nSkipping line 305: expected 4 fields, saw 6\\nSkipping line 306: expected 4 fields, saw 6\\nSkipping line 307: expected 4 fields, saw 6\\nSkipping line 309: expected 4 fields, saw 6\\nSkipping line 312: expected 4 fields, saw 6\\nSkipping line 314: expected 4 fields, saw 6\\nSkipping line 315: expected 4 fields, saw 6\\nSkipping line 584: expected 4 fields, saw 6\\nSkipping line 586: expected 4 fields, saw 6\\nSkipping line 588: expected 4 fields, saw 6\\nSkipping line 589: expected 4 fields, saw 6\\nSkipping line 816: expected 4 fields, saw 6\\nSkipping line 850: expected 4 fields, saw 6\\nSkipping line 854: expected 4 fields, saw 6\\nSkipping line 868: expected 4 fields, saw 6\\nSkipping line 878: expected 4 fields, saw 6\\nSkipping line 880: expected 4 fields, saw 6\\nSkipping line 886: expected 4 fields, saw 6\\nSkipping line 896: expected 4 fields, saw 6\\nSkipping line 956: expected 4 fields, saw 6\\nSkipping line 963: expected 4 fields, saw 6\\nSkipping line 992: expected 4 fields, saw 6\\nSkipping line 998: expected 4 fields, saw 6\\nSkipping line 1013: expected 4 fields, saw 6\\nSkipping line 1015: expected 4 fields, saw 6\\nSkipping line 1031: expected 4 fields, saw 6\\nSkipping line 1051: expected 4 fields, saw 6\\nSkipping line 1056: expected 4 fields, saw 6\\nSkipping line 1074: expected 4 fields, saw 6\\nSkipping line 1109: expected 4 fields, saw 6\\nSkipping line 1114: expected 4 fields, saw 6\\nSkipping line 1121: expected 4 fields, saw 6\\nSkipping line 1161: expected 4 fields, saw 6\\nSkipping line 1169: expected 4 fields, saw 6\\nSkipping line 1182: expected 4 fields, saw 6\\nSkipping line 1197: expected 4 fields, saw 6\\nSkipping line 1213: expected 4 fields, saw 6\\nSkipping line 1214: expected 4 fields, saw 6\\nSkipping line 1218: expected 4 fields, saw 6\\nSkipping line 1243: expected 4 fields, saw 7\\nSkipping line 1251: expected 4 fields, saw 6\\nSkipping line 1252: expected 4 fields, saw 6\\nSkipping line 1272: expected 4 fields, saw 6\\nSkipping line 1339: expected 4 fields, saw 6\\nSkipping line 1403: expected 4 fields, saw 6\\nSkipping line 2218: expected 4 fields, saw 6\\nSkipping line 2333: expected 4 fields, saw 6\\nSkipping line 2367: expected 4 fields, saw 6\\nSkipping line 2368: expected 4 fields, saw 6\\n'\n"
     ]
    },
    {
     "name": "stdout",
     "output_type": "stream",
     "text": [
      "APOSENTADOS-032019.CSV\n",
      "http://repositorio.dados.gov.br/segrt/APOSENTADOS-032019.CSV\n"
     ]
    },
    {
     "name": "stderr",
     "output_type": "stream",
     "text": [
      "b'Skipping line 124: expected 4 fields, saw 6\\nSkipping line 276: expected 4 fields, saw 6\\nSkipping line 278: expected 4 fields, saw 6\\nSkipping line 390: expected 4 fields, saw 6\\nSkipping line 396: expected 4 fields, saw 6\\nSkipping line 408: expected 4 fields, saw 6\\nSkipping line 444: expected 4 fields, saw 6\\nSkipping line 457: expected 4 fields, saw 6\\nSkipping line 472: expected 4 fields, saw 6\\nSkipping line 478: expected 4 fields, saw 6\\nSkipping line 483: expected 4 fields, saw 6\\nSkipping line 651: expected 4 fields, saw 6\\nSkipping line 673: expected 4 fields, saw 6\\nSkipping line 674: expected 4 fields, saw 6\\nSkipping line 675: expected 4 fields, saw 6\\nSkipping line 676: expected 4 fields, saw 6\\nSkipping line 677: expected 4 fields, saw 6\\nSkipping line 678: expected 4 fields, saw 6\\nSkipping line 679: expected 4 fields, saw 6\\nSkipping line 682: expected 4 fields, saw 6\\nSkipping line 684: expected 4 fields, saw 6\\nSkipping line 686: expected 4 fields, saw 6\\nSkipping line 1146: expected 4 fields, saw 6\\nSkipping line 1162: expected 4 fields, saw 6\\nSkipping line 1163: expected 4 fields, saw 6\\nSkipping line 1184: expected 4 fields, saw 6\\nSkipping line 1605: expected 4 fields, saw 6\\nSkipping line 1833: expected 4 fields, saw 6\\nSkipping line 1844: expected 4 fields, saw 6\\nSkipping line 1863: expected 4 fields, saw 6\\nSkipping line 1866: expected 4 fields, saw 6\\nSkipping line 1920: expected 4 fields, saw 6\\nSkipping line 1934: expected 4 fields, saw 6\\nSkipping line 1935: expected 4 fields, saw 6\\nSkipping line 1938: expected 4 fields, saw 6\\nSkipping line 1987: expected 4 fields, saw 6\\nSkipping line 2014: expected 4 fields, saw 6\\nSkipping line 2034: expected 4 fields, saw 6\\nSkipping line 2036: expected 4 fields, saw 6\\nSkipping line 2038: expected 4 fields, saw 6\\nSkipping line 2087: expected 4 fields, saw 6\\nSkipping line 2089: expected 4 fields, saw 6\\nSkipping line 2132: expected 4 fields, saw 6\\nSkipping line 2133: expected 4 fields, saw 6\\nSkipping line 2141: expected 4 fields, saw 6\\nSkipping line 2174: expected 4 fields, saw 6\\nSkipping line 2211: expected 4 fields, saw 6\\nSkipping line 2260: expected 4 fields, saw 6\\nSkipping line 2308: expected 4 fields, saw 6\\nSkipping line 2309: expected 4 fields, saw 6\\nSkipping line 2334: expected 4 fields, saw 6\\nSkipping line 2355: expected 4 fields, saw 6\\nSkipping line 2366: expected 4 fields, saw 6\\nSkipping line 2367: expected 4 fields, saw 6\\nSkipping line 2381: expected 4 fields, saw 6\\nSkipping line 2393: expected 4 fields, saw 5\\nSkipping line 2411: expected 4 fields, saw 6\\nSkipping line 2414: expected 4 fields, saw 6\\nSkipping line 2440: expected 4 fields, saw 6\\nSkipping line 2465: expected 4 fields, saw 6\\nSkipping line 2474: expected 4 fields, saw 6\\nSkipping line 2494: expected 4 fields, saw 6\\nSkipping line 2498: expected 4 fields, saw 6\\nSkipping line 2553: expected 4 fields, saw 6\\nSkipping line 2564: expected 4 fields, saw 6\\nSkipping line 2588: expected 4 fields, saw 6\\nSkipping line 2591: expected 4 fields, saw 6\\nSkipping line 2594: expected 4 fields, saw 6\\nSkipping line 2635: expected 4 fields, saw 6\\nSkipping line 2658: expected 4 fields, saw 6\\nSkipping line 2662: expected 4 fields, saw 6\\nSkipping line 2668: expected 4 fields, saw 6\\nSkipping line 2693: expected 4 fields, saw 6\\nSkipping line 2694: expected 4 fields, saw 6\\nSkipping line 2701: expected 4 fields, saw 6\\nSkipping line 2718: expected 4 fields, saw 7\\nSkipping line 2740: expected 4 fields, saw 6\\nSkipping line 2764: expected 4 fields, saw 6\\nSkipping line 2780: expected 4 fields, saw 6\\nSkipping line 2781: expected 4 fields, saw 6\\nSkipping line 2818: expected 4 fields, saw 6\\nSkipping line 2821: expected 4 fields, saw 6\\nSkipping line 2822: expected 4 fields, saw 6\\nSkipping line 2829: expected 4 fields, saw 6\\nSkipping line 3140: expected 4 fields, saw 6\\nSkipping line 3512: expected 4 fields, saw 6\\nSkipping line 4209: expected 4 fields, saw 6\\nSkipping line 4433: expected 4 fields, saw 6\\nSkipping line 4443: expected 4 fields, saw 6\\nSkipping line 4458: expected 4 fields, saw 6\\nSkipping line 4464: expected 4 fields, saw 6\\nSkipping line 4467: expected 4 fields, saw 6\\nSkipping line 4476: expected 4 fields, saw 6\\nSkipping line 4692: expected 4 fields, saw 6\\nSkipping line 4695: expected 4 fields, saw 6\\nSkipping line 4696: expected 4 fields, saw 6\\n'\n"
     ]
    },
    {
     "name": "stdout",
     "output_type": "stream",
     "text": [
      "APOSENTADOS-042019.CSV\n",
      "http://repositorio.dados.gov.br/segrt/APOSENTADOS-042019.CSV\n"
     ]
    },
    {
     "name": "stderr",
     "output_type": "stream",
     "text": [
      "b'Skipping line 170: expected 4 fields, saw 7\\nSkipping line 236: expected 4 fields, saw 6\\nSkipping line 241: expected 4 fields, saw 6\\nSkipping line 293: expected 4 fields, saw 6\\nSkipping line 302: expected 4 fields, saw 6\\nSkipping line 350: expected 4 fields, saw 6\\nSkipping line 391: expected 4 fields, saw 6\\nSkipping line 410: expected 4 fields, saw 6\\nSkipping line 412: expected 4 fields, saw 6\\nSkipping line 415: expected 4 fields, saw 6\\nSkipping line 482: expected 4 fields, saw 6\\nSkipping line 537: expected 4 fields, saw 6\\nSkipping line 584: expected 4 fields, saw 6\\nSkipping line 586: expected 4 fields, saw 6\\nSkipping line 587: expected 4 fields, saw 6\\nSkipping line 588: expected 4 fields, saw 6\\nSkipping line 590: expected 4 fields, saw 6\\nSkipping line 591: expected 4 fields, saw 6\\nSkipping line 592: expected 4 fields, saw 6\\nSkipping line 593: expected 4 fields, saw 6\\nSkipping line 597: expected 4 fields, saw 6\\nSkipping line 605: expected 4 fields, saw 6\\nSkipping line 606: expected 4 fields, saw 6\\nSkipping line 607: expected 4 fields, saw 6\\nSkipping line 608: expected 4 fields, saw 6\\nSkipping line 609: expected 4 fields, saw 6\\nSkipping line 611: expected 4 fields, saw 6\\nSkipping line 613: expected 4 fields, saw 6\\nSkipping line 1037: expected 4 fields, saw 6\\nSkipping line 1038: expected 4 fields, saw 6\\nSkipping line 1039: expected 4 fields, saw 6\\nSkipping line 1041: expected 4 fields, saw 6\\nSkipping line 1047: expected 4 fields, saw 6\\nSkipping line 1455: expected 4 fields, saw 6\\nSkipping line 1456: expected 4 fields, saw 6\\nSkipping line 1461: expected 4 fields, saw 6\\nSkipping line 1470: expected 4 fields, saw 6\\nSkipping line 1479: expected 4 fields, saw 6\\nSkipping line 1489: expected 4 fields, saw 6\\nSkipping line 1506: expected 4 fields, saw 6\\nSkipping line 1521: expected 4 fields, saw 6\\nSkipping line 1561: expected 4 fields, saw 6\\nSkipping line 1562: expected 4 fields, saw 6\\nSkipping line 1565: expected 4 fields, saw 6\\nSkipping line 1575: expected 4 fields, saw 6\\nSkipping line 1630: expected 4 fields, saw 6\\nSkipping line 1633: expected 4 fields, saw 6\\nSkipping line 1712: expected 4 fields, saw 6\\nSkipping line 1736: expected 4 fields, saw 6\\nSkipping line 1737: expected 4 fields, saw 6\\nSkipping line 1738: expected 4 fields, saw 6\\nSkipping line 1741: expected 4 fields, saw 6\\nSkipping line 1745: expected 4 fields, saw 6\\nSkipping line 1759: expected 4 fields, saw 6\\nSkipping line 1763: expected 4 fields, saw 6\\nSkipping line 1784: expected 4 fields, saw 6\\nSkipping line 1800: expected 4 fields, saw 6\\nSkipping line 1801: expected 4 fields, saw 6\\nSkipping line 1809: expected 4 fields, saw 6\\nSkipping line 1814: expected 4 fields, saw 6\\nSkipping line 1818: expected 4 fields, saw 6\\nSkipping line 1883: expected 4 fields, saw 6\\nSkipping line 1885: expected 4 fields, saw 6\\nSkipping line 1889: expected 4 fields, saw 6\\nSkipping line 1906: expected 4 fields, saw 6\\nSkipping line 1923: expected 4 fields, saw 6\\nSkipping line 1967: expected 4 fields, saw 6\\nSkipping line 1968: expected 4 fields, saw 6\\nSkipping line 1973: expected 4 fields, saw 6\\nSkipping line 1981: expected 4 fields, saw 6\\nSkipping line 1983: expected 4 fields, saw 6\\nSkipping line 1984: expected 4 fields, saw 6\\nSkipping line 1985: expected 4 fields, saw 6\\nSkipping line 1986: expected 4 fields, saw 6\\nSkipping line 1992: expected 4 fields, saw 6\\nSkipping line 1999: expected 4 fields, saw 6\\nSkipping line 2000: expected 4 fields, saw 6\\nSkipping line 2021: expected 4 fields, saw 6\\nSkipping line 2040: expected 4 fields, saw 6\\nSkipping line 2056: expected 4 fields, saw 6\\nSkipping line 2058: expected 4 fields, saw 6\\nSkipping line 2105: expected 4 fields, saw 6\\nSkipping line 2112: expected 4 fields, saw 6\\nSkipping line 2144: expected 4 fields, saw 6\\nSkipping line 2184: expected 4 fields, saw 6\\nSkipping line 2185: expected 4 fields, saw 6\\nSkipping line 2216: expected 4 fields, saw 6\\nSkipping line 2223: expected 4 fields, saw 6\\nSkipping line 2224: expected 4 fields, saw 6\\nSkipping line 2246: expected 4 fields, saw 6\\nSkipping line 2259: expected 4 fields, saw 6\\nSkipping line 2260: expected 4 fields, saw 6\\nSkipping line 2264: expected 4 fields, saw 6\\nSkipping line 2285: expected 4 fields, saw 6\\nSkipping line 2289: expected 4 fields, saw 6\\nSkipping line 2324: expected 4 fields, saw 6\\nSkipping line 2325: expected 4 fields, saw 6\\nSkipping line 2326: expected 4 fields, saw 6\\nSkipping line 2327: expected 4 fields, saw 6\\nSkipping line 2328: expected 4 fields, saw 6\\nSkipping line 2333: expected 4 fields, saw 6\\nSkipping line 2351: expected 4 fields, saw 6\\nSkipping line 2361: expected 4 fields, saw 6\\nSkipping line 2386: expected 4 fields, saw 6\\nSkipping line 2389: expected 4 fields, saw 6\\nSkipping line 2390: expected 4 fields, saw 6\\nSkipping line 2533: expected 4 fields, saw 6\\nSkipping line 2570: expected 4 fields, saw 6\\nSkipping line 2634: expected 4 fields, saw 6\\nSkipping line 2645: expected 4 fields, saw 6\\nSkipping line 2921: expected 4 fields, saw 6\\nSkipping line 2922: expected 4 fields, saw 6\\nSkipping line 3320: expected 4 fields, saw 6\\nSkipping line 3443: expected 4 fields, saw 6\\nSkipping line 3446: expected 4 fields, saw 6\\nSkipping line 3461: expected 4 fields, saw 6\\nSkipping line 3472: expected 4 fields, saw 6\\nSkipping line 3474: expected 4 fields, saw 6\\nSkipping line 3475: expected 4 fields, saw 6\\nSkipping line 3485: expected 4 fields, saw 6\\nSkipping line 3496: expected 4 fields, saw 6\\nSkipping line 3572: expected 4 fields, saw 6\\n'\n"
     ]
    },
    {
     "name": "stdout",
     "output_type": "stream",
     "text": [
      "APOSENTADOS-052019.CSV\n",
      "http://repositorio.dados.gov.br/segrt/APOSENTADOS-052019.CSV\n"
     ]
    },
    {
     "name": "stderr",
     "output_type": "stream",
     "text": [
      "b'Skipping line 213: expected 4 fields, saw 6\\nSkipping line 281: expected 4 fields, saw 6\\nSkipping line 320: expected 4 fields, saw 6\\nSkipping line 321: expected 4 fields, saw 6\\nSkipping line 373: expected 4 fields, saw 6\\nSkipping line 395: expected 4 fields, saw 6\\nSkipping line 418: expected 4 fields, saw 6\\nSkipping line 434: expected 4 fields, saw 6\\nSkipping line 439: expected 4 fields, saw 6\\nSkipping line 441: expected 4 fields, saw 6\\nSkipping line 505: expected 4 fields, saw 6\\nSkipping line 510: expected 4 fields, saw 6\\nSkipping line 539: expected 4 fields, saw 6\\nSkipping line 542: expected 4 fields, saw 6\\nSkipping line 543: expected 4 fields, saw 6\\nSkipping line 544: expected 4 fields, saw 6\\nSkipping line 545: expected 4 fields, saw 6\\nSkipping line 554: expected 4 fields, saw 6\\nSkipping line 559: expected 4 fields, saw 6\\nSkipping line 561: expected 4 fields, saw 6\\nSkipping line 562: expected 4 fields, saw 6\\nSkipping line 570: expected 4 fields, saw 6\\nSkipping line 607: expected 4 fields, saw 6\\nSkipping line 624: expected 4 fields, saw 6\\nSkipping line 1511: expected 4 fields, saw 6\\nSkipping line 1541: expected 4 fields, saw 6\\nSkipping line 1557: expected 4 fields, saw 6\\nSkipping line 1573: expected 4 fields, saw 6\\nSkipping line 1589: expected 4 fields, saw 6\\nSkipping line 1610: expected 4 fields, saw 6\\nSkipping line 1647: expected 4 fields, saw 6\\nSkipping line 1662: expected 4 fields, saw 6\\nSkipping line 1675: expected 4 fields, saw 6\\nSkipping line 1681: expected 4 fields, saw 6\\nSkipping line 1682: expected 4 fields, saw 6\\nSkipping line 1686: expected 4 fields, saw 6\\nSkipping line 1709: expected 4 fields, saw 6\\nSkipping line 1766: expected 4 fields, saw 6\\nSkipping line 1767: expected 4 fields, saw 6\\nSkipping line 1825: expected 4 fields, saw 6\\nSkipping line 1834: expected 4 fields, saw 6\\nSkipping line 1836: expected 4 fields, saw 6\\nSkipping line 1840: expected 4 fields, saw 6\\nSkipping line 1887: expected 4 fields, saw 6\\nSkipping line 1919: expected 4 fields, saw 6\\nSkipping line 1954: expected 4 fields, saw 6\\nSkipping line 1959: expected 4 fields, saw 6\\nSkipping line 1960: expected 4 fields, saw 6\\nSkipping line 1971: expected 4 fields, saw 6\\nSkipping line 1976: expected 4 fields, saw 6\\nSkipping line 2015: expected 4 fields, saw 6\\nSkipping line 2021: expected 4 fields, saw 6\\nSkipping line 2022: expected 4 fields, saw 6\\nSkipping line 2034: expected 4 fields, saw 6\\nSkipping line 2035: expected 4 fields, saw 6\\nSkipping line 2067: expected 4 fields, saw 6\\nSkipping line 2079: expected 4 fields, saw 6\\nSkipping line 2090: expected 4 fields, saw 6\\nSkipping line 2092: expected 4 fields, saw 6\\nSkipping line 2096: expected 4 fields, saw 6\\nSkipping line 2103: expected 4 fields, saw 6\\nSkipping line 2115: expected 4 fields, saw 6\\nSkipping line 2125: expected 4 fields, saw 6\\nSkipping line 2129: expected 4 fields, saw 6\\nSkipping line 2132: expected 4 fields, saw 6\\nSkipping line 2138: expected 4 fields, saw 6\\nSkipping line 2141: expected 4 fields, saw 6\\nSkipping line 2142: expected 4 fields, saw 6\\nSkipping line 2143: expected 4 fields, saw 6\\nSkipping line 2172: expected 4 fields, saw 6\\nSkipping line 2179: expected 4 fields, saw 6\\nSkipping line 2201: expected 4 fields, saw 6\\nSkipping line 2202: expected 4 fields, saw 6\\nSkipping line 2213: expected 4 fields, saw 6\\nSkipping line 2253: expected 4 fields, saw 6\\nSkipping line 2268: expected 4 fields, saw 6\\nSkipping line 2330: expected 4 fields, saw 6\\nSkipping line 2371: expected 4 fields, saw 6\\nSkipping line 2408: expected 4 fields, saw 6\\nSkipping line 2409: expected 4 fields, saw 6\\nSkipping line 2422: expected 4 fields, saw 6\\nSkipping line 2426: expected 4 fields, saw 6\\nSkipping line 2427: expected 4 fields, saw 6\\nSkipping line 2428: expected 4 fields, saw 6\\nSkipping line 2429: expected 4 fields, saw 6\\nSkipping line 2430: expected 4 fields, saw 6\\nSkipping line 2431: expected 4 fields, saw 6\\nSkipping line 2456: expected 4 fields, saw 6\\nSkipping line 2492: expected 4 fields, saw 6\\nSkipping line 2504: expected 4 fields, saw 6\\nSkipping line 2635: expected 4 fields, saw 6\\nSkipping line 2679: expected 4 fields, saw 6\\nSkipping line 2750: expected 4 fields, saw 6\\nSkipping line 3132: expected 4 fields, saw 6\\nSkipping line 3133: expected 4 fields, saw 6\\nSkipping line 3179: expected 4 fields, saw 6\\nSkipping line 3182: expected 4 fields, saw 6\\nSkipping line 3546: expected 4 fields, saw 6\\nSkipping line 3667: expected 4 fields, saw 6\\nSkipping line 3674: expected 4 fields, saw 6\\nSkipping line 3740: expected 4 fields, saw 6\\nSkipping line 3766: expected 4 fields, saw 6\\nSkipping line 3778: expected 4 fields, saw 6\\n'\n"
     ]
    },
    {
     "name": "stdout",
     "output_type": "stream",
     "text": [
      "APOSENTADOS-062019.CSV\n",
      "http://repositorio.dados.gov.br/segrt/APOSENTADOS-062019.CSV\n"
     ]
    },
    {
     "name": "stderr",
     "output_type": "stream",
     "text": [
      "b'Skipping line 180: expected 4 fields, saw 6\\nSkipping line 184: expected 4 fields, saw 6\\nSkipping line 192: expected 4 fields, saw 6\\nSkipping line 244: expected 4 fields, saw 6\\nSkipping line 248: expected 4 fields, saw 6\\nSkipping line 252: expected 4 fields, saw 6\\nSkipping line 257: expected 4 fields, saw 6\\nSkipping line 315: expected 4 fields, saw 6\\nSkipping line 317: expected 4 fields, saw 6\\nSkipping line 318: expected 4 fields, saw 6\\nSkipping line 324: expected 4 fields, saw 6\\nSkipping line 348: expected 4 fields, saw 6\\nSkipping line 349: expected 4 fields, saw 6\\nSkipping line 350: expected 4 fields, saw 6\\nSkipping line 357: expected 4 fields, saw 6\\nSkipping line 377: expected 4 fields, saw 6\\nSkipping line 384: expected 4 fields, saw 6\\nSkipping line 418: expected 4 fields, saw 6\\nSkipping line 445: expected 4 fields, saw 6\\nSkipping line 446: expected 4 fields, saw 6\\nSkipping line 517: expected 4 fields, saw 6\\nSkipping line 533: expected 4 fields, saw 6\\nSkipping line 538: expected 4 fields, saw 6\\nSkipping line 539: expected 4 fields, saw 6\\nSkipping line 540: expected 4 fields, saw 6\\nSkipping line 550: expected 4 fields, saw 6\\nSkipping line 968: expected 4 fields, saw 6\\nSkipping line 969: expected 4 fields, saw 6\\nSkipping line 970: expected 4 fields, saw 6\\nSkipping line 978: expected 4 fields, saw 6\\nSkipping line 1243: expected 4 fields, saw 6\\nSkipping line 1378: expected 4 fields, saw 6\\nSkipping line 1379: expected 4 fields, saw 6\\nSkipping line 1427: expected 4 fields, saw 6\\nSkipping line 1428: expected 4 fields, saw 6\\nSkipping line 1459: expected 4 fields, saw 6\\nSkipping line 1466: expected 4 fields, saw 6\\nSkipping line 1505: expected 4 fields, saw 6\\nSkipping line 1518: expected 4 fields, saw 6\\nSkipping line 1559: expected 4 fields, saw 6\\nSkipping line 1586: expected 4 fields, saw 6\\nSkipping line 1589: expected 4 fields, saw 6\\nSkipping line 1615: expected 4 fields, saw 6\\nSkipping line 1726: expected 4 fields, saw 6\\nSkipping line 1727: expected 4 fields, saw 6\\nSkipping line 1729: expected 4 fields, saw 6\\nSkipping line 1752: expected 4 fields, saw 6\\nSkipping line 1768: expected 4 fields, saw 6\\nSkipping line 1772: expected 4 fields, saw 6\\nSkipping line 1784: expected 4 fields, saw 6\\nSkipping line 1789: expected 4 fields, saw 6\\nSkipping line 1793: expected 4 fields, saw 6\\nSkipping line 1796: expected 4 fields, saw 6\\nSkipping line 1797: expected 4 fields, saw 6\\nSkipping line 1814: expected 4 fields, saw 6\\nSkipping line 1823: expected 4 fields, saw 6\\nSkipping line 1839: expected 4 fields, saw 6\\nSkipping line 1856: expected 4 fields, saw 6\\nSkipping line 1888: expected 4 fields, saw 6\\nSkipping line 1905: expected 4 fields, saw 6\\nSkipping line 1906: expected 4 fields, saw 6\\nSkipping line 1952: expected 4 fields, saw 6\\nSkipping line 1958: expected 4 fields, saw 6\\nSkipping line 1959: expected 4 fields, saw 6\\nSkipping line 1962: expected 4 fields, saw 6\\nSkipping line 1963: expected 4 fields, saw 6\\nSkipping line 1979: expected 4 fields, saw 6\\nSkipping line 1984: expected 4 fields, saw 6\\nSkipping line 1985: expected 4 fields, saw 6\\nSkipping line 2046: expected 4 fields, saw 6\\nSkipping line 2053: expected 4 fields, saw 6\\nSkipping line 2059: expected 4 fields, saw 6\\nSkipping line 2060: expected 4 fields, saw 6\\nSkipping line 2061: expected 4 fields, saw 6\\nSkipping line 2069: expected 4 fields, saw 6\\nSkipping line 2087: expected 4 fields, saw 6\\nSkipping line 2088: expected 4 fields, saw 6\\nSkipping line 2089: expected 4 fields, saw 6\\nSkipping line 2091: expected 4 fields, saw 6\\nSkipping line 2149: expected 4 fields, saw 6\\nSkipping line 2160: expected 4 fields, saw 6\\nSkipping line 2340: expected 4 fields, saw 6\\nSkipping line 2341: expected 4 fields, saw 6\\nSkipping line 2360: expected 4 fields, saw 7\\nSkipping line 2361: expected 4 fields, saw 7\\nSkipping line 2367: expected 4 fields, saw 7\\nSkipping line 2410: expected 4 fields, saw 6\\nSkipping line 2684: expected 4 fields, saw 6\\nSkipping line 2708: expected 4 fields, saw 6\\nSkipping line 2997: expected 4 fields, saw 6\\nSkipping line 2998: expected 4 fields, saw 6\\nSkipping line 3144: expected 4 fields, saw 6\\nSkipping line 3167: expected 4 fields, saw 6\\nSkipping line 3207: expected 4 fields, saw 6\\n'\n"
     ]
    },
    {
     "name": "stdout",
     "output_type": "stream",
     "text": [
      "APOSENTADOS-072019.CSV\n",
      "http://repositorio.dados.gov.br/segrt/APOSENTADOS-072019.CSV\n"
     ]
    },
    {
     "name": "stderr",
     "output_type": "stream",
     "text": [
      "b'Skipping line 52: expected 4 fields, saw 7\\nSkipping line 144: expected 4 fields, saw 6\\nSkipping line 145: expected 4 fields, saw 6\\nSkipping line 146: expected 4 fields, saw 6\\nSkipping line 147: expected 4 fields, saw 6\\nSkipping line 148: expected 4 fields, saw 6\\nSkipping line 149: expected 4 fields, saw 6\\nSkipping line 152: expected 4 fields, saw 6\\nSkipping line 156: expected 4 fields, saw 6\\nSkipping line 244: expected 4 fields, saw 6\\nSkipping line 288: expected 4 fields, saw 6\\nSkipping line 298: expected 4 fields, saw 6\\nSkipping line 333: expected 4 fields, saw 6\\nSkipping line 358: expected 4 fields, saw 6\\nSkipping line 401: expected 4 fields, saw 6\\nSkipping line 408: expected 4 fields, saw 6\\nSkipping line 410: expected 4 fields, saw 6\\nSkipping line 425: expected 4 fields, saw 6\\nSkipping line 427: expected 4 fields, saw 6\\nSkipping line 428: expected 4 fields, saw 6\\nSkipping line 429: expected 4 fields, saw 6\\nSkipping line 430: expected 4 fields, saw 6\\nSkipping line 431: expected 4 fields, saw 6\\nSkipping line 434: expected 4 fields, saw 6\\nSkipping line 439: expected 4 fields, saw 6\\nSkipping line 444: expected 4 fields, saw 6\\nSkipping line 449: expected 4 fields, saw 6\\nSkipping line 450: expected 4 fields, saw 6\\nSkipping line 454: expected 4 fields, saw 6\\nSkipping line 1000: expected 4 fields, saw 6\\nSkipping line 1002: expected 4 fields, saw 6\\nSkipping line 1003: expected 4 fields, saw 6\\nSkipping line 1005: expected 4 fields, saw 6\\nSkipping line 1007: expected 4 fields, saw 6\\nSkipping line 1008: expected 4 fields, saw 6\\nSkipping line 1012: expected 4 fields, saw 6\\nSkipping line 1013: expected 4 fields, saw 6\\nSkipping line 1036: expected 4 fields, saw 6\\nSkipping line 1053: expected 4 fields, saw 6\\nSkipping line 1054: expected 4 fields, saw 6\\nSkipping line 1059: expected 4 fields, saw 6\\nSkipping line 1101: expected 4 fields, saw 6\\nSkipping line 1103: expected 4 fields, saw 6\\nSkipping line 1108: expected 4 fields, saw 6\\nSkipping line 1123: expected 4 fields, saw 6\\nSkipping line 1129: expected 4 fields, saw 6\\nSkipping line 1134: expected 4 fields, saw 6\\nSkipping line 1157: expected 4 fields, saw 6\\nSkipping line 1158: expected 4 fields, saw 6\\nSkipping line 1198: expected 4 fields, saw 6\\nSkipping line 1253: expected 4 fields, saw 6\\nSkipping line 1260: expected 4 fields, saw 6\\nSkipping line 1270: expected 4 fields, saw 6\\nSkipping line 1288: expected 4 fields, saw 6\\nSkipping line 1292: expected 4 fields, saw 6\\nSkipping line 1293: expected 4 fields, saw 6\\nSkipping line 1299: expected 4 fields, saw 6\\nSkipping line 1346: expected 4 fields, saw 6\\nSkipping line 1347: expected 4 fields, saw 6\\nSkipping line 1348: expected 4 fields, saw 6\\nSkipping line 1353: expected 4 fields, saw 6\\nSkipping line 1354: expected 4 fields, saw 6\\nSkipping line 1355: expected 4 fields, saw 6\\nSkipping line 1356: expected 4 fields, saw 6\\nSkipping line 1377: expected 4 fields, saw 6\\nSkipping line 1379: expected 4 fields, saw 6\\nSkipping line 1381: expected 4 fields, saw 6\\nSkipping line 1383: expected 4 fields, saw 6\\nSkipping line 1405: expected 4 fields, saw 6\\nSkipping line 1412: expected 4 fields, saw 6\\nSkipping line 1440: expected 4 fields, saw 6\\nSkipping line 1444: expected 4 fields, saw 6\\nSkipping line 1445: expected 4 fields, saw 6\\nSkipping line 1446: expected 4 fields, saw 6\\nSkipping line 1457: expected 4 fields, saw 6\\nSkipping line 1466: expected 4 fields, saw 6\\nSkipping line 1524: expected 4 fields, saw 6\\nSkipping line 1525: expected 4 fields, saw 6\\nSkipping line 1645: expected 4 fields, saw 6\\nSkipping line 1648: expected 4 fields, saw 6\\nSkipping line 1666: expected 4 fields, saw 6\\nSkipping line 1688: expected 4 fields, saw 6\\n'\n"
     ]
    },
    {
     "name": "stdout",
     "output_type": "stream",
     "text": [
      "APOSENTADOS-082019.CSV\n",
      "http://repositorio.dados.gov.br/segrt/APOSENTADOS-082019.CSV\n"
     ]
    },
    {
     "name": "stderr",
     "output_type": "stream",
     "text": [
      "b'Skipping line 229: expected 4 fields, saw 6\\nSkipping line 231: expected 4 fields, saw 6\\nSkipping line 232: expected 4 fields, saw 6\\nSkipping line 233: expected 4 fields, saw 6\\nSkipping line 238: expected 4 fields, saw 6\\nSkipping line 268: expected 4 fields, saw 6\\nSkipping line 284: expected 4 fields, saw 6\\nSkipping line 286: expected 4 fields, saw 6\\nSkipping line 296: expected 4 fields, saw 6\\nSkipping line 297: expected 4 fields, saw 6\\nSkipping line 303: expected 4 fields, saw 6\\nSkipping line 352: expected 4 fields, saw 6\\nSkipping line 355: expected 4 fields, saw 6\\nSkipping line 359: expected 4 fields, saw 6\\nSkipping line 429: expected 4 fields, saw 6\\nSkipping line 430: expected 4 fields, saw 6\\nSkipping line 433: expected 4 fields, saw 6\\nSkipping line 441: expected 4 fields, saw 6\\nSkipping line 466: expected 4 fields, saw 6\\nSkipping line 467: expected 4 fields, saw 6\\nSkipping line 468: expected 4 fields, saw 6\\nSkipping line 479: expected 4 fields, saw 6\\nSkipping line 909: expected 4 fields, saw 6\\nSkipping line 910: expected 4 fields, saw 6\\nSkipping line 911: expected 4 fields, saw 6\\nSkipping line 919: expected 4 fields, saw 6\\nSkipping line 923: expected 4 fields, saw 6\\nSkipping line 928: expected 4 fields, saw 6\\nSkipping line 930: expected 4 fields, saw 6\\nSkipping line 931: expected 4 fields, saw 6\\nSkipping line 932: expected 4 fields, saw 6\\nSkipping line 933: expected 4 fields, saw 6\\nSkipping line 1310: expected 4 fields, saw 6\\nSkipping line 1316: expected 4 fields, saw 6\\nSkipping line 1318: expected 4 fields, saw 6\\nSkipping line 1319: expected 4 fields, saw 6\\nSkipping line 1332: expected 4 fields, saw 6\\nSkipping line 1346: expected 4 fields, saw 6\\nSkipping line 1369: expected 4 fields, saw 6\\nSkipping line 1413: expected 4 fields, saw 6\\nSkipping line 1437: expected 4 fields, saw 6\\nSkipping line 1439: expected 4 fields, saw 6\\nSkipping line 1442: expected 4 fields, saw 6\\nSkipping line 1462: expected 4 fields, saw 6\\nSkipping line 1463: expected 4 fields, saw 6\\nSkipping line 1533: expected 4 fields, saw 6\\nSkipping line 1536: expected 4 fields, saw 6\\nSkipping line 1565: expected 4 fields, saw 6\\nSkipping line 1579: expected 4 fields, saw 6\\nSkipping line 1601: expected 4 fields, saw 6\\nSkipping line 1610: expected 4 fields, saw 6\\nSkipping line 1623: expected 4 fields, saw 6\\nSkipping line 1624: expected 4 fields, saw 6\\nSkipping line 1627: expected 4 fields, saw 6\\nSkipping line 1666: expected 4 fields, saw 6\\nSkipping line 1677: expected 4 fields, saw 6\\nSkipping line 1705: expected 4 fields, saw 6\\nSkipping line 1709: expected 4 fields, saw 6\\nSkipping line 1718: expected 4 fields, saw 6\\nSkipping line 1723: expected 4 fields, saw 6\\nSkipping line 1724: expected 4 fields, saw 6\\nSkipping line 1725: expected 4 fields, saw 6\\nSkipping line 1726: expected 4 fields, saw 6\\nSkipping line 1733: expected 4 fields, saw 6\\nSkipping line 1741: expected 4 fields, saw 6\\nSkipping line 1763: expected 4 fields, saw 6\\nSkipping line 1787: expected 4 fields, saw 6\\nSkipping line 1790: expected 4 fields, saw 6\\nSkipping line 1796: expected 4 fields, saw 6\\nSkipping line 1799: expected 4 fields, saw 6\\nSkipping line 1801: expected 4 fields, saw 6\\nSkipping line 1811: expected 4 fields, saw 6\\nSkipping line 1812: expected 4 fields, saw 6\\nSkipping line 1822: expected 4 fields, saw 6\\nSkipping line 1829: expected 4 fields, saw 6\\nSkipping line 1847: expected 4 fields, saw 6\\nSkipping line 1854: expected 4 fields, saw 6\\nSkipping line 1859: expected 4 fields, saw 6\\nSkipping line 1880: expected 4 fields, saw 6\\nSkipping line 1886: expected 4 fields, saw 6\\nSkipping line 1899: expected 4 fields, saw 6\\nSkipping line 1900: expected 4 fields, saw 6\\nSkipping line 1901: expected 4 fields, saw 6\\nSkipping line 1903: expected 4 fields, saw 6\\nSkipping line 1922: expected 4 fields, saw 6\\nSkipping line 1923: expected 4 fields, saw 6\\nSkipping line 1937: expected 4 fields, saw 6\\nSkipping line 1955: expected 4 fields, saw 6\\nSkipping line 1957: expected 4 fields, saw 6\\nSkipping line 1966: expected 4 fields, saw 6\\nSkipping line 1967: expected 4 fields, saw 6\\nSkipping line 1968: expected 4 fields, saw 6\\nSkipping line 1983: expected 4 fields, saw 6\\nSkipping line 1992: expected 4 fields, saw 6\\nSkipping line 1993: expected 4 fields, saw 6\\nSkipping line 1994: expected 4 fields, saw 6\\nSkipping line 1998: expected 4 fields, saw 6\\nSkipping line 2000: expected 4 fields, saw 6\\nSkipping line 2001: expected 4 fields, saw 6\\nSkipping line 2005: expected 4 fields, saw 6\\nSkipping line 2006: expected 4 fields, saw 6\\nSkipping line 2039: expected 4 fields, saw 6\\nSkipping line 2042: expected 4 fields, saw 6\\nSkipping line 2068: expected 4 fields, saw 6\\nSkipping line 2069: expected 4 fields, saw 6\\nSkipping line 2071: expected 4 fields, saw 6\\nSkipping line 2128: expected 4 fields, saw 6\\nSkipping line 2129: expected 4 fields, saw 6\\nSkipping line 2130: expected 4 fields, saw 6\\nSkipping line 2132: expected 4 fields, saw 6\\nSkipping line 2147: expected 4 fields, saw 6\\nSkipping line 2148: expected 4 fields, saw 6\\nSkipping line 2162: expected 4 fields, saw 6\\nSkipping line 2169: expected 4 fields, saw 6\\nSkipping line 2186: expected 4 fields, saw 6\\nSkipping line 2286: expected 4 fields, saw 6\\nSkipping line 2290: expected 4 fields, saw 6\\nSkipping line 2293: expected 4 fields, saw 6\\nSkipping line 2294: expected 4 fields, saw 6\\nSkipping line 2340: expected 4 fields, saw 5\\nSkipping line 2351: expected 4 fields, saw 6\\nSkipping line 2371: expected 4 fields, saw 7\\nSkipping line 2386: expected 4 fields, saw 6\\nSkipping line 2524: expected 4 fields, saw 6\\nSkipping line 2715: expected 4 fields, saw 6\\nSkipping line 2731: expected 4 fields, saw 6\\nSkipping line 2735: expected 4 fields, saw 6\\nSkipping line 2776: expected 4 fields, saw 6\\nSkipping line 3009: expected 4 fields, saw 6\\nSkipping line 3121: expected 4 fields, saw 6\\nSkipping line 3124: expected 4 fields, saw 6\\nSkipping line 3125: expected 4 fields, saw 6\\nSkipping line 3130: expected 4 fields, saw 6\\nSkipping line 3142: expected 4 fields, saw 6\\nSkipping line 3169: expected 4 fields, saw 6\\n'\n"
     ]
    },
    {
     "name": "stdout",
     "output_type": "stream",
     "text": [
      "APOSENTADOS-092019.CSV\n",
      "http://repositorio.dados.gov.br/segrt/APOSENTADOS-092019.CSV\n"
     ]
    },
    {
     "name": "stderr",
     "output_type": "stream",
     "text": [
      "b'Skipping line 290: expected 4 fields, saw 6\\nSkipping line 291: expected 4 fields, saw 6\\nSkipping line 375: expected 4 fields, saw 6\\nSkipping line 390: expected 4 fields, saw 6\\nSkipping line 419: expected 4 fields, saw 6\\nSkipping line 420: expected 4 fields, saw 6\\nSkipping line 421: expected 4 fields, saw 6\\nSkipping line 442: expected 4 fields, saw 6\\nSkipping line 474: expected 4 fields, saw 6\\nSkipping line 490: expected 4 fields, saw 6\\nSkipping line 503: expected 4 fields, saw 6\\nSkipping line 508: expected 4 fields, saw 6\\nSkipping line 557: expected 4 fields, saw 6\\nSkipping line 575: expected 4 fields, saw 6\\nSkipping line 620: expected 4 fields, saw 6\\nSkipping line 646: expected 4 fields, saw 6\\nSkipping line 650: expected 4 fields, saw 6\\nSkipping line 651: expected 4 fields, saw 6\\nSkipping line 1037: expected 4 fields, saw 6\\nSkipping line 1039: expected 4 fields, saw 6\\nSkipping line 1045: expected 4 fields, saw 6\\nSkipping line 1047: expected 4 fields, saw 6\\nSkipping line 1051: expected 4 fields, saw 6\\nSkipping line 1058: expected 4 fields, saw 6\\nSkipping line 1059: expected 4 fields, saw 6\\nSkipping line 1467: expected 4 fields, saw 6\\nSkipping line 1553: expected 4 fields, saw 6\\nSkipping line 1556: expected 4 fields, saw 6\\nSkipping line 1558: expected 4 fields, saw 6\\nSkipping line 1559: expected 4 fields, saw 6\\nSkipping line 1594: expected 4 fields, saw 6\\nSkipping line 1607: expected 4 fields, saw 6\\nSkipping line 1627: expected 4 fields, saw 6\\nSkipping line 1629: expected 4 fields, saw 6\\nSkipping line 1639: expected 4 fields, saw 6\\nSkipping line 1655: expected 4 fields, saw 6\\nSkipping line 1663: expected 4 fields, saw 6\\nSkipping line 1664: expected 4 fields, saw 6\\nSkipping line 1667: expected 4 fields, saw 6\\nSkipping line 1675: expected 4 fields, saw 6\\nSkipping line 1677: expected 4 fields, saw 6\\nSkipping line 1678: expected 4 fields, saw 6\\nSkipping line 1701: expected 4 fields, saw 6\\nSkipping line 1705: expected 4 fields, saw 6\\nSkipping line 1707: expected 4 fields, saw 6\\nSkipping line 1711: expected 4 fields, saw 6\\nSkipping line 1713: expected 4 fields, saw 6\\nSkipping line 1731: expected 4 fields, saw 6\\nSkipping line 1815: expected 4 fields, saw 6\\nSkipping line 1817: expected 4 fields, saw 6\\nSkipping line 1819: expected 4 fields, saw 6\\nSkipping line 1888: expected 4 fields, saw 6\\nSkipping line 1889: expected 4 fields, saw 6\\nSkipping line 1890: expected 4 fields, saw 6\\nSkipping line 1891: expected 4 fields, saw 6\\nSkipping line 1892: expected 4 fields, saw 6\\nSkipping line 1893: expected 4 fields, saw 6\\nSkipping line 1896: expected 4 fields, saw 6\\nSkipping line 1908: expected 4 fields, saw 6\\nSkipping line 1921: expected 4 fields, saw 6\\nSkipping line 1926: expected 4 fields, saw 6\\nSkipping line 1956: expected 4 fields, saw 6\\nSkipping line 1958: expected 4 fields, saw 6\\nSkipping line 1989: expected 4 fields, saw 6\\nSkipping line 2002: expected 4 fields, saw 6\\nSkipping line 2023: expected 4 fields, saw 6\\nSkipping line 2024: expected 4 fields, saw 6\\nSkipping line 2049: expected 4 fields, saw 6\\nSkipping line 2062: expected 4 fields, saw 6\\nSkipping line 2072: expected 4 fields, saw 6\\nSkipping line 2074: expected 4 fields, saw 6\\nSkipping line 2110: expected 4 fields, saw 6\\nSkipping line 2125: expected 4 fields, saw 6\\nSkipping line 2137: expected 4 fields, saw 6\\nSkipping line 2157: expected 4 fields, saw 6\\nSkipping line 2171: expected 4 fields, saw 6\\nSkipping line 2172: expected 4 fields, saw 6\\nSkipping line 2173: expected 4 fields, saw 6\\nSkipping line 2174: expected 4 fields, saw 6\\nSkipping line 2177: expected 4 fields, saw 6\\nSkipping line 2178: expected 4 fields, saw 6\\nSkipping line 2226: expected 4 fields, saw 6\\nSkipping line 2237: expected 4 fields, saw 6\\nSkipping line 2259: expected 4 fields, saw 6\\nSkipping line 2264: expected 4 fields, saw 6\\nSkipping line 2266: expected 4 fields, saw 6\\nSkipping line 2267: expected 4 fields, saw 6\\nSkipping line 2276: expected 4 fields, saw 6\\nSkipping line 2278: expected 4 fields, saw 6\\nSkipping line 2283: expected 4 fields, saw 6\\nSkipping line 2284: expected 4 fields, saw 6\\nSkipping line 2285: expected 4 fields, saw 6\\nSkipping line 2319: expected 4 fields, saw 6\\nSkipping line 2336: expected 4 fields, saw 6\\nSkipping line 2337: expected 4 fields, saw 6\\nSkipping line 2352: expected 4 fields, saw 6\\nSkipping line 2355: expected 4 fields, saw 6\\nSkipping line 2357: expected 4 fields, saw 6\\nSkipping line 2363: expected 4 fields, saw 6\\nSkipping line 2369: expected 4 fields, saw 6\\nSkipping line 2410: expected 4 fields, saw 6\\nSkipping line 2434: expected 4 fields, saw 6\\nSkipping line 2435: expected 4 fields, saw 6\\nSkipping line 2477: expected 4 fields, saw 6\\nSkipping line 2478: expected 4 fields, saw 6\\nSkipping line 2484: expected 4 fields, saw 6\\nSkipping line 2569: expected 4 fields, saw 6\\nSkipping line 2570: expected 4 fields, saw 6\\nSkipping line 2574: expected 4 fields, saw 6\\nSkipping line 2576: expected 4 fields, saw 6\\nSkipping line 2606: expected 4 fields, saw 6\\nSkipping line 2651: expected 4 fields, saw 6\\nSkipping line 2709: expected 4 fields, saw 6\\nSkipping line 2882: expected 4 fields, saw 6\\nSkipping line 3017: expected 4 fields, saw 6\\nSkipping line 3045: expected 4 fields, saw 6\\nSkipping line 3059: expected 4 fields, saw 6\\nSkipping line 3370: expected 4 fields, saw 6\\nSkipping line 3371: expected 4 fields, saw 6\\nSkipping line 3378: expected 4 fields, saw 6\\nSkipping line 3381: expected 4 fields, saw 6\\nSkipping line 3418: expected 4 fields, saw 6\\nSkipping line 3494: expected 4 fields, saw 6\\n'\n"
     ]
    }
   ],
   "source": [
    "for y in years:\n",
    "  for m in months:\n",
    "    filename = apos_name_prefix+str(m)+str(y)+'.CSV'\n",
    "    url = abono_name_base+filename\n",
    "    \n",
    "    #try: #the .csv files goes until 2020-08\n",
    "    try:\n",
    "        urllib.request.urlretrieve(url, 'data/'+filename)        \n",
    "        print(filename)\n",
    "        print(url)        \n",
    "        table = pd.read_csv(url, encoding = \"ISO-8859-1\", error_bad_lines=False)\n",
    "        tables.append(table)\n",
    "    except:\n",
    "        pass    \n",
    "        \n",
    "    #except:\n",
    "    #pass   \n",
    "#http://repositorio.dados.gov.br/segrt/aposentados.052017.csv"
   ]
  },
  {
   "cell_type": "code",
   "execution_count": null,
   "metadata": {},
   "outputs": [],
   "source": []
  }
 ],
 "metadata": {
  "kernelspec": {
   "display_name": "Python 3",
   "language": "python",
   "name": "python3"
  },
  "language_info": {
   "codemirror_mode": {
    "name": "ipython",
    "version": 3
   },
   "file_extension": ".py",
   "mimetype": "text/x-python",
   "name": "python",
   "nbconvert_exporter": "python",
   "pygments_lexer": "ipython3",
   "version": "3.7.3"
  }
 },
 "nbformat": 4,
 "nbformat_minor": 4
}
